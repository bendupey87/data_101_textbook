{
 "cells": [
  {
   "cell_type": "markdown",
   "id": "74ce5998",
   "metadata": {},
   "source": [
    "# **Data 101**\n",
    "### A framwork for solving analytical problems with Python."
   ]
  }
 ],
 "metadata": {},
 "nbformat": 4,
 "nbformat_minor": 5
}
