{
 "cells": [
  {
   "cell_type": "markdown",
   "id": "e4fafa4b",
   "metadata": {},
   "source": [
    "# **Chapter 1: Basic Python Usage for Data Exploration & Manipulation**"
   ]
  },
  {
   "cell_type": "markdown",
   "id": "1f4465e9",
   "metadata": {},
   "source": [
    "###  **Introduction**"
   ]
  },
  {
   "cell_type": "markdown",
   "id": "254697ab",
   "metadata": {},
   "source": [
    "This chapter explores some of the basic, everyday functions that I use in my role as a data analyst. This is a framework that is time-proven and effective in exploring and manipluting datasets. The following tools, libraries, and methodologies will get you started in performing exploratory data analysis on live data sets. "
   ]
  },
  {
   "cell_type": "markdown",
   "id": "9519d9ee",
   "metadata": {},
   "source": [
    "## **1.1: Basic Import Statements**"
   ]
  },
  {
   "cell_type": "markdown",
   "id": "2e1fdb9d",
   "metadata": {},
   "source": [
    "```python\n",
    "# Pandas - For Data Manipulation\n",
    "import pandas as pd \n",
    "# Numpy - For Linear Algebra and Other Mathematics\n",
    "import numpy as np \n",
    "# Matplotlib - For plotting graphs. \n",
    "import matplotlib.pyplot as plt \n",
    "```"
   ]
  },
  {
   "cell_type": "markdown",
   "id": "191ab0ca",
   "metadata": {},
   "source": [
    "## **1.2: Pandas DataFrame - Basics**"
   ]
  },
  {
   "cell_type": "markdown",
   "id": "b4a80a50",
   "metadata": {},
   "source": [
    "### **Creating a DataFrame**"
   ]
  },
  {
   "cell_type": "markdown",
   "id": "c14e4520",
   "metadata": {},
   "source": [
    "This guide covers the most common operations you'll use with pandas DataFrames.\n",
    "```python\n",
    "# Import Statement for Pandas:\n",
    "import pandas as pd\n",
    "\n",
    "# Creating data that we will convert to a \n",
    "# Pandas DataFrame object.\n",
    "data = {\n",
    "    \"Student\": [\"Alice\", \"Ben\", \"Carlos\"],\n",
    "    \"GPA\": [3.5, 3.8, 3.2],\n",
    "    \"Credits\": [45, 60, 30]\n",
    "}\n",
    "\n",
    "df = pd.DataFrame(data)\n",
    "\n",
    "# Displaying the df\n",
    "display(df)\n",
    "```"
   ]
  },
  {
   "cell_type": "markdown",
   "id": "ef81b213",
   "metadata": {},
   "source": [
    "### **Inspecting Data**"
   ]
  },
  {
   "cell_type": "markdown",
   "id": "2e4925ca",
   "metadata": {},
   "source": [
    "```python\n",
    "# View the first 5 rows\n",
    "display(df.head())\n",
    "\n",
    "# .head() defaults to 5 rows. \n",
    "# If you want to view the first x rows, just insert the number of rows you would like \n",
    "# to view into the parenthesis. For example, if you want to view the first 7 rows\n",
    "# of the DataFrame, just execute the following command:\n",
    "display(df.head(7))\n",
    "\n",
    "# Get basic info about the DataFrame (Non Null counts per column and datatype of each column.)\n",
    "print(df.info())\n",
    "\n",
    "# Summary statistics\n",
    "print(df.describe())\n",
    "```\n"
   ]
  },
  {
   "cell_type": "markdown",
   "id": "d862306c",
   "metadata": {},
   "source": [
    "### **Selecting Data**"
   ]
  },
  {
   "cell_type": "markdown",
   "id": "9a7e2123",
   "metadata": {},
   "source": [
    "```python\n",
    "# Select a column\n",
    "print(df[\"GPA\"])\n",
    "\n",
    "# Select multiple columns\n",
    "print(df[[\"Student\", \"Credits\"]])\n",
    "```"
   ]
  },
  {
   "cell_type": "markdown",
   "id": "8043b983",
   "metadata": {},
   "source": [
    "### **Selecting Data with iloc**"
   ]
  },
  {
   "cell_type": "markdown",
   "id": "33aae522",
   "metadata": {},
   "source": [
    "```python\n",
    "# .iloc is not a column or a stored attribute of the DataFrame — it is an \n",
    "# indexer object that lets you select data by integer position (row and \n",
    "# column numbers).\n",
    "\n",
    "# You always call it with square brackets [], and you can pass it one \n",
    "# or two arguments:\n",
    "\n",
    "# General form:\n",
    "df.iloc[row_index, column_index]\n",
    "\n",
    "```\n",
    "\n",
    "- Row index (first argument):\n",
    "\n",
    "    - Single integer → returns a row.\n",
    "\n",
    "    - Slice (`0:3`) → returns multiple rows.\n",
    "\n",
    "    - List of integers ([0, 2]) → returns multiple rows.\n",
    "\n",
    "- Column index (second argument, optional):\n",
    "\n",
    "    - Works the same way as row index but applies to columns.\n",
    "\n",
    "    - If you leave it out, you get the whole row.\n",
    "\n",
    "**Examples:**\n",
    "\n",
    "```python\n",
    "print(df.iloc[0])               # First row (row index 0)\n",
    "print(df.iloc[0, 1])            # First row, second column (integer positions)\n",
    "print(df.iloc[0:2, 0:2])        # First two rows and first two columns\n",
    "print(df.iloc[[0, 2], [1, 2]])  # Specific rows and columns\n",
    "``` \n",
    "\n",
    "Selecting Data from Pandas DataFrame objects:\n",
    "\n",
    "```python\n",
    "# Select by integer location (iloc)\n",
    "# iloc uses \"integer-location based indexing\"\n",
    "# It only works with row/column numbers (not labels).\n",
    "# Remember: Python uses 0-based indexing.\n",
    "print(df.iloc[0])        # Entire first row (row index 0)\n",
    "print(df.iloc[0, 1])     # Value at first row, second column (GPA of Alice)\n",
    "```\n"
   ]
  },
  {
   "cell_type": "markdown",
   "id": "673ec75b",
   "metadata": {},
   "source": [
    "### **Select by label with loc**\n"
   ]
  },
  {
   "cell_type": "markdown",
   "id": "042e4a3f",
   "metadata": {},
   "source": [
    "```python\n",
    "# loc uses labels instead of integer positions.\n",
    "print(df.loc[0, \"Student\"])  # Student name in row with index label 0\n",
    "\n",
    "```"
   ]
  },
  {
   "cell_type": "markdown",
   "id": "33ae5e43",
   "metadata": {},
   "source": [
    "### **Filtering Data**"
   ]
  },
  {
   "cell_type": "markdown",
   "id": "2beeff09",
   "metadata": {},
   "source": [
    "If we want to filter a Pandas DataFrame on a condition, we must first define that condition. For example, let's say that we want to filter a DataFrame of students down to only students that have a GPA greater than 3.5. \n",
    "\n",
    "The contition, in pseudocode, would be `df[GPA] > 3.5`. We can define the condition as follows, in Python: \n",
    "\n",
    "```python\n",
    "condition = df['GPA'] > 3.5\n",
    "```\n",
    "Now, to filter the DataFrame by that position, we can simply insert it as a \"Column Name\" into the DataFrame. And Pandas will know to only return rows where that condition is true: \n",
    "```python\n",
    "# Displaying the rows with a GPA > 3.5\n",
    "display(df[condition])\n",
    "```\n",
    "We can also filter on multiple conditions. For instance, let's say we want to filter the DataFrame to rows that only have a GPA greater than 3.5 (out last condition) **and** where credits are > 50.\n",
    "\n",
    "To accomplish this, you simply have to perform the following steps: \n",
    "\n",
    "**Step 1**: Define your 2 conditions\n",
    "```python\n",
    "gpa_condition = df['GPA'] > 3.5\n",
    "credits_condition = df['Credits'] > 50\n",
    "```\n",
    "**Step 2** Insert your conditions in square brackets, immediately after your dataframe object. Make sure to seperate your conditions by `&`. \n",
    "```python\n",
    "# Displaying rows with GPA > 3.5 and credits > 50 \n",
    "display(df[gpa_condition & credits_condition])\n",
    "```\n",
    "\n",
    "Side Note: `Logical operators` in Python will be discussed later in these notes. They're pretty easy to learn and you can do some very cool things with them! "
   ]
  },
  {
   "cell_type": "markdown",
   "id": "7f2fd700",
   "metadata": {},
   "source": [
    "### **Adding and Modifying Columns**"
   ]
  },
  {
   "cell_type": "markdown",
   "id": "df6ad070",
   "metadata": {},
   "source": [
    "To add a new column of a DataFrame, you simply define your new column name in square brackets [] on the DataFrame and assign values to it.\n",
    "\n",
    "```python\n",
    "# Add a new column\n",
    "df[\"Graduated\"] = [False, False, False]\n",
    "\n",
    "# Modify an existing column\n",
    "df[\"GPA\"] = df[\"GPA\"] * 1.05\n",
    "```\n"
   ]
  },
  {
   "cell_type": "markdown",
   "id": "c804e0e6",
   "metadata": {},
   "source": [
    "### **Sorting Data**"
   ]
  },
  {
   "cell_type": "markdown",
   "id": "4befce5f",
   "metadata": {},
   "source": [
    "```python\n",
    "# Sort by GPA descending\n",
    "print(df.sort_values(by=\"GPA\", ascending=False))\n",
    "```\n"
   ]
  },
  {
   "cell_type": "markdown",
   "id": "323ed521",
   "metadata": {},
   "source": [
    "### **Grouping and Aggregating**"
   ]
  },
  {
   "cell_type": "markdown",
   "id": "69f53093",
   "metadata": {},
   "source": [
    "```python\n",
    "# Example with grouping (pretend we have majors)\n",
    "df[\"Major\"] = [\"Math\", \"Math\", \"History\"]\n",
    "print(df.groupby(\"Major\")[\"GPA\"].mean())\n",
    "```"
   ]
  },
  {
   "cell_type": "markdown",
   "id": "35ddf5c4",
   "metadata": {},
   "source": [
    "### **Saving and Loading Data**"
   ]
  },
  {
   "cell_type": "markdown",
   "id": "b07f1318",
   "metadata": {},
   "source": [
    "```python\n",
    "# Save to CSV\n",
    "df.to_csv(\"students.csv\", index=False)\n",
    "# Note: Index=False will not add an index (row counting) row to your export.\n",
    "\n",
    "# Load from CSV\n",
    "df2 = pd.read_csv(\"students.csv\")\n",
    "print(df2)\n",
    "\n",
    "# Save to Excel\n",
    "df.to_excel(\"students.xlsx\", index=False)\n",
    "\n",
    "# Load from Excel\n",
    "df2 = pd.read_excel(\"students.xlsx\")\n",
    "print(df2)\n",
    "```"
   ]
  },
  {
   "cell_type": "markdown",
   "id": "5a729d89",
   "metadata": {},
   "source": [
    "### **Finding the Size (Number of Columns / Rows) of a df**"
   ]
  },
  {
   "cell_type": "markdown",
   "id": "224c4e40",
   "metadata": {},
   "source": [
    "```python\n",
    "# Shape of the DataFrame (rows, columns)\n",
    "display(df.shape)      # e.g. (3, 3)\n",
    "\n",
    "# Number of rows\n",
    "display(len(df))       # e.g. 3\n",
    "display(df.shape[0])   # also gives 3\n",
    "\n",
    "# Number of columns\n",
    "display(len(df.columns))  # e.g. 3\n",
    "display(df.shape[1])      # also gives 3\n",
    "```"
   ]
  },
  {
   "cell_type": "markdown",
   "id": "a90b9d94",
   "metadata": {},
   "source": [
    "## **1.3: Python Functions for Data Manipulation**"
   ]
  },
  {
   "cell_type": "markdown",
   "id": "4c43b090",
   "metadata": {},
   "source": [
    "Python provides built-in functions and external libraries (like NumPy) to help with data \n",
    "manipulation and basic statistical analysis. Below are some of the most common tools \n",
    "you'll use."
   ]
  },
  {
   "cell_type": "markdown",
   "id": "033186d7",
   "metadata": {},
   "source": [
    "### Built-in Functions"
   ]
  },
  {
   "cell_type": "markdown",
   "id": "a4c30cc5",
   "metadata": {},
   "source": [
    "#### Summation and Length"
   ]
  },
  {
   "cell_type": "markdown",
   "id": "56bbfce4",
   "metadata": {},
   "source": [
    "```python\n",
    "numbers = [2, 4, 6, 8, 10]\n",
    "\n",
    "print(sum(numbers))  # 30\n",
    "print(len(numbers))  # 5\n",
    "```"
   ]
  },
  {
   "cell_type": "markdown",
   "id": "11f23085",
   "metadata": {},
   "source": [
    "#### Minimum and Maximum"
   ]
  },
  {
   "cell_type": "markdown",
   "id": "65f1ab0b",
   "metadata": {},
   "source": [
    "```python\n",
    "print(min(numbers))  # 2\n",
    "print(max(numbers))  # 10\n",
    "```"
   ]
  },
  {
   "cell_type": "markdown",
   "id": "03de3263",
   "metadata": {},
   "source": [
    "#### Average (using built-in)"
   ]
  },
  {
   "cell_type": "markdown",
   "id": "ee8dd27b",
   "metadata": {},
   "source": [
    "```python\n",
    "average = sum(numbers) / len(numbers)\n",
    "print(average)  # 6.0\n",
    "```"
   ]
  },
  {
   "cell_type": "markdown",
   "id": "9454c1d5",
   "metadata": {},
   "source": [
    "### Using the `statistics` Module"
   ]
  },
  {
   "cell_type": "markdown",
   "id": "77d0f511",
   "metadata": {},
   "source": [
    "Python’s built-in `statistics` library provides more descriptive statistics.\n",
    "\n",
    "```python\n",
    "import statistics as stats\n",
    "\n",
    "data = [1, 2, 2, 3, 4, 7, 9]\n",
    "\n",
    "print(stats.mean(data))      # Average\n",
    "print(stats.median(data))    # Middle value\n",
    "print(stats.mode(data))      # Most common value\n",
    "print(stats.stdev(data))     # Standard deviation\n",
    "```\n"
   ]
  },
  {
   "cell_type": "markdown",
   "id": "67e78224",
   "metadata": {},
   "source": [
    "### Using NumPy"
   ]
  },
  {
   "cell_type": "markdown",
   "id": "3467b1e0",
   "metadata": {},
   "source": [
    "NumPy is a powerful library for numerical computing. It is often used for \n",
    "summary statistics and array manipulations.\n",
    "\n",
    "```python\n",
    "import numpy as np\n",
    "\n",
    "arr = np.array([1, 2, 3, 4, 5, 6, 7, 8, 9])\n",
    "\n",
    "print(np.mean(arr))   # Average\n",
    "print(np.median(arr)) # Median\n",
    "print(np.std(arr))    # Standard deviation\n",
    "print(np.var(arr))    # Variance\n",
    "```"
   ]
  },
  {
   "cell_type": "markdown",
   "id": "c8440a9b",
   "metadata": {},
   "source": [
    "### Five Number Summary (NumPy)"
   ]
  },
  {
   "cell_type": "markdown",
   "id": "5a20b45a",
   "metadata": {},
   "source": [
    "The five number summary includes: **minimum, Q1, median, Q3, maximum**.\n",
    "\n",
    "```python\n",
    "data = np.array([7, 8, 5, 6, 3, 4, 9, 2, 1])\n",
    "\n",
    "five_num = {\n",
    "    \"min\": np.min(data),\n",
    "    \"Q1\": np.percentile(data, 25),\n",
    "    \"median\": np.median(data),\n",
    "    \"Q3\": np.percentile(data, 75),\n",
    "    \"max\": np.max(data)\n",
    "}\n",
    "\n",
    "print(five_num)\n",
    "```"
   ]
  },
  {
   "cell_type": "markdown",
   "id": "3ace6dd8",
   "metadata": {},
   "source": [
    "### Rounding and Aggregation"
   ]
  },
  {
   "cell_type": "markdown",
   "id": "5a6a1bb2",
   "metadata": {},
   "source": [
    "```python\n",
    "values = [3.14159, 2.71828, 1.61803]\n",
    "\n",
    "# Round to 2 decimal places\n",
    "rounded = [round(v, 2) for v in values]\n",
    "print(rounded)  # [3.14, 2.72, 1.62]\n",
    "```"
   ]
  },
  {
   "cell_type": "markdown",
   "id": "5b568224",
   "metadata": {},
   "source": [
    "### Group By (Frequency Tables)"
   ]
  },
  {
   "cell_type": "markdown",
   "id": "4865964d",
   "metadata": {},
   "source": [
    "The groupby() function in pandas is a powerful way to create frequency tables and perform aggregations. It allows you to split a dataset into groups based on a categorical variable (e.g., Gender, Eye Color), and then apply a calculation (such as mean, count, or sum) within each group.\n",
    "\n",
    "This is especially useful when you want to compute summary statistics (e.g., average age by gender) or generate frequency distributions of categorical data."
   ]
  },
  {
   "cell_type": "code",
   "execution_count": 42,
   "id": "c57a265b",
   "metadata": {},
   "outputs": [
    {
     "data": {
      "text/plain": [
       "'Demographics Table:'"
      ]
     },
     "metadata": {},
     "output_type": "display_data"
    },
    {
     "data": {
      "application/vnd.microsoft.datawrangler.viewer.v0+json": {
       "columns": [
        {
         "name": "index",
         "rawType": "int64",
         "type": "integer"
        },
        {
         "name": "Age",
         "rawType": "int64",
         "type": "integer"
        },
        {
         "name": "Gender",
         "rawType": "object",
         "type": "string"
        },
        {
         "name": "Eye Color",
         "rawType": "object",
         "type": "string"
        }
       ],
       "ref": "643d72cb-03cc-42cb-8760-8ae70a873391",
       "rows": [
        [
         "0",
         "22",
         "m",
         "blue"
        ],
        [
         "1",
         "27",
         "f",
         "green"
        ],
        [
         "2",
         "30",
         "f",
         "blue"
        ]
       ],
       "shape": {
        "columns": 3,
        "rows": 3
       }
      },
      "text/html": [
       "<div>\n",
       "<style scoped>\n",
       "    .dataframe tbody tr th:only-of-type {\n",
       "        vertical-align: middle;\n",
       "    }\n",
       "\n",
       "    .dataframe tbody tr th {\n",
       "        vertical-align: top;\n",
       "    }\n",
       "\n",
       "    .dataframe thead th {\n",
       "        text-align: right;\n",
       "    }\n",
       "</style>\n",
       "<table border=\"1\" class=\"dataframe\">\n",
       "  <thead>\n",
       "    <tr style=\"text-align: right;\">\n",
       "      <th></th>\n",
       "      <th>Age</th>\n",
       "      <th>Gender</th>\n",
       "      <th>Eye Color</th>\n",
       "    </tr>\n",
       "  </thead>\n",
       "  <tbody>\n",
       "    <tr>\n",
       "      <th>0</th>\n",
       "      <td>22</td>\n",
       "      <td>m</td>\n",
       "      <td>blue</td>\n",
       "    </tr>\n",
       "    <tr>\n",
       "      <th>1</th>\n",
       "      <td>27</td>\n",
       "      <td>f</td>\n",
       "      <td>green</td>\n",
       "    </tr>\n",
       "    <tr>\n",
       "      <th>2</th>\n",
       "      <td>30</td>\n",
       "      <td>f</td>\n",
       "      <td>blue</td>\n",
       "    </tr>\n",
       "  </tbody>\n",
       "</table>\n",
       "</div>"
      ],
      "text/plain": [
       "   Age Gender Eye Color\n",
       "0   22      m      blue\n",
       "1   27      f     green\n",
       "2   30      f      blue"
      ]
     },
     "metadata": {},
     "output_type": "display_data"
    },
    {
     "data": {
      "text/plain": [
       "'Average Age by Gender Table:'"
      ]
     },
     "metadata": {},
     "output_type": "display_data"
    },
    {
     "data": {
      "application/vnd.microsoft.datawrangler.viewer.v0+json": {
       "columns": [
        {
         "name": "Gender",
         "rawType": "object",
         "type": "string"
        },
        {
         "name": "Age",
         "rawType": "float64",
         "type": "float"
        }
       ],
       "ref": "1a4e5a4a-d22b-4177-ae1a-555866b024f7",
       "rows": [
        [
         "f",
         "28.5"
        ],
        [
         "m",
         "22.0"
        ]
       ],
       "shape": {
        "columns": 1,
        "rows": 2
       }
      },
      "text/plain": [
       "Gender\n",
       "f    28.5\n",
       "m    22.0\n",
       "Name: Age, dtype: float64"
      ]
     },
     "metadata": {},
     "output_type": "display_data"
    }
   ],
   "source": [
    "import pandas as pd\n",
    "\n",
    "# Create a small dataset with Age, Gender, and Eye Color\n",
    "data = {\n",
    "    'Age': [22, 27, 30],\n",
    "    'Gender': ['m', 'f', 'f'],\n",
    "    'Eye Color': ['blue', 'green', 'blue']\n",
    "}\n",
    "\n",
    "# Convert the dictionary into a pandas DataFrame\n",
    "demographics = pd.DataFrame(data)\n",
    "\n",
    "# Display the full demographics table\n",
    "display(\"Demographics Table:\")\n",
    "display(demographics)\n",
    "\n",
    "# Group the data by Gender and calculate the average Age for each group\n",
    "avg_age_by_gender = demographics.groupby('Gender')['Age'].mean()\n",
    "\n",
    "# Display the aggregated table (average Age by Gender)\n",
    "display(\"Average Age by Gender Table:\")\n",
    "display(avg_age_by_gender)\n",
    "\n",
    "# The average age for females in our sample data is higher\n",
    "# than the average age of males. "
   ]
  },
  {
   "cell_type": "markdown",
   "id": "25545230",
   "metadata": {},
   "source": [
    "### Summary"
   ]
  },
  {
   "cell_type": "markdown",
   "id": "672a7ded",
   "metadata": {},
   "source": [
    "- Built-in Python functions: `sum()`, `len()`, `min()`, `max()`, `round()`  \n",
    "- `statistics` module: `mean()`, `median()`, `mode()`, `stdev()`  \n",
    "- NumPy: `mean()`, `median()`, `std()`, `var()`, `percentile()`  \n",
    "- Use these tools to quickly compute descriptive statistics and manipulate data arrays."
   ]
  },
  {
   "cell_type": "markdown",
   "id": "069c9611",
   "metadata": {},
   "source": [
    "## **1.4: Python Data Types**"
   ]
  },
  {
   "cell_type": "markdown",
   "id": "705f5fac",
   "metadata": {},
   "source": [
    "Python has several built-in data types that are commonly used for data analysis and programming. \n",
    "Below is a summary of the most important ones, along with examples."
   ]
  },
  {
   "cell_type": "markdown",
   "id": "71b52453",
   "metadata": {},
   "source": [
    "### Numeric Types"
   ]
  },
  {
   "cell_type": "markdown",
   "id": "8d1cccf0",
   "metadata": {},
   "source": [
    "#### Integers (`int`)"
   ]
  },
  {
   "cell_type": "markdown",
   "id": "48d79dbe",
   "metadata": {},
   "source": [
    "Whole numbers, positive or negative, without a decimal point.\n",
    "\n",
    "```python\n",
    "x = 10\n",
    "y = -3\n",
    "print(type(x))  # <class 'int'>\n",
    "```"
   ]
  },
  {
   "cell_type": "markdown",
   "id": "3cfeeda1",
   "metadata": {},
   "source": [
    "#### Floating-Point Numbers (`float`)"
   ]
  },
  {
   "cell_type": "markdown",
   "id": "6410fc55",
   "metadata": {},
   "source": [
    "Numbers that contain a decimal point.\n",
    "\n",
    "```python\n",
    "pi = 3.14159\n",
    "temperature = -5.6\n",
    "print(type(pi))  # <class 'float'>\n",
    "```"
   ]
  },
  {
   "cell_type": "markdown",
   "id": "53263bae",
   "metadata": {},
   "source": [
    "#### Complex Numbers (`complex`)"
   ]
  },
  {
   "cell_type": "markdown",
   "id": "b105d2a0",
   "metadata": {},
   "source": [
    "Numbers with a real and imaginary part.\n",
    "\n",
    "```python\n",
    "z = 2 + 3j\n",
    "print(type(z))  # <class 'complex'>\n",
    "```"
   ]
  },
  {
   "cell_type": "markdown",
   "id": "b3ee9e6e",
   "metadata": {},
   "source": [
    "### Text Types"
   ]
  },
  {
   "cell_type": "markdown",
   "id": "7f1dcfdc",
   "metadata": {},
   "source": [
    "#### Strings (`str`)"
   ]
  },
  {
   "cell_type": "markdown",
   "id": "95c09832",
   "metadata": {},
   "source": [
    "Sequences of characters enclosed in quotes.\n",
    "\n",
    "```python\n",
    "name = \"Alice\"\n",
    "greeting = 'Hello, World!'\n",
    "print(type(name))  # <class 'str'>\n",
    "```"
   ]
  },
  {
   "cell_type": "markdown",
   "id": "613d7d0a",
   "metadata": {},
   "source": [
    "### Sequence Types"
   ]
  },
  {
   "cell_type": "markdown",
   "id": "f54808a0",
   "metadata": {},
   "source": [
    "#### Lists (`list`)"
   ]
  },
  {
   "cell_type": "markdown",
   "id": "6336f53b",
   "metadata": {},
   "source": [
    "Ordered, mutable collections of items.\n",
    "\n",
    "```python\n",
    "fruits = [\"apple\", \"banana\", \"cherry\"]\n",
    "fruits.append(\"date\")\n",
    "print(fruits)\n",
    "```"
   ]
  },
  {
   "cell_type": "markdown",
   "id": "9838fb64",
   "metadata": {},
   "source": [
    "#### Tuples (`tuple`)"
   ]
  },
  {
   "cell_type": "markdown",
   "id": "9105fe53",
   "metadata": {},
   "source": [
    "Ordered, immutable collections of items.\n",
    "\n",
    "```python\n",
    "coordinates = (4, 5)\n",
    "print(coordinates[0])  # 4\n",
    "```"
   ]
  },
  {
   "cell_type": "markdown",
   "id": "02c37ae6",
   "metadata": {},
   "source": [
    "#### Ranges (`range`)"
   ]
  },
  {
   "cell_type": "markdown",
   "id": "7e27773d",
   "metadata": {},
   "source": [
    "Represents a sequence of numbers, commonly used in loops.\n",
    "\n",
    "```python\n",
    "for i in range(3):\n",
    "    print(i)  # 0, 1, 2\n",
    "```"
   ]
  },
  {
   "cell_type": "markdown",
   "id": "c38cfcb8",
   "metadata": {},
   "source": [
    "### Dictionaries (`dict`)"
   ]
  },
  {
   "cell_type": "markdown",
   "id": "0619f097",
   "metadata": {},
   "source": [
    "#### Mapping Types"
   ]
  },
  {
   "cell_type": "markdown",
   "id": "b5f5bcd2",
   "metadata": {},
   "source": [
    "Collections of key-value pairs.\n",
    "\n",
    "```python\n",
    "student = {\"name\": \"Alice\", \"age\": 20, \"GPA\": 3.8}\n",
    "print(student[\"name\"])  # Alice\n",
    "```\n"
   ]
  },
  {
   "cell_type": "markdown",
   "id": "902c02a6",
   "metadata": {},
   "source": [
    "### Boolean Type"
   ]
  },
  {
   "cell_type": "markdown",
   "id": "b5f7fc3f",
   "metadata": {},
   "source": [
    "#### Booleans (`bool`)\n",
    "Represents `True` or `False` values.\n",
    "\n",
    "```python\n",
    "is_student = True\n",
    "has_graduated = False\n",
    "print(type(is_student))  # <class 'bool'>\n",
    "```"
   ]
  },
  {
   "cell_type": "markdown",
   "id": "01be24ad",
   "metadata": {},
   "source": [
    "### None Type"
   ]
  },
  {
   "cell_type": "markdown",
   "id": "2a002356",
   "metadata": {},
   "source": [
    "#### None (`NoneType`)\n",
    "Represents the absence of a value.\n",
    "\n",
    "```python\n",
    "result = None\n",
    "print(type(result))  # <class 'NoneType'>\n",
    "```\n"
   ]
  },
  {
   "cell_type": "markdown",
   "id": "d933ac5b",
   "metadata": {},
   "source": [
    "### Summary"
   ]
  },
  {
   "cell_type": "markdown",
   "id": "e4fa176e",
   "metadata": {},
   "source": [
    "- **Numeric types**: `int`, `float`, `complex`\n",
    "- **Text type**: `str`\n",
    "- **Sequence types**: `list`, `tuple`, `range`\n",
    "- **Mapping type**: `dict`\n",
    "- **Set types**: `set`, `frozenset`\n",
    "- **Boolean type**: `bool`\n",
    "- **Special type**: `NoneType`"
   ]
  },
  {
   "cell_type": "markdown",
   "id": "a50e1042",
   "metadata": {},
   "source": [
    "\n",
    "\n",
    "\n",
    "\n",
    "\n",
    "---\n",
    "\n",
    "\n",
    "\n",
    "\n",
    "---\n",
    "\n",
    "\n",
    "\n",
    "\n",
    "\n",
    "Understanding these basic data types is essential before working with libraries like pandas and NumPy.\n"
   ]
  },
  {
   "cell_type": "code",
   "execution_count": null,
   "id": "b806a2d2",
   "metadata": {},
   "outputs": [],
   "source": []
  }
 ],
 "metadata": {},
 "nbformat": 4,
 "nbformat_minor": 5
}