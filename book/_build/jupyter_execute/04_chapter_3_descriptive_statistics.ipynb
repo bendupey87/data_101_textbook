{
 "cells": [
  {
   "cell_type": "markdown",
   "id": "5fd808ba",
   "metadata": {},
   "source": [
    "# **Chapter 3: Descriptive Statistics**"
   ]
  },
  {
   "cell_type": "markdown",
   "id": "2a3ec603",
   "metadata": {},
   "source": [
    "## **Introduction**"
   ]
  },
  {
   "cell_type": "markdown",
   "id": "fbb751bf",
   "metadata": {},
   "source": [
    "This chapter focuses on data exploration and descriptive statistics. Descriptive statistics allow us to understand, summarize, and visualize the characteristics of a dataset before applying more complex models."
   ]
  },
  {
   "cell_type": "markdown",
   "id": "4055caa3",
   "metadata": {},
   "source": [
    "## **3.1 The Data Quality Report**"
   ]
  },
  {
   "cell_type": "markdown",
   "id": "73b189a7",
   "metadata": {},
   "source": [
    "A data quality report summarizes the key characteristics of a dataset. It includes tables and graphs describing both numerical and categorical variables. Typical measures include **central tendency**, **variation**, and **shape**. Data quality reports also check for issues such as **missing values** and **outliers**."
   ]
  },
  {
   "cell_type": "markdown",
   "id": "2876ee6f",
   "metadata": {},
   "source": [
    "## **3.2 Central Tendency**"
   ]
  },
  {
   "cell_type": "markdown",
   "id": "f84de0fd",
   "metadata": {},
   "source": [
    "Central tendency describes where the data “centers” itself. The three most common measures are the **mean**, **median**, and **mode**."
   ]
  },
  {
   "cell_type": "markdown",
   "id": "76a92a38",
   "metadata": {},
   "source": [
    "### The Mean"
   ]
  },
  {
   "cell_type": "markdown",
   "id": "1f53bf31",
   "metadata": {},
   "source": [
    "The arithmetic mean (average) is given by:\n",
    "\n",
    "$$\n",
    "\\bar{X} = \\frac{1}{n} \\sum_{i=1}^{n} x_i\n",
    "$$\n",
    "\n",
    "**Example in Python:**\n",
    "\n",
    "```python\n",
    "import numpy as np\n",
    "\n",
    "x = np.array([0, 1, 2, 0, 4, 0, 1, 2, 3])\n",
    "np.mean(x)\n",
    "```"
   ]
  },
  {
   "cell_type": "code",
   "execution_count": 30,
   "id": "024be68c",
   "metadata": {},
   "outputs": [
    {
     "data": {
      "text/plain": [
       "np.float64(1.4444444444444444)"
      ]
     },
     "execution_count": 30,
     "metadata": {},
     "output_type": "execute_result"
    }
   ],
   "source": [
    "import numpy as np\n",
    "\n",
    "x = np.array([0, 1, 2, 0, 4, 0, 1, 2, 3])\n",
    "np.mean(x)"
   ]
  },
  {
   "cell_type": "markdown",
   "id": "f6a145be",
   "metadata": {},
   "source": [
    "### The Median"
   ]
  },
  {
   "cell_type": "markdown",
   "id": "a2a4562c",
   "metadata": {},
   "source": [
    "The median is the middle value after sorting the data. If \\(n\\) is odd, it’s the \\((n+1)/2\\)-th value. If \\(n\\) is even, it’s the average of the \\(n/2\\)-th and \\((n/2)+1\\)-th values.\n",
    "\n",
    "**Example in Python:**\n",
    "\n",
    "```python\n",
    "salaries = np.array([35000, 37000, 35000, 33000, 210000])\n",
    "np.median(salaries)\n",
    "```"
   ]
  },
  {
   "cell_type": "code",
   "execution_count": 31,
   "id": "217d5d9e",
   "metadata": {},
   "outputs": [
    {
     "data": {
      "text/plain": [
       "np.float64(35000.0)"
      ]
     },
     "execution_count": 31,
     "metadata": {},
     "output_type": "execute_result"
    }
   ],
   "source": [
    "salaries = np.array([35000, 37000, 35000, 33000, 210000])\n",
    "np.median(salaries)"
   ]
  },
  {
   "cell_type": "markdown",
   "id": "0988b146",
   "metadata": {},
   "source": [
    "### The Mode"
   ]
  },
  {
   "cell_type": "markdown",
   "id": "3d0c1522",
   "metadata": {},
   "source": [
    "The mode is the most frequently occurring value. Unlike the mean, it is not affected by extreme values.\n"
   ]
  },
  {
   "cell_type": "code",
   "execution_count": 32,
   "id": "b505a5f6",
   "metadata": {},
   "outputs": [
    {
     "name": "stdout",
     "output_type": "stream",
     "text": [
      "Mode: 4\n",
      "Count: 3\n",
      "Mode with pandas: 4\n"
     ]
    }
   ],
   "source": [
    "import numpy as np\n",
    "from scipy import stats\n",
    "\n",
    "# Example data\n",
    "data = np.array([1, 2, 2, 3, 4, 4, 4, 5])\n",
    "\n",
    "# Using SciPy\n",
    "mode_result = stats.mode(data, keepdims=True)\n",
    "print(\"Mode:\", mode_result.mode[0])\n",
    "print(\"Count:\", mode_result.count[0])\n",
    "\n",
    "# Using pandas (alternative way)\n",
    "import pandas as pd\n",
    "print(\"Mode with pandas:\", pd.Series(data).mode()[0])\n"
   ]
  },
  {
   "cell_type": "markdown",
   "id": "cfba44f6",
   "metadata": {},
   "source": [
    "## **3.3 Variation and Shape**"
   ]
  },
  {
   "cell_type": "markdown",
   "id": "1ac357a2",
   "metadata": {},
   "source": [
    "In addition to central tendency, every variable is characterized by its **variation** (spread) and **shape**."
   ]
  },
  {
   "cell_type": "markdown",
   "id": "bc935b2e",
   "metadata": {},
   "source": [
    "#### Range"
   ]
  },
  {
   "cell_type": "markdown",
   "id": "068e9a5b",
   "metadata": {},
   "source": [
    "$$\n",
    "\\text{Range} = \\max(x) - \\min(x)\n",
    "$$\n",
    "\n",
    "```python\n",
    "salaries = np.array([35000, 37000, 35000, 33000, 210000])\n",
    "np.max(salaries) - np.min(salaries)\n",
    "```"
   ]
  },
  {
   "cell_type": "code",
   "execution_count": 33,
   "id": "dfbf8799",
   "metadata": {},
   "outputs": [
    {
     "data": {
      "text/plain": [
       "np.int64(177000)"
      ]
     },
     "execution_count": 33,
     "metadata": {},
     "output_type": "execute_result"
    }
   ],
   "source": [
    "salaries = np.array([35000, 37000, 35000, 33000, 210000])\n",
    "np.max(salaries) - np.min(salaries)"
   ]
  },
  {
   "cell_type": "markdown",
   "id": "d72ce3a0",
   "metadata": {},
   "source": [
    "#### Variance and Standard Deviation"
   ]
  },
  {
   "cell_type": "markdown",
   "id": "a6beea73",
   "metadata": {},
   "source": [
    "The sample variance is:\n",
    "\n",
    "$$\n",
    "s^2 = \\frac{1}{n-1} \\sum_{i=1}^{n}(x_i - \\bar{x})^2\n",
    "$$\n",
    "\n",
    "The sample standard deviation is:\n",
    "\n",
    "$$\n",
    "s = \\sqrt{s^2}\n",
    "$$\n",
    "\n",
    "**Example in Python:**\n",
    "\n",
    "```python\n",
    "heights = np.array([65.71, 72.30, 68.31, 67.05, 70.68])\n",
    "np.var(heights, ddof=1), np.std(heights, ddof=1)\n",
    "```\n"
   ]
  },
  {
   "cell_type": "code",
   "execution_count": 34,
   "id": "c9f3ca57",
   "metadata": {},
   "outputs": [
    {
     "data": {
      "text/plain": [
       "(np.float64(7.158650000000013), np.float64(2.6755653608162917))"
      ]
     },
     "execution_count": 34,
     "metadata": {},
     "output_type": "execute_result"
    }
   ],
   "source": [
    "heights = np.array([65.71, 72.30, 68.31, 67.05, 70.68])\n",
    "np.var(heights, ddof=1), np.std(heights, ddof=1)"
   ]
  },
  {
   "cell_type": "markdown",
   "id": "fd0a7b2c",
   "metadata": {},
   "source": [
    "#### Z-Scores"
   ]
  },
  {
   "cell_type": "markdown",
   "id": "5fb2058f",
   "metadata": {},
   "source": [
    "The Z-score measures how many standard deviations away from the mean a value is:\n",
    "\n",
    "$$\n",
    "Z = \\frac{X - \\bar{X}}{s}\n",
    "$$\n",
    "**Example in Python:**\n",
    "```python\n",
    "(heights - np.mean(heights)) / np.std(heights, ddof=1)\n",
    "```"
   ]
  },
  {
   "cell_type": "code",
   "execution_count": 35,
   "id": "27bd7b68",
   "metadata": {},
   "outputs": [
    {
     "data": {
      "text/plain": [
       "array([-1.15863363,  1.30439721, -0.18687639, -0.6578049 ,  0.6989177 ])"
      ]
     },
     "execution_count": 35,
     "metadata": {},
     "output_type": "execute_result"
    }
   ],
   "source": [
    "(heights - np.mean(heights)) / np.std(heights, ddof=1)"
   ]
  },
  {
   "cell_type": "markdown",
   "id": "5dee0e60",
   "metadata": {},
   "source": [
    "### **3.4 Skewness**"
   ]
  },
  {
   "cell_type": "markdown",
   "id": "0944c1b2",
   "metadata": {},
   "source": [
    "Skewness measures the asymmetry of the distribution.\n",
    "\n",
    "- If mean < median → **Left-skewed**\n",
    "- If mean = median → **Symmetrical**\n",
    "- If mean > median → **Right-skewed**"
   ]
  },
  {
   "cell_type": "markdown",
   "id": "b04d42bc",
   "metadata": {},
   "source": [
    "## **3.5 Quartiles**"
   ]
  },
  {
   "cell_type": "markdown",
   "id": "be7572e6",
   "metadata": {},
   "source": [
    "\n",
    "Quartiles describe the position of a specific data value in relation to the rest of the data. $Q_1$, $Q_2$, $Q_3$ are 3 numbers that divide the ordered observations into 4 equally sized groups (i.e. each group contains 25% of all observations).\n",
    "\n",
    "\n",
    "### Finding Quartiles\n",
    "\n",
    "\n",
    "\n",
    "\n",
    "- **$Q_1$** corresponds to the 25th percentile, i.e., 25% of all observations in the data set are of lesser value than $Q_1$. In simple words, $Q_1$ is the median of all observations to the left of the median.\n",
    "- **$Q_2$** corresponds to the 50th percentile, i.e., 50% of all observations in the data set are of lesser value than $Q_2$. In simple words, $Q_2$ corresponds to the median.\n",
    "- **$Q_3$** corresponds to the 75th percentile, i.e., 75% of all observations in the data set are of lesser value than $Q_3$. In simple words, $Q_2$ is the median of all observations to the right of the median.\n",
    "\n",
    "**Note: Before finding quartiles, you must write your numbers in ascending (smallest to largest) order**\n",
    "\n",
    "**Formula for the position of the first quartile (Q1):**\n",
    "\n",
    "$$\n",
    "\\text{Position of } Q_1 = \\frac{n+1}{4}\n",
    "$$\n",
    "\n",
    "**Formula for the position of the third quartile (Q3):**\n",
    "\n",
    "$$\n",
    "\\text{Position of } Q_3 = \\frac{3(n+1)}{4}\n",
    "$$\n",
    "\n",
    "**Interquartile Range (IQR) Formula**\n",
    "\n",
    "The interquartile range (IQR) measures the spread of the middle 50% of a dataset. It is calculated as:\n",
    "\n",
    "\n",
    "$$\n",
    "\\mathrm{IQR} = Q_3 - Q_1\n",
    "$$\n",
    "\n",
    "Where:\n",
    "\n",
    "- $Q_1$ is the first quartile (25th percentile)\n",
    "\n",
    "- $Q_3$ is the third quartile (75th percentile)\n",
    "\n",
    "**Using this method to calculate outliers**\n",
    "\n",
    "You can use $Q_1$, $Q_3$, and the IQR to find outliers in your dataset. \n",
    "\n",
    "$$\n",
    "\\text{Lower Fence} = Q_1 - 1.5 \\times \\mathrm{IQR}\n",
    "$$\n",
    "\n",
    "$$\n",
    "\\text{Upper Fence} = Q_3 + 1.5 \\times \\mathrm{IQR}\n",
    "$$\n",
    "\n",
    "Any number that is < the lower fence is a lower outlier.\n",
    "\n",
    "Any number that is > the upper fence is the upper outlier."
   ]
  },
  {
   "cell_type": "code",
   "execution_count": 36,
   "id": "1af0210f",
   "metadata": {},
   "outputs": [
    {
     "name": "stdout",
     "output_type": "stream",
     "text": [
      "Sorted data: [ 1  2  3  4  5  6  7  8  9 15]\n",
      "Q1 (25th percentile): 3.25\n",
      "Q2 (Median): 5.5\n",
      "Q3 (75th percentile): 7.75\n",
      "IQR: 4.5\n",
      "Lower Fence: -3.5\n",
      "Upper Fence: 14.5\n",
      "Outliers: [15]\n"
     ]
    }
   ],
   "source": [
    "import numpy as np\n",
    "\n",
    "# Example dataset\n",
    "data = np.array([7, 8, 5, 6, 3, 4, 9, 2, 1, 15])\n",
    "\n",
    "# Step 1: Sort the data\n",
    "sorted_data = np.sort(data)\n",
    "print(\"Sorted data:\", sorted_data)\n",
    "\n",
    "# Step 2: Calculate quartiles\n",
    "Q1 = np.percentile(sorted_data, 25)\n",
    "Q2 = np.percentile(sorted_data, 50)  # Median\n",
    "Q3 = np.percentile(sorted_data, 75)\n",
    "print(f\"Q1 (25th percentile): {Q1}\")\n",
    "print(f\"Q2 (Median): {Q2}\")\n",
    "print(f\"Q3 (75th percentile): {Q3}\")\n",
    "\n",
    "# Step 3: Interquartile Range (IQR)\n",
    "IQR = Q3 - Q1\n",
    "print(f\"IQR: {IQR}\")\n",
    "\n",
    "# Step 4: Calculate outlier fences\n",
    "lower_fence = Q1 - 1.5 * IQR\n",
    "upper_fence = Q3 + 1.5 * IQR\n",
    "print(f\"Lower Fence: {lower_fence}\")\n",
    "print(f\"Upper Fence: {upper_fence}\")\n",
    "\n",
    "# Step 5: Identify outliers\n",
    "outliers = sorted_data[(sorted_data < lower_fence) | (sorted_data > upper_fence)]\n",
    "print(\"Outliers:\", outliers)\n"
   ]
  },
  {
   "cell_type": "markdown",
   "id": "f5ec1039",
   "metadata": {},
   "source": [
    "#### Five-Number Summary"
   ]
  },
  {
   "cell_type": "markdown",
   "id": "1ebd2864",
   "metadata": {},
   "source": [
    "The five-number summary includes:\n",
    "\n",
    "$$\n",
    "\\text{Min}, Q1, \\text{Median}, Q3, \\text{Max}\n",
    "$$\n",
    "\n",
    "```python\n",
    "np.percentile(heights, [0, 25, 50, 75, 100])\n",
    "```\n"
   ]
  },
  {
   "cell_type": "markdown",
   "id": "eb5ced25",
   "metadata": {},
   "source": [
    "## **3.6 Organizing Categorical Variables**"
   ]
  },
  {
   "cell_type": "markdown",
   "id": "f6292bc5",
   "metadata": {},
   "source": [
    "### **Frequency Tables (See Python Functions - `Group By` in Chapter 1)**"
   ]
  },
  {
   "cell_type": "markdown",
   "id": "c911a9dd",
   "metadata": {},
   "source": [
    "A **frequency table** counts occurrences in each category.  \n",
    "A **relative frequency table** shows percentages."
   ]
  },
  {
   "cell_type": "code",
   "execution_count": 38,
   "id": "35392e56",
   "metadata": {},
   "outputs": [
    {
     "name": "stdout",
     "output_type": "stream",
     "text": [
      "Frequency Table:\n",
      "Apple     3\n",
      "Orange    3\n",
      "Banana    2\n",
      "Name: count, dtype: int64\n",
      "\n",
      "Relative Frequency Table (%):\n",
      "Apple     37.5\n",
      "Orange    37.5\n",
      "Banana    25.0\n",
      "Name: proportion, dtype: float64\n"
     ]
    }
   ],
   "source": [
    "import pandas as pd\n",
    "\n",
    "# Example dataset\n",
    "data = pd.Series([\"Apple\", \"Banana\", \"Apple\", \"Orange\", \"Banana\", \"Apple\", \"Orange\", \"Orange\"])\n",
    "\n",
    "# Frequency table (counts)\n",
    "freq_table = data.value_counts()\n",
    "print(\"Frequency Table:\")\n",
    "print(freq_table)\n",
    "\n",
    "# Relative frequency table (percentages)\n",
    "rel_freq_table = data.value_counts(normalize=True) * 100\n",
    "print(\"\\nRelative Frequency Table (%):\")\n",
    "print(rel_freq_table)\n"
   ]
  },
  {
   "cell_type": "markdown",
   "id": "bbcfcfcd",
   "metadata": {},
   "source": [
    "## **3.7 Visualizing Variables**"
   ]
  },
  {
   "cell_type": "markdown",
   "id": "a0cc89f9",
   "metadata": {},
   "source": [
    "\n",
    "\n",
    "Visualizations provide insight into the structure of data.\n",
    "\n",
    "- **Bar chart** → Categorical data comparison  \n",
    "- **Pie chart** → Relative proportions  \n",
    "- **Histogram** → Distribution of numerical data  \n",
    "- **Boxplot** → Five-number summary and outliers  \n",
    "- **Scatter plot** → Relationship between two variables  \n",
    "- **Time series plot** → Trends over time  \n",
    "\n",
    "Note: For further information, see Chapter 2: Data Visualization"
   ]
  },
  {
   "cell_type": "markdown",
   "id": "e14d0a1b",
   "metadata": {},
   "source": [
    "### **2.8 Identifying Data Quality Issues**"
   ]
  },
  {
   "cell_type": "markdown",
   "id": "7ae09b1a",
   "metadata": {},
   "source": [
    "## **3.8 Summary**"
   ]
  },
  {
   "cell_type": "markdown",
   "id": "ca81a83c",
   "metadata": {},
   "source": [
    "Descriptive statistics provide the foundation for exploratory data analysis. By calculating measures of central tendency, spread, and shape, and by visualizing variables, analysts can identify patterns, errors, and anomalies in the data before moving into predictive or prescriptive analytics."
   ]
  }
 ],
 "metadata": {},
 "nbformat": 4,
 "nbformat_minor": 5
}