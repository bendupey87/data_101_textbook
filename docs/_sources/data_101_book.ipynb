{
 "cells": [
  {
   "cell_type": "markdown",
   "id": "74ce5998",
   "metadata": {},
   "source": [
    "# 📊 **Data 101: Intro to Data Analytics**\n",
    "\n",
    "## *A Beginner's Guide to Data Analysis with Python*\n",
    "\n",
    "---\n",
    "\n",
    "<div style=\"background-color: #2d3748; color: #e2e8f0; padding: 20px; border-radius: 8px; font-family: 'Consolas', 'Monaco', 'Courier New', monospace; border: 1px solid #4a5568; box-shadow: 0 2px 4px rgba(0,0,0,0.3);\">\n",
    "\n",
    "```\n",
    "📊 Data 101: Intro to Data Analytics\n",
    "   A Beginner's Guide to Data Analysis with Python\n",
    "\n",
    "Current Semester: FA2025\n",
    "Current Instructor: Ben DuPey (he/him/his)\n",
    "Version 0.9.9-Dev | Development Release\n",
    "```\n",
    "\n",
    "<div style=\"margin-top: 10px; padding-top: 10px; border-top: 1px solid #4a5568; font-size: 12px; color: #a0aec0;\">\n",
    "<span style=\"color: #68d391;\">●</span> Course Active | <span style=\"color: #fbb6ce;\">●</span> <a href=\"https://github.com/bendupey87/data_101_textbook\" style=\"color: #fbb6ce; text-decoration: none;\" target=\"_blank\">Development Build</a> | <a href=\"https://github.com/bendupey87/data_101_textbook\" style=\"color: #81c7d4; text-decoration: none;\" target=\"_blank\">📝 Change Notes</a>\n",
    "</div>\n",
    "\n",
    "</div>"
   ]
  },
  {
   "cell_type": "markdown",
   "id": "e262d623",
   "metadata": {},
   "source": [
    "# 👋 Inroduction"
   ]
  },
  {
   "cell_type": "markdown",
   "id": "816f16c8",
   "metadata": {},
   "source": [
    "---\n",
    "\n",
    "**Hey Future Data Analysts!**\n",
    "\n",
    "I'm **Ben DuPey**, your instructor for Data 101, and I want to start with something that might surprise you: **I was sitting exactly where you are not too long ago.**\n",
    "\n",
    "Just a few years back, I was a Grand View student taking this very course. I had never written a line of Python code in my life. I remember staring at my first `print(\"Hello, World!\")` and thinking, *\"How does this tiny piece of text lead to analyzing massive datasets?\"* \n",
    "\n",
    "**Plot twist**: It totally does! 🚀\n",
    "\n",
    "Fast forward to today: I'm the Institutional Data Analyst here at Grand View, using Python every single day to uncover insights from student data, enrollment trends, and campus operations. The same skills you're about to learn are literally my job now. How cool is that?\n",
    "\n",
    "**Dr. Oscar Aguilar**, my professor and mentor, taught me everything foundational about data analytics. His wisdom fills these pages, and he's still guiding me as I navigate teaching this course. If you find something explained really well, that's probably Oscar's influence. If you find a typo or something confusing, that's definitely me! 😅\n",
    "\n",
    "---\n",
    "\n",
    " 🎯 **Why This Course Matters (And Why It's Harder Than You Think)**\n",
    "\n",
    "Let me be real with you—**this course is tough**. Learning to code for the first time while simultaneously learning to think analytically? It's like learning to drive while someone teaches you how cars work under the hood. \n",
    "\n",
    "**But here's the thing**: It's also incredibly rewarding. \n",
    "\n",
    "You're going to have moments where nothing makes sense, where your code won't run, and where you question why variables have such weird names. I've been there. We've all been there. That's not failure—that's learning.\n",
    "\n",
    "You're also going to have moments where everything clicks. Where your code produces a beautiful visualization that tells a story. Where you find a pattern in data that no one else noticed. Where you solve a real problem using nothing but your laptop and some Python code. Those moments? **They're absolute magic.** ✨\n",
    "\n",
    "---\n",
    "\n",
    " 🌟 **What Makes This Different**\n",
    "\n",
    "This isn't just a textbook—it's a conversation between someone who recently walked your path and students who are brave enough to take their first steps into the world of data.\n",
    "\n",
    "**What you'll get from me:**\n",
    "- The perspective of someone who learned this as a complete beginner\n",
    "- Real examples from my actual work (with student data privacy protected, of course!)\n",
    "- Honest talk about what's hard and what gets easier\n",
    "- The excitement of someone who still remembers discovering how powerful this stuff is\n",
    "\n",
    "---\n",
    "\n",
    " 📚 **A Living Document for Living Learners**\n",
    "\n",
    "This course material is **constantly evolving**, just like the field of data analytics. When you find something confusing, tell me. When you discover a cool way to solve a problem, share it. When you break something in your code (and you will!), let's figure it out together.\n",
    "\n",
    "**Version 0.9.1-dev** means this is a work in progress—just like all of us learning data science.\n",
    "\n",
    " 🔗 **Stay Connected & Updated**\n",
    "\n",
    "📋 **Release Notes & Updates**: Want to see what's new, what's been fixed, or what's coming next? Check out the detailed release notes in the README file on our GitHub repository: **[https://github.com/bendupey87/data_101_textbook](https://github.com/bendupey87/data_101_textbook)**\n",
    "\n",
    "🐛 **Found a Bug or Have a Suggestion?** The GitHub repo is also the perfect place to report issues, suggest improvements, or contribute to making this textbook even better for future students.\n",
    "\n",
    "💡 **Why GitHub?** Think of it as our course's \"behind the scenes\" space—where all the updates, fixes, and improvements happen. Plus, getting familiar with GitHub is a valuable skill for any data analyst!\n",
    "\n",
    "---\n",
    "\n",
    " 🗺️ **Your Learning Journey**\n",
    "\n",
    "Here's what we'll explore together:\n",
    "\n",
    "- **Part 1: Introduction to Data Analytics**\n",
    "    - **Chapter 1:** Introduction to Data Analysis (Where it all begins!)\n",
    "    - **Chapter 2:** Data Analytics Solutions to Real World Problems (Why this matters)\n",
    "- **Part 2: Basic Exploratory Data Analysis & Python Functions**\n",
    "    - **Chapter 3:** Basic Data Manipulation (Your new superpower)\n",
    "    - **Chapter 4:** Generating Descriptive Statistics (Making data tell stories)\n",
    "- **Part 3: Introduction To More Advanced Modeling Techniques**\n",
    "    - **Chapter 5:** Similarity, Neighbors, & Clustering (Finding patterns)\n",
    "    - **Chapter 6:** Fitting Data to Models (Predicting the future)\n",
    "    - **Chapter 7:** Introduction to Predictive Modeling (The really cool stuff)\n",
    "\n",
    "---\n",
    "\n",
    " 🎯 **A Personal Promise**\n",
    "\n",
    "I promise you this: **If I can go from knowing absolutely nothing about programming to being a data analyst, so can you.** \n",
    "\n",
    "It won't always be easy. You'll get stuck. Your code will break. You'll wonder if you're cut out for this. But if you stick with it, if you keep asking questions, and if you remember that every expert was once a beginner, you'll amaze yourself with what you can accomplish.\n",
    "\n",
    "**Ready to dive in?** Let's turn you into data detectives! 🔍📊\n",
    "\n",
    "---\n",
    "\n",
    "*P.S. - Seriously, don't hesitate to ask questions. The best part about being taught by someone who was recently in your shoes is that I remember exactly what confused me—and I'm here to make sure it doesn't confuse you.*"
   ]
  },
  {
   "cell_type": "markdown",
   "id": "c865f0da",
   "metadata": {},
   "source": []
  },
  {
   "cell_type": "markdown",
   "id": "0b8c1939",
   "metadata": {},
   "source": [
    "# 📋 Table of Contents"
   ]
  },
  {
   "cell_type": "markdown",
   "id": "8971f7d0",
   "metadata": {},
   "source": [
    "\n",
    "\n",
    "**📈 Part 1: Introduction to Data Analytics**\n",
    "**Chapter 1: Introduction to Data Analysis**\n",
    "- 1.1 What is Data Analysis?\n",
    "- 1.2 The Data Analysis Process\n",
    "- 1.3 Applications and Examples\n",
    "\n",
    " **Chapter 2: Data Analytics Solutions to Real World Problems**\n",
    "- 2.1 Data-Driven Decision Making\n",
    "- 2.2 Case Studies in Data Analytics\n",
    "- 2.3 Data Ethics and Privacy\n",
    "\n",
    "---\n",
    "\n",
    " **🔧 Part 2: Basic Tools & Fundamentals**\n",
    " \n",
    " **Chapter 3: Basic Data Manipulation**\n",
    "- 3.1 Introduction to Python for Data Analysis\n",
    "- 3.2 Working with Data Structures\n",
    "- 3.3 Data Import and Export\n",
    "- 3.4 Basic Data Cleaning\n",
    "- 3.5 Creating Functions with Python\n",
    "\n",
    " **Chapter 4: Generating Descriptive Statistics**\n",
    "- 4.1 Measures of Central Tendency\n",
    "- 4.2 Measures of Variability\n",
    "- 4.3 Data Visualization Fundamentals\n",
    "- 4.4 Understanding Data Distributions\n",
    "\n",
    "---\n",
    "\n",
    " **🎯 Part 3: Advanced Modeling Techniques**\n",
    " **Chapter 5: Similarity, Neighbors, & Clustering**\n",
    "- 5.1 Distance Metrics and Similarity\n",
    "- 5.2 K-Means Clustering\n",
    "- 5.3 Hierarchical Clustering\n",
    "- 5.4 Cluster Analysis and Interpretation\n",
    "\n",
    " **Chapter 6: Fitting Data to Models**\n",
    "- 6.1 Introduction to Statistical Modeling\n",
    "- 6.2 Linear Regression\n",
    "- 6.3 Classification Techniques\n",
    "  - 6.3.1 k-Nearest Neighbors (k-NN) Classification\n",
    "- 6.4 Model Evaluation and Validation\n",
    "\n",
    " **Chapter 7: Introduction to Predictive Modeling**\n",
    "- 7.1 Predictive Modeling Concepts\n",
    "- 7.2 Feature Selection and Engineering\n",
    "- 7.3 Cross-Validation Techniques\n",
    "- 7.4 Model Performance Metrics\n",
    "\n",
    "---\n",
    "\n",
    " **🛠️ Appendices & Resources**\n",
    " **Additional Resources**\n",
    "- Data Sources and Datasets\n",
    "- Python Libraries Quick Reference\n",
    "- Troubleshooting Common Errors\n",
    "- Further Learning Pathways\n",
    "\n",
    "---\n",
    "\n",
    "*📚 **Learning Tip**: Each chapter builds on the previous ones, so take your time to understand the fundamentals before moving forward. Remember, even experienced data analysts started exactly where you are now!*"
   ]
  },
  {
   "cell_type": "markdown",
   "id": "12f522e2",
   "metadata": {},
   "source": [
    "# 📈 Part 1: Introduction to Data Analytics"
   ]
  },
  {
   "cell_type": "markdown",
   "id": "79d50179",
   "metadata": {},
   "source": [
    "## 📚 Chapter 1: Introduction to Data Analysis"
   ]
  },
  {
   "cell_type": "markdown",
   "id": "1d9bf1e1",
   "metadata": {},
   "source": [
    "### **1.1: What Is Data?**"
   ]
  },
  {
   "cell_type": "markdown",
   "id": "dca2931a",
   "metadata": {},
   "source": [
    "#### **1.1.1: Information vs. Data**"
   ]
  },
  {
   "cell_type": "markdown",
   "id": "2b3d03ca",
   "metadata": {},
   "source": [
    "**What Makes Something \"Data\"?**\n",
    "\n",
    "Data is information that has been **structured** for storage, transmission, and analysis. The key difference lies in organization and format:\n",
    "\n",
    "- **Information** is human-readable context that exists in natural language\n",
    "  - *Example:* \"I bought 5 pieces of corn from a roadside stand on Tuesday morning because they looked fresh\"\n",
    "  \n",
    "- **Data** is that same information stored in a structured, analyzable format\n",
    "  - *Example:* \n",
    "    ```\n",
    "    Product: Corn\n",
    "    Quantity: 5\n",
    "    Date: 2025-10-01\n",
    "    Location: Roadside Stand\n",
    "    Reason: Quality (Fresh)\n",
    "    ```\n",
    "\n",
    "**Types of Data We Encounter Daily**\n",
    "\n",
    "**Numerical Data (Quantitative)**\n",
    "- **Continuous**: Height (5.8 feet), temperature (72.5°F), income ($45,250)\n",
    "- **Discrete**: Number of purchases (3), app downloads (1,247), students in class (28)\n",
    "\n",
    "**Categorical Data (Qualitative)**  \n",
    "- **Nominal**: Colors (red, blue, green), product types (phone, laptop, tablet)\n",
    "- **Ordinal**: Satisfaction ratings (poor, fair, good, excellent), education levels (high school, bachelor's, master's)\n",
    "\n",
    "**Text Data**\n",
    "- Customer reviews, social media posts, email content, survey responses\n",
    "\n",
    "**Time-Based Data**\n",
    "- Timestamps, dates, duration measurements, seasonal patterns\n",
    "\n",
    "**Location Data**\n",
    "- GPS coordinates, addresses, regions, countries\n",
    "\n",
    "**Real-World Data Examples**\n",
    "\n",
    "| Context | Information (Human) | Data (Structured) |\n",
    "|---------|-------------------|------------------|\n",
    "| **Shopping** | \"I bought groceries and spent more than usual\" | `Date: 2025-10-01, Store: Walmart, Total: $127.45, Items: 23, Category: Groceries` |\n",
    "| **Fitness** | \"Had a good workout this morning\" | `Activity: Running, Duration: 45 min, Distance: 4.2 miles, Calories: 425, Heart Rate: 145 BPM` |\n",
    "| **Social Media** | \"Posted a photo that got lots of likes\" | `Post_ID: 12345, Type: Image, Timestamp: 2025-10-01 14:30, Likes: 87, Comments: 12, Shares: 3` |\n",
    "| **Academic** | \"Did well on my chemistry exam\" | `Student_ID: 98765, Course: CHEM101, Exam: Midterm, Score: 89, Grade: B+, Date: 2025-09-28` |\n",
    "\n",
    "> **Key Insight:** The transformation from information to data makes analysis possible. Raw information tells a story, but structured data reveals patterns across thousands of similar stories."
   ]
  },
  {
   "cell_type": "markdown",
   "id": "a9252226",
   "metadata": {},
   "source": [
    "#### **1.1.2: Reflection Prompt**"
   ]
  },
  {
   "cell_type": "markdown",
   "id": "c3ee7dc9",
   "metadata": {},
   "source": [
    "What are **three pieces of data** you interact with regularly (apps, school, purchases, habits)?"
   ]
  },
  {
   "cell_type": "markdown",
   "id": "d0b31a89",
   "metadata": {},
   "source": [
    "### **1.2: The Data Analytics Process**"
   ]
  },
  {
   "cell_type": "markdown",
   "id": "88a57337",
   "metadata": {},
   "source": [
    "The journey from raw data to insight typically follows a structured flow:\n",
    "\n",
    "| Stage | Description |\n",
    "|--------|-------------|\n",
    "| **Collecting Data** | Gathering raw inputs from various sources |\n",
    "| **Cleaning Data** | Fixing errors, inconsistencies, or missing values |\n",
    "| **Exploring Data (EDA)** | Visualizing and summarizing patterns |\n",
    "| **Modeling** | Applying statistical or machine learning techniques |\n",
    "| **Generating Insights** | Forming decisions or recommendations |"
   ]
  },
  {
   "cell_type": "markdown",
   "id": "136886e7",
   "metadata": {},
   "source": [
    "#### **1.2.1: Example — Product Sales**"
   ]
  },
  {
   "cell_type": "markdown",
   "id": "8d295cd7",
   "metadata": {},
   "source": [
    "Imagine you receive a spreadsheet of **sales by product and region**. Raw numbers tell you very little — but a **bar chart** reveals instantly:\n",
    "\n",
    "- **Phones** sell the most units due to **lower pricing**\n",
    "- **Laptops** sell fewer units but at **higher revenue**\n",
    "- **Tablets** are **inconsistent across regions**\n",
    "\n",
    "> Insight comes not from *data existing*, but from *data being structured.*"
   ]
  },
  {
   "cell_type": "markdown",
   "id": "ab1d0be1",
   "metadata": {},
   "source": [
    "### **1.3: Collecting Data**"
   ]
  },
  {
   "cell_type": "markdown",
   "id": "5e845cb2",
   "metadata": {},
   "source": [
    "#### **1.3.1: Fragmented Sources**"
   ]
  },
  {
   "cell_type": "markdown",
   "id": "61d7e3d9",
   "metadata": {},
   "source": [
    "**The Reality of Data Collection**\n",
    "\n",
    "In the real world, the data you need is rarely stored in one convenient location. Organizations typically have information scattered across multiple systems, departments, and formats. Here's what analysts commonly encounter:\n",
    "\n",
    "**Common Data Sources:**\n",
    "- **Transactional Systems**: Sales databases, payment processors, inventory management\n",
    "- **Customer Relationship Management (CRM)**: Contact information, communication history, preferences  \n",
    "- **Web Analytics**: Website traffic, user behavior, conversion tracking\n",
    "- **External Sources**: Market research, census data, social media APIs, weather services\n",
    "- **Manual Records**: Surveys, field notes, Excel spreadsheets maintained by different teams\n",
    "\n",
    "**Example: E-commerce Customer Analysis**\n",
    "\n",
    "Imagine you're analyzing customer behavior for an online retailer. Your data might be fragmented like this:\n",
    "\n",
    "- **Customer demographics** in the CRM system (age, location, signup date)\n",
    "- **Browsing behavior** in Google Analytics (pages viewed, time spent, device type) \n",
    "- **Purchase history** in the sales database (products bought, amounts, dates)\n",
    "- **Customer service interactions** in the support ticketing system (complaints, returns, satisfaction scores)\n",
    "- **Marketing engagement** in the email platform (opens, clicks, unsubscribes)\n",
    "\n",
    "**Why Fragmentation Happens:**\n",
    "- Different systems were built at different times by different teams\n",
    "- Each department optimizes for their specific needs\n",
    "- Legacy systems that are expensive to replace or integrate\n",
    "- Privacy and security requirements that limit data sharing\n",
    "- Acquisitions that bring new systems into the organization\n",
    "\n",
    "**The Integration Challenge:**\n",
    "To get a complete picture of customer behavior, analysts must **combine (join) these datasets** - but this creates new challenges around data quality, timing, and accuracy."
   ]
  },
  {
   "cell_type": "markdown",
   "id": "4ec29d08",
   "metadata": {},
   "source": [
    "#### **1.3.2: Joining With or Without Keys**"
   ]
  },
  {
   "cell_type": "markdown",
   "id": "aa998c81",
   "metadata": {},
   "source": [
    "**The Art and Science of Data Joining**\n",
    "\n",
    "Combining datasets is one of the most critical and challenging aspects of data analysis. The quality of your final analysis depends heavily on getting this step right.\n",
    "\n",
    "**Ideal Scenario: Clean Keys**\n",
    "When datasets share a perfect identifier, joining is straightforward:\n",
    "\n",
    "| Customer_ID | Name | Age |\n",
    "|-------------|------|-----|\n",
    "| CUST_001 | Alice Johnson | 28 |\n",
    "| CUST_002 | Bob Smith | 35 |\n",
    "\n",
    "| Customer_ID | Purchase_Amount | Date |\n",
    "|-------------|----------------|------|\n",
    "| CUST_001 | $127.50 | 2025-09-15 |\n",
    "| CUST_002 | $89.99 | 2025-09-16 |\n",
    "\n",
    "Perfect match! Every customer ID appears exactly once in each table.\n",
    "\n",
    "**Real-World Scenario: Messy Matching**\n",
    "Unfortunately, real data is messier. Consider these tables:\n",
    "\n",
    "**Table A (CRM System):**\n",
    "| First_Name | Last_Name | Birth_Year | Email |\n",
    "|------------|-----------|------------|-------|\n",
    "| Katherine | Johnson | 2001 | k.johnson@email.com |\n",
    "| Robert | Smith | 1985 | bob.smith@gmail.com |\n",
    "\n",
    "**Table B (Purchase System):**\n",
    "| Customer_Name | Year_Born | Purchase_Amount |\n",
    "|---------------|-----------|----------------|\n",
    "| Kathy Johnson | 2001 | $127.50 |\n",
    "| Bob Smith | 1985 | $89.99 |\n",
    "\n",
    "**Matching Challenges:**\n",
    "- **Name variations**: Katherine vs. Kathy - same person?\n",
    "- **Missing fields**: What if email is missing from Table B?\n",
    "- **Duplicate records**: What if there are two Bob Smiths born in 1985?\n",
    "- **Data entry errors**: Birth year recorded as 1985 vs 85 vs 1895\n",
    "\n",
    "**Fuzzy Matching Strategies:**\n",
    "1. **Exact match on multiple fields**: First name + Last name + Birth year\n",
    "2. **Similarity scoring**: Use algorithms to measure how \"close\" text fields are\n",
    "3. **Probabilistic matching**: Assign confidence scores to potential matches\n",
    "4. **Manual review**: Flag uncertain matches for human verification\n",
    "\n",
    "**Join Types and Their Impact:**\n",
    "- **Inner Join**: Only keep records that match perfectly (safest, but loses data)\n",
    "- **Left/Right Join**: Keep all records from one table, match where possible\n",
    "- **Full Outer Join**: Keep all records from both tables, match where possible\n",
    "\n",
    "**Consequences of Poor Joining:**\n",
    "- **False matches**: Attributing purchases to wrong customers\n",
    "- **Lost data**: Missing valid customers due to failed matches  \n",
    "- **Duplicate analysis**: Same person counted multiple times\n",
    "- **Biased results**: Systematic errors in matching can skew conclusions\n",
    "\n",
    "> **Pro Tip:** Always validate your joins by checking summary statistics before and after. If you started with 1,000 customers and ended with 1,200, something went wrong!"
   ]
  },
  {
   "cell_type": "markdown",
   "id": "b07b376c",
   "metadata": {},
   "source": [
    "### **1.4: Cleaning Data**"
   ]
  },
  {
   "cell_type": "markdown",
   "id": "7e9f19ad",
   "metadata": {},
   "source": [
    "**The Hidden Reality of Data Analysis**\n",
    "\n",
    "Before any insights can emerge, data must be cleaned and standardized. This unglamorous but critical phase often consumes the majority of an analyst's time. Here's why data gets messy and how to fix it:\n",
    "\n",
    "**Common Data Quality Issues:**\n",
    "\n",
    "**1. Format Inconsistencies**\n",
    "| Problem | Examples | Impact |\n",
    "|---------|----------|---------|\n",
    "| **Date formats** | `12/31/25`, `2025-12-31`, `Dec 31 2025`, `31-Dec-25` | Cannot sort chronologically or calculate time differences |\n",
    "| **Currency** | `$1,200.50`, `1200.5`, `USD 1200.50`, `1.2K` | Mathematical operations fail |\n",
    "| **Phone numbers** | `(555) 123-4567`, `555-123-4567`, `5551234567`, `+1-555-123-4567` | Cannot match or validate contacts |\n",
    "| **Names** | `John Smith`, `JOHN SMITH`, `smith, john`, `J. Smith` | Duplicate detection fails |\n",
    "\n",
    "**2. Invalid or Impossible Values**\n",
    "- **Ages**: `256 years old`, `-5 years old`, `0 years old` for adult customers\n",
    "- **Salaries**: `-$50,000`, `$0`, `$50,000,000` (for entry-level position)\n",
    "- **Dates**: `February 30th`, `2025-13-45`, birth dates in the future\n",
    "- **Geographic**: Customers located in Antarctica, coordinates in the ocean\n",
    "\n",
    "**3. Missing Data Patterns**\n",
    "| Type | Example | Strategy |\n",
    "|------|---------|----------|\n",
    "| **Missing Completely at Random** | Survey respondents skip questions randomly | Use averages or most common values |\n",
    "| **Missing at Random** | High earners don't report income | Use statistical models to predict missing values |\n",
    "| **Missing Not at Random** | People hide embarrassing information | Be very careful - may need to collect new data |\n",
    "\n",
    "**4. Outliers and Anomalies**\n",
    "- **Statistical outliers**: Customer spent $50,000 when average is $100\n",
    "- **Data entry errors**: Product price listed as $0.01 instead of $10.00  \n",
    "- **System glitches**: Timestamps showing purchases in 1970\n",
    "- **Fraud indicators**: Multiple accounts with identical information\n",
    "\n",
    "**Data Cleaning Strategies:**\n",
    "\n",
    "**Standardization**\n",
    "```\n",
    "Before: [\"John Smith\", \"JANE DOE\", \"bob johnson\"]\n",
    "After:  [\"John Smith\", \"Jane Doe\", \"Bob Johnson\"]\n",
    "\n",
    "Before: [\"12/31/2025\", \"2025-12-31\", \"Dec 31, 2025\"]  \n",
    "After:  [\"2025-12-31\", \"2025-12-31\", \"2025-12-31\"]\n",
    "```\n",
    "\n",
    "**Validation Rules**\n",
    "- Ages between 0-120 years\n",
    "- Email addresses must contain @ symbol\n",
    "- Credit card numbers pass checksum validation\n",
    "- Zip codes match geographic regions\n",
    "\n",
    "**Handling Missing Values**\n",
    "1. **Delete records**: When data is minimal or random\n",
    "2. **Fill with defaults**: Use median for numbers, most common for categories\n",
    "3. **Predictive imputation**: Use other fields to estimate missing values\n",
    "4. **Create \"Unknown\" category**: When missing itself is meaningful\n",
    "\n",
    "**Outlier Management**\n",
    "1. **Investigation first**: Is this a data error or legitimate edge case?\n",
    "2. **Business rules**: Apply domain knowledge (e.g., no negative ages)\n",
    "3. **Statistical methods**: Flag values beyond 3 standard deviations\n",
    "4. **Winsorization**: Cap extreme values at reasonable limits\n",
    "\n",
    "**Quality Assurance Checklist:**\n",
    "- ✅ **Completeness**: Are all expected records present?\n",
    "- ✅ **Accuracy**: Do values make logical sense?\n",
    "- ✅ **Consistency**: Are formats standardized across fields?\n",
    "- ✅ **Validity**: Do values fall within acceptable ranges?\n",
    "- ✅ **Uniqueness**: Are duplicates identified and handled?\n",
    "\n",
    "**Real-World Example: Customer Dataset Cleaning**\n",
    "\n",
    "*Raw Data (before cleaning):*\n",
    "```\n",
    "Name: \"john SMITH\", Age: 256, Email: \"johnsmith\", Purchase: \"$1,200.50\"\n",
    "Name: \"jane doe\", Age: \"\", Email: \"jane@email.com\", Purchase: \"1200.5\"\n",
    "Name: \"Bob Johnson\", Age: 35, Email: \"bob@company.co\", Purchase: \"$0.00\"\n",
    "```\n",
    "\n",
    "*Cleaned Data (after processing):*\n",
    "```\n",
    "Name: \"John Smith\", Age: 25, Email: \"johnsmith@[domain_missing]\", Purchase: 1200.50\n",
    "Name: \"Jane Doe\", Age: 32, Email: \"jane@email.com\", Purchase: 1200.50  \n",
    "Name: \"Bob Johnson\", Age: 35, Email: \"bob@company.co\", Purchase: [FLAG_REVIEW]\n",
    "```\n",
    "\n",
    "> **Critical Insight:** The phrase \"garbage in, garbage out\" is fundamental in data analysis. No amount of sophisticated modeling can compensate for poor data quality. Cleaning data is not just technical housekeeping—it's the foundation that determines whether your analysis leads to valid business decisions or costly mistakes."
   ]
  },
  {
   "cell_type": "markdown",
   "id": "a1fb3d1d",
   "metadata": {},
   "source": [
    "### **1.5: Types of Analysis**"
   ]
  },
  {
   "cell_type": "markdown",
   "id": "1c1e0ed8",
   "metadata": {},
   "source": [
    "#### **1.5.1: Exploratory Analysis (EDA)**"
   ]
  },
  {
   "cell_type": "markdown",
   "id": "16b49d33",
   "metadata": {},
   "source": [
    "**Exploratory Data Analysis (EDA): The Detective Work of Data Science**\n",
    "\n",
    "EDA is like being a detective with a dataset. You don't know what story the data will tell, so you investigate from multiple angles to uncover patterns, relationships, and anomalies.\n",
    "\n",
    "**Primary Goals of EDA:**\n",
    "- **Understand your data's structure**: What variables do you have? What do they represent?\n",
    "- **Identify patterns and relationships**: Which variables move together? Are there clear trends?\n",
    "- **Spot anomalies and outliers**: What doesn't fit the expected patterns?\n",
    "- **Generate hypotheses**: What questions should you investigate further?\n",
    "- **Assess data quality**: Are there missing values, errors, or inconsistencies?\n",
    "\n",
    "**Essential EDA Techniques:**\n",
    "\n",
    "**1. Descriptive Statistics**\n",
    "```\n",
    "Dataset: Customer Purchase Amounts\n",
    "Count: 10,000 customers\n",
    "Mean: $127.50 (average purchase)\n",
    "Median: $89.99 (middle value - indicates right skew)\n",
    "Standard Deviation: $156.23 (high variability)\n",
    "Min: $1.99, Max: $2,847.50\n",
    "```\n",
    "*Insight: Most customers make small purchases, but a few big spenders drive up the average.*\n",
    "\n",
    "**2. Data Visualization**\n",
    "- **Histograms**: Show distribution of single variables\n",
    "- **Scatter plots**: Reveal relationships between two variables  \n",
    "- **Box plots**: Highlight outliers and data spread\n",
    "- **Correlation matrices**: Identify which variables move together\n",
    "- **Time series plots**: Show trends and seasonal patterns\n",
    "\n",
    "**3. Cross-tabulation and Grouping**\n",
    "```\n",
    "Average Purchase by Age Group:\n",
    "18-25: $67.50 (budget-conscious)\n",
    "26-35: $134.20 (higher income)  \n",
    "36-50: $189.75 (peak earning years)\n",
    "50+: $156.30 (selective purchasing)\n",
    "```\n",
    "\n",
    "**4. Pattern Recognition**\n",
    "- **Seasonal trends**: Sales spike during holidays\n",
    "- **Geographic patterns**: Urban vs. rural purchasing differences\n",
    "- **Demographic insights**: Age and income driving behavior\n",
    "- **Product relationships**: Customers who buy X also buy Y\n",
    "\n",
    "**Real-World EDA Example: Retail Sales Analysis**\n",
    "\n",
    "*Initial Questions:*\n",
    "- What are our best-selling products?\n",
    "- When do customers make the most purchases?\n",
    "- Are there regional differences in buying behavior?\n",
    "- What factors predict high-value customers?\n",
    "\n",
    "*Key Findings from EDA:*\n",
    "- **Peak hours**: 7-9 PM on weekdays, 2-4 PM on weekends\n",
    "- **Seasonal patterns**: 40% of annual sales occur in Q4 (holiday season)\n",
    "- **Product correlation**: Customers buying laptops also purchase accessories 78% of the time\n",
    "- **Geographic insight**: Rural customers make fewer but larger purchases\n",
    "- **Customer segments**: 20% of customers account for 80% of revenue (Pareto principle)\n",
    "\n",
    "*Actionable Insights Generated:*\n",
    "- Schedule staff and inventory for peak hours\n",
    "- Prepare marketing campaigns for Q4 surge\n",
    "- Create laptop + accessory bundle offers\n",
    "- Develop rural customer retention programs\n",
    "- Focus retention efforts on high-value customer segment\n",
    "\n",
    "> **EDA Philosophy:** \"Let the data speak first, then ask questions.\" Many analysts make the mistake of looking for specific patterns they expect to find. Effective EDA means approaching data with curiosity rather than assumptions."
   ]
  },
  {
   "cell_type": "markdown",
   "id": "59fd763e",
   "metadata": {},
   "source": [
    "#### **1.5.2: Modeling**"
   ]
  },
  {
   "cell_type": "markdown",
   "id": "403f25ca",
   "metadata": {},
   "source": [
    "**Statistical Modeling: From Patterns to Predictions**\n",
    "\n",
    "While EDA helps you discover what happened in your data, modeling helps you understand why it happened and predict what might happen next. Models are mathematical representations of real-world relationships.\n",
    "\n",
    "**Types of Modeling Approaches:**\n",
    "\n",
    "**1. Descriptive Models**\n",
    "- **Goal**: Quantify and summarize relationships you've observed\n",
    "- **Methods**: Correlation analysis, regression analysis, summary statistics\n",
    "- **Example**: \"For every $1 increase in price, sales decrease by 12 units on average\"\n",
    "- **Business Value**: Understand the magnitude of relationships, not just their existence\n",
    "\n",
    "**2. Inferential Models**  \n",
    "- **Goal**: Determine if observed patterns are statistically significant or due to chance\n",
    "- **Methods**: Hypothesis testing, confidence intervals, statistical significance tests\n",
    "- **Example**: \"The difference in sales between Region A and Region B is statistically significant (p < 0.05)\"\n",
    "- **Business Value**: Confidence in decision-making, avoiding false conclusions\n",
    "\n",
    "**3. Predictive Models**\n",
    "- **Goal**: Forecast future outcomes based on historical patterns\n",
    "- **Methods**: Linear regression, decision trees, machine learning algorithms\n",
    "- **Example**: \"Based on browsing behavior, this customer has a 73% probability of making a purchase\"\n",
    "- **Business Value**: Proactive decision-making, resource allocation, risk management\n",
    "\n",
    "**Common Modeling Techniques:**\n",
    "\n",
    "**Linear Regression**\n",
    "- **Use case**: Predicting continuous outcomes (sales, prices, quantities)\n",
    "- **Example**: Predicting house prices based on size, location, and age\n",
    "- **Interpretation**: Clear understanding of how each factor influences the outcome\n",
    "\n",
    "**Classification Models**\n",
    "- **Use case**: Predicting categories (will/won't buy, high/medium/low risk)  \n",
    "- **Example**: Email spam detection, customer churn prediction\n",
    "- **Interpretation**: Probability scores and decision boundaries\n",
    "\n",
    "**Time Series Models**\n",
    "- **Use case**: Forecasting based on historical trends and patterns\n",
    "- **Example**: Predicting next quarter's sales based on past performance\n",
    "- **Interpretation**: Trend, seasonality, and cyclical components\n",
    "\n",
    "**Clustering Models**\n",
    "- **Use case**: Grouping similar observations together\n",
    "- **Example**: Customer segmentation based on purchasing behavior\n",
    "- **Interpretation**: Distinct groups with different characteristics\n",
    "\n",
    "**Model Development Process:**\n",
    "\n",
    "**1. Problem Definition**\n",
    "- What specific question are you trying to answer?\n",
    "- What type of prediction or insight do you need?\n",
    "- How will the model be used in business decisions?\n",
    "\n",
    "**2. Feature Selection**\n",
    "- Which variables are most relevant to your outcome?\n",
    "- Do you need to create new variables from existing ones?\n",
    "- How do you handle missing or categorical data?\n",
    "\n",
    "**3. Model Training**\n",
    "- Split data into training and testing sets\n",
    "- Try multiple modeling approaches\n",
    "- Tune parameters for optimal performance\n",
    "\n",
    "**4. Model Validation**\n",
    "- How accurate are predictions on new, unseen data?\n",
    "- Are the relationships making logical business sense?\n",
    "- Is the model stable across different time periods or segments?\n",
    "\n",
    "**5. Model Interpretation**\n",
    "- Which factors are most important in driving outcomes?\n",
    "- How confident can you be in specific predictions?\n",
    "- What are the limitations and potential biases?\n",
    "\n",
    "**Real-World Modeling Example: Customer Churn Prediction**\n",
    "\n",
    "*Business Problem*: Telecom company loses 5% of customers monthly. Can we predict who will leave?\n",
    "\n",
    "*Model Development*:\n",
    "- **Data**: Customer demographics, usage patterns, service calls, payment history\n",
    "- **Target**: Did customer cancel in next 30 days? (Yes/No)\n",
    "- **Features**: Monthly usage, contract length, recent service calls, payment delays\n",
    "- **Algorithm**: Logistic regression (interpretable results)\n",
    "\n",
    "*Key Findings*:\n",
    "- Customers with >3 service calls have 4x higher churn risk\n",
    "- Month-to-month contracts have 60% higher churn than annual contracts  \n",
    "- Customers who decrease usage by >20% have 85% churn probability\n",
    "- Payment delays increase churn risk by 2.3x\n",
    "\n",
    "*Business Impact*:\n",
    "- Proactive retention outreach to high-risk customers\n",
    "- Incentive programs for contract upgrades\n",
    "- Improved customer service processes\n",
    "- Expected reduction in churn from 5% to 3.2% monthly\n",
    "\n",
    "> **Modeling Wisdom:** \"All models are wrong, but some are useful.\" - George Box. The goal isn't perfect accuracy but actionable insights that improve business decisions."
   ]
  },
  {
   "cell_type": "markdown",
   "id": "43927332",
   "metadata": {},
   "source": [
    "### **1.6: From Findings to Actions**"
   ]
  },
  {
   "cell_type": "markdown",
   "id": "15f9a650",
   "metadata": {},
   "source": [
    "**Bridging the Gap Between Analysis and Impact**\n",
    "\n",
    "The most sophisticated analysis is worthless if it doesn't lead to better decisions. This translation from insights to actions is often the most challenging part of the analytics process, requiring both analytical skills and business acumen.\n",
    "\n",
    "**The Action-Oriented Analysis Framework:**\n",
    "\n",
    "**1. Insight Validation**\n",
    "- **Statistical significance**: Is the pattern real or due to chance?\n",
    "- **Business significance**: Is the effect large enough to matter?\n",
    "- **Consistency check**: Does this finding align with domain knowledge?\n",
    "- **Time stability**: Is this a stable pattern or temporary anomaly?\n",
    "\n",
    "**2. Feasibility Assessment**  \n",
    "- **Resource requirements**: What would it cost to implement changes?\n",
    "- **Technical constraints**: Can our systems support the recommended actions?\n",
    "- **Timeline considerations**: How quickly can changes be implemented?\n",
    "- **Risk evaluation**: What are the potential downsides of action vs. inaction?\n",
    "\n",
    "**3. Stakeholder Communication**\n",
    "- **Executive summary**: Key findings in business terms, not statistical jargon\n",
    "- **Visual storytelling**: Charts and graphs that clearly support the narrative\n",
    "- **Confidence levels**: How certain are we about these recommendations?\n",
    "- **Success metrics**: How will we measure if actions were effective?\n",
    "\n",
    "**Real-World Example: E-commerce Product Strategy**\n",
    "\n",
    "**Analysis Findings:**\n",
    "| Product Category | Current Performance | Key Insight | Data Supporting Evidence |\n",
    "|-----------------|-------------------|-------------|------------------------|\n",
    "| **Smartphones** | 45% of revenue, 60% of units | High volume, low margin | Average selling price: $299, Profit margin: 12% |\n",
    "| **Laptops** | 35% of revenue, 20% of units | Premium pricing working | Average selling price: $899, Profit margin: 28% |\n",
    "| **Tablets** | 20% of revenue, 20% of units | Underperforming potential | Declining sales trend: -15% over 6 months |\n",
    "\n",
    "**Strategic Recommendations:**\n",
    "\n",
    "**Smartphones: Optimize for Volume**\n",
    "- *Action*: Maintain competitive pricing, focus on operational efficiency\n",
    "- *Rationale*: Market leader in units, customer acquisition channel for other products  \n",
    "- *Implementation*: Streamline supply chain, reduce cost per unit by 3%\n",
    "- *Success Metric*: Maintain market share while improving profit margin to 15%\n",
    "- *Timeline*: 6 months\n",
    "- *Investment Required*: $2M in supply chain optimization\n",
    "\n",
    "**Laptops: Preserve Premium Position**\n",
    "- *Action*: Invest in high-end features, selective market expansion\n",
    "- *Rationale*: Highest profitability, strong customer satisfaction scores\n",
    "- *Implementation*: R&D focus on premium segments, limited promotional pricing\n",
    "- *Success Metric*: Maintain 28% margin while growing revenue by 10%\n",
    "- *Timeline*: 12 months  \n",
    "- *Investment Required*: $5M in product development\n",
    "\n",
    "**Tablets: Strategic Pivot Required**\n",
    "- *Action*: Discontinue underperforming models, focus on specific use cases\n",
    "- *Rationale*: Declining market, resources better allocated elsewhere\n",
    "- *Implementation*: Phase out 3 lowest-performing models, pivot to educational/business markets\n",
    "- *Success Metric*: Reduce SKUs by 40%, improve profit margin to 20%\n",
    "- *Timeline*: 9 months\n",
    "- *Investment Required*: $1M in market repositioning\n",
    "\n",
    "**Implementation Roadmap:**\n",
    "\n",
    "**Month 1-3: Quick Wins**\n",
    "- Smartphone supply chain negotiations\n",
    "- Tablet model discontinuation announcements\n",
    "- Laptop premium positioning campaign\n",
    "\n",
    "**Month 4-6: Core Changes**  \n",
    "- New smartphone cost structure implementation\n",
    "- Tablet market pivot execution\n",
    "- Laptop R&D investment allocation\n",
    "\n",
    "**Month 7-12: Long-term Strategy**\n",
    "- Results monitoring and adjustment\n",
    "- Strategy refinement based on market response\n",
    "- Planning for next analytical cycle\n",
    "\n",
    "**Success Measurement Framework:**\n",
    "- **Financial metrics**: Revenue, profit margin, cost per unit\n",
    "- **Market metrics**: Market share, customer satisfaction, competitive position\n",
    "- **Operational metrics**: Inventory turnover, supply chain efficiency\n",
    "- **Strategic metrics**: Brand perception, customer lifetime value\n",
    "\n",
    "**Risk Mitigation:**\n",
    "- **Smartphone strategy**: Monitor competitor pricing, have contingency plans if margins compress further\n",
    "- **Laptop strategy**: Track technology trends, be ready to adjust premium positioning\n",
    "- **Tablet strategy**: Maintain core customer relationships during transition\n",
    "\n",
    "> **Key Principle:** Analytics without action is just expensive reporting. The goal is not to generate insights but to generate better business outcomes through data-driven decisions."
   ]
  },
  {
   "cell_type": "markdown",
   "id": "7810688a",
   "metadata": {},
   "source": [
    "### **1.7: The CRISP-DM Framework**"
   ]
  },
  {
   "cell_type": "markdown",
   "id": "74d03626",
   "metadata": {},
   "source": [
    "**The Industry Standard for Data Science Projects**\n",
    "\n",
    "CRISP-DM (Cross-Industry Standard Process for Data Mining) is the most widely adopted methodology for structuring data science and analytics projects. Developed in the late 1990s, it provides a proven framework that has guided thousands of successful projects across industries.\n",
    "\n",
    "**Why CRISP-DM Matters:**\n",
    "- **Reduces project risk**: Structured approach prevents common pitfalls\n",
    "- **Improves communication**: Common language between technical and business teams  \n",
    "- **Ensures business relevance**: Keeps focus on solving real problems, not just technical exercises\n",
    "- **Facilitates planning**: Clear phases help with resource allocation and timeline estimation\n",
    "\n",
    "**The Six Phases of CRISP-DM:**\n",
    "\n",
    "**1. Business Understanding (25% of project effort)**\n",
    "- **Primary Goal**: Define the business problem and project objectives\n",
    "- **Key Activities**:\n",
    "  - Assess the business situation and requirements\n",
    "  - Define data mining goals and success criteria\n",
    "  - Produce project plan with timeline and resources\n",
    "- **Deliverables**: Project charter, success metrics, preliminary project plan\n",
    "- **Example Questions**: \"What specific business problem are we solving? How will we measure success? What are the constraints and requirements?\"\n",
    "\n",
    "**2. Data Understanding (20% of project effort)**\n",
    "- **Primary Goal**: Collect and explore available data to assess quality and discover insights\n",
    "- **Key Activities**:\n",
    "  - Collect initial data from various sources\n",
    "  - Describe data characteristics and quality\n",
    "  - Explore data to discover initial insights\n",
    "  - Verify data quality and identify missing values\n",
    "- **Deliverables**: Data collection report, data description, data quality assessment\n",
    "- **Example Questions**: \"What data is available? What is the quality like? Are there obvious patterns or issues?\"\n",
    "\n",
    "**3. Data Preparation (50% of project effort)**\n",
    "- **Primary Goal**: Construct the final dataset for modeling\n",
    "- **Key Activities**:\n",
    "  - Select relevant data for analysis\n",
    "  - Clean data by handling missing values and outliers\n",
    "  - Construct new features from existing variables\n",
    "  - Integrate data from multiple sources\n",
    "  - Format data for modeling tools\n",
    "- **Deliverables**: Clean dataset, feature engineering documentation, data preparation report\n",
    "- **Example Questions**: \"How do we clean and transform this data? What new features should we create? How do we handle missing values?\"\n",
    "\n",
    "**4. Modeling (15% of project effort)**\n",
    "- **Primary Goal**: Select and apply appropriate modeling techniques\n",
    "- **Key Activities**:\n",
    "  - Select modeling techniques appropriate for the problem\n",
    "  - Generate test design for model evaluation\n",
    "  - Build and calibrate models\n",
    "  - Assess models for business relevance and accuracy\n",
    "- **Deliverables**: Trained models, model descriptions, model assessment report\n",
    "- **Example Questions**: \"Which algorithms are most appropriate? How do we tune parameters? Which model performs best?\"\n",
    "\n",
    "**5. Evaluation (5% of project effort)**\n",
    "- **Primary Goal**: Thoroughly evaluate models and review project process\n",
    "- **Key Activities**:\n",
    "  - Evaluate results against business success criteria\n",
    "  - Review the entire process for missed opportunities\n",
    "  - Determine next steps (deploy, iterate, or abandon)\n",
    "- **Deliverables**: Assessment of models against business criteria, revised business objectives\n",
    "- **Example Questions**: \"Do these results solve the original business problem? What did we learn? Should we proceed to deployment?\"\n",
    "\n",
    "**6. Deployment (5% of project effort)**\n",
    "- **Primary Goal**: Make the model results available for business use\n",
    "- **Key Activities**:\n",
    "  - Plan deployment strategy (reports, dashboards, automated systems)\n",
    "  - Monitor and maintain the deployed solution\n",
    "  - Produce final report and project review\n",
    "  - Plan for ongoing monitoring and updates\n",
    "- **Deliverables**: Deployment plan, monitoring strategy, final project report\n",
    "- **Example Questions**: \"How will business users access these insights? What ongoing maintenance is needed? How do we measure success in production?\"\n",
    "\n",
    "**CRISP-DM in Practice: E-commerce Recommendation System**\n",
    "\n",
    "*Business Understanding*: Increase sales by 15% through personalized product recommendations\n",
    "*Data Understanding*: Customer purchase history, product catalogs, website behavior logs\n",
    "*Data Preparation*: Clean purchase data, create customer profiles, engineer interaction features\n",
    "*Modeling*: Test collaborative filtering, content-based, and hybrid recommendation algorithms\n",
    "*Evaluation*: A/B test recommendations with 10% of users, measure conversion lift\n",
    "*Deployment*: Integrate winning model into website, create monitoring dashboard\n",
    "\n",
    "**Key Success Factors:**\n",
    "- **Iterative Process**: Expect to cycle between phases as you learn more\n",
    "- **Business Involvement**: Keep stakeholders engaged throughout, not just at the beginning and end\n",
    "- **Documentation**: Each phase builds on previous work - good documentation is essential\n",
    "- **Flexibility**: Adapt the framework to your specific context and constraints\n",
    "\n",
    "**📚 Want to Learn More?**\n",
    "\n",
    "For a comprehensive guide to implementing CRISP-DM in your projects, check out the original methodology documentation:\n",
    "\n",
    "**[Official CRISP-DM Guide](https://www.the-modeling-agency.com/crisp-dm.pdf)** - The definitive 76-page reference document with detailed process descriptions, templates, and checklists.\n",
    "\n",
    "Additional helpful resources:\n",
    "- IBM SPSS CRISP-DM methodology overview\n",
    "- KDnuggets CRISP-DM implementation guides  \n",
    "- Academic research on CRISP-DM effectiveness and adaptations\n",
    "\n",
    "> **Pro Tip:** While CRISP-DM provides excellent structure, remember that real projects are messy. Use the framework as a guide, but be prepared to iterate, backtrack, and adapt as you discover new information about your data and business problem."
   ]
  },
  {
   "cell_type": "markdown",
   "id": "29c1b8e3",
   "metadata": {},
   "source": [
    "### **1.8: Activity Example — Sales Drop Scenario**"
   ]
  },
  {
   "cell_type": "markdown",
   "id": "206741dc",
   "metadata": {},
   "source": [
    "**Scenario:** Online sales fell **15% over two months.**\n",
    "\n",
    "| Stage | Analyst Response |\n",
    "|--------|------------------|\n",
    "| Business Understanding | Ask: “Why did sales drop?” |\n",
    "| Data Understanding | Gather ad spend, web traffic, prices |\n",
    "| Data Preparation | Align dates, standardize values |\n",
    "| Modeling | Time-series or correlation |\n",
    "| Evaluation | Check for seasonality or external effects |\n",
    "| Deployment | Recommend pricing or advertising changes |"
   ]
  },
  {
   "cell_type": "markdown",
   "id": "dde939ab",
   "metadata": {},
   "source": [
    "### **1.9: Types of Analytics**"
   ]
  },
  {
   "cell_type": "markdown",
   "id": "0bd2968b",
   "metadata": {},
   "source": [
    "| Type | Question Answered | Example |\n",
    "|------|-------------------|---------|\n",
    "| **Descriptive** | What happened? | Monthly revenue report |\n",
    "| **Diagnostic** | Why did it happen? | Investigate sales drop |\n",
    "| **Predictive** | What will happen? | Forecasting demand |\n",
    "| **Prescriptive** | What should we do? | Recommend discount strategy |"
   ]
  },
  {
   "cell_type": "markdown",
   "id": "e07de297",
   "metadata": {},
   "source": [
    "### **1.10: Benefits and Risks of Analytics**"
   ]
  },
  {
   "cell_type": "markdown",
   "id": "6fa95f6c",
   "metadata": {},
   "source": [
    "#### **1.10.1: Benefits**"
   ]
  },
  {
   "cell_type": "markdown",
   "id": "ef889d51",
   "metadata": {},
   "source": [
    "- ✅ Faster decision-making  \n",
    "- ✅ Visibility into hidden patterns  \n",
    "- ✅ Increased efficiency and automation"
   ]
  },
  {
   "cell_type": "markdown",
   "id": "3b0b369a",
   "metadata": {},
   "source": [
    "#### **1.10.2: Risks**"
   ]
  },
  {
   "cell_type": "markdown",
   "id": "21216a99",
   "metadata": {},
   "source": [
    "- ⚠ Misleading results due to bad data  \n",
    "- ⚠ Privacy or ethical misuse  \n",
    "- ⚠ False confidence in flawed models"
   ]
  },
  {
   "cell_type": "markdown",
   "id": "0b62b2b1",
   "metadata": {},
   "source": [
    "### **1.11: Summary**"
   ]
  },
  {
   "cell_type": "markdown",
   "id": "620ced3d",
   "metadata": {},
   "source": [
    "Chapter 1 established the foundation for understanding data analytics as a systematic approach to decision-making. Here's what we covered:\n",
    "\n",
    "**🎯 Core Learning Objectives Achieved:**\n",
    "\n",
    "**Understanding Data (1.1)**\n",
    "- **Information vs. Data**: Distinguished between raw facts and meaningful insights\n",
    "- **Data awareness**: Recognized data's presence in everyday decisions and business operations\n",
    "\n",
    "**The Analytics Process (1.2)**\n",
    "- **Systematic approach**: Learned the step-by-step process from question to action\n",
    "- **Business context**: Understanding how analytics addresses real business problems\n",
    "\n",
    "**Data Management Fundamentals (1.3-1.4)**\n",
    "- **Data collection**: Gathering information from fragmented sources\n",
    "- **Data integration**: Joining datasets with and without common keys\n",
    "- **Data cleaning**: Handling missing values, inconsistencies, and quality issues\n",
    "- **Data preparation**: Getting data ready for analysis\n",
    "\n",
    "**Analysis Approaches (1.5)**\n",
    "- **Exploratory Data Analysis (EDA)**: Discovering patterns and relationships in data\n",
    "- **Modeling**: Building predictive and descriptive models to generate insights\n",
    "- **Statistical thinking**: Understanding distributions, trends, and correlations\n",
    "\n",
    "**From Analysis to Action (1.6-1.8)**\n",
    "- **Insight translation**: Converting analytical findings into business recommendations\n",
    "- **CRISP-DM Framework**: Following industry-standard methodology for data science projects\n",
    "- **Practical application**: Working through real scenarios like sales drop investigations\n",
    "\n",
    "**Analytics Landscape (1.9-1.10)**\n",
    "- **Types of analytics**: Descriptive, diagnostic, predictive, and prescriptive approaches\n",
    "- **Business value**: Understanding competitive advantages and operational improvements\n",
    "- **Risk awareness**: Recognizing potential pitfalls and ethical considerations\n",
    "\n",
    "**Key Skills You Can Now Apply:**\n",
    "✅ Identify opportunities where data analytics can drive better decisions  \n",
    "✅ Understand the complete analytics workflow from data to action  \n",
    "✅ Recognize different types of analytical approaches and when to use them  \n",
    "✅ Appreciate the importance of data quality and proper preparation  \n",
    "✅ Follow structured methodologies like CRISP-DM for analytics projects  \n",
    "✅ Balance the benefits and risks of analytical approaches  \n",
    "\n",
    "> **Analytics is not just charts or numbers. It is the disciplined process of turning raw information into confident decisions.**"
   ]
  },
  {
   "cell_type": "markdown",
   "id": "1a63db1a",
   "metadata": {},
   "source": [
    "## 🏢 Chapter 2: Data Analytics Solutions to Real Life Problems"
   ]
  },
  {
   "cell_type": "markdown",
   "id": "6e7764e9",
   "metadata": {},
   "source": [
    "### **2.1: Retail Problem – Predicting Product Demand**"
   ]
  },
  {
   "cell_type": "markdown",
   "id": "3145143f",
   "metadata": {},
   "source": [
    "**The Business Challenge**\n",
    "\n",
    "Retailers face one of the most fundamental challenges in business: the **inventory optimization paradox**. Stock too little, and you lose sales to competitors when customers can't find what they want. Stock too much, and you tie up capital in inventory that may become obsolete, seasonal, or damaged.\n",
    "\n",
    "**Real-World Impact:**\n",
    "- **Stockouts cost**: A typical retailer loses 4-8% of annual revenue to stockouts\n",
    "- **Excess inventory cost**: Holding costs average 20-25% of inventory value annually\n",
    "- **Seasonal volatility**: Holiday demand can be 3-5x normal levels, making prediction critical\n",
    "- **Product lifecycle**: Fashion items may have selling seasons of only 6-12 weeks\n",
    "\n",
    "**Why Traditional Methods Fail:**\n",
    "- **Gut feeling**: Store managers' intuition doesn't scale across thousands of SKUs\n",
    "- **Simple averages**: \"We sold 100 units last month, so order 100\" ignores trends and seasonality\n",
    "- **Vendor minimums**: Suppliers often require minimum orders that don't match actual demand\n",
    "- **Economic factors**: Inflation, unemployment, and consumer confidence affect purchasing patterns\n",
    "\n",
    "Predictive demand analytics transforms this guesswork into data-driven precision, using historical sales patterns, external factors (weather, events, economic indicators), and real-time signals to forecast future demand with statistical confidence."
   ]
  },
  {
   "cell_type": "markdown",
   "id": "0391ccef",
   "metadata": {},
   "source": [
    "**Analytics Approach & Business Value**\n",
    "\n",
    "Instead of reactive ordering (waiting until inventory runs low), predictive models enable **proactive inventory management**:\n",
    "\n",
    "**Key Data Sources:**\n",
    "- **Historical sales data**: Pattern recognition across seasons, trends, and cycles\n",
    "- **External factors**: Weather data (ice cream sales spike at 75°F+), economic indicators, local events\n",
    "- **Competitor analysis**: Price monitoring and market share impacts\n",
    "- **Supply chain data**: Lead times, supplier reliability, shipping costs\n",
    "\n",
    "**Business Benefits:**\n",
    "- **Revenue protection**: Reduce lost sales from stockouts by 60-80%\n",
    "- **Cash flow optimization**: Decrease excess inventory holding costs by 15-25%  \n",
    "- **Customer satisfaction**: Improve in-stock rates from 85% to 95%+\n",
    "- **Operational efficiency**: Automate reordering decisions, freeing up manager time for customer service\n",
    "\n",
    "**Common Modeling Approaches:**\n",
    "- **Time series forecasting**: ARIMA, exponential smoothing for trend and seasonal patterns\n",
    "- **Machine learning**: Random forests, neural networks incorporating multiple variables\n",
    "- **Collaborative filtering**: \"Customers who bought X also bought Y\" patterns\n",
    "- **Ensemble methods**: Combining multiple models for improved accuracy\n",
    "---"
   ]
  },
  {
   "cell_type": "markdown",
   "id": "dc5fe28a",
   "metadata": {},
   "source": [
    "**Figure 2.1: Retail Demand Forecasting Patterns**\n",
    "\n",
    "This chart compares stable versus volatile demand patterns over time, illustrating why predictive analytics is crucial for inventory management. The stable demand pattern (blue line) shows predictable seasonal fluctuations that are easier to forecast and stock for, while the volatile demand pattern (red line) demonstrates the challenges retailers face with unpredictable spikes and drops that require sophisticated forecasting models and larger safety stock buffers.\n",
    "\n",
    "**Don't worry about the code — just focus on the visual insight.**"
   ]
  },
  {
   "cell_type": "code",
   "execution_count": null,
   "id": "4d38f03d",
   "metadata": {},
   "outputs": [
    {
     "data": {
      "image/png": "[encoded data removed]",
      "text/plain": [
       "<Figure size 640x480 with 1 Axes>"
      ]
     },
     "metadata": {},
     "output_type": "display_data"
    }
   ],
   "source": [
    "# Import required libraries for data visualization and numerical operations\n",
    "import matplotlib.pyplot as plt  # For creating charts and graphs\n",
    "import numpy as np               # For mathematical operations and random number generation\n",
    "\n",
    "# Create a time series representing 30 days of demand data\n",
    "days = np.arange(1, 31)  # Generate an array of integers from 1 to 30 (representing days)\n",
    "\n",
    "# Simulate STABLE demand pattern\n",
    "# np.sin(days/3) creates a smooth cyclical pattern (like weekly seasonality)\n",
    "# np.random.normal(0, 0.2, size=30) adds small random variations around the pattern\n",
    "# The 0.2 standard deviation means 95% of variations are within ±0.4 units\n",
    "stable = np.sin(days/3) + np.random.normal(0, 0.2, size=30)\n",
    "\n",
    "# Simulate VOLATILE demand pattern  \n",
    "# Same cyclical base pattern but with much larger random variations\n",
    "# The 0.8 standard deviation means 95% of variations are within ±1.6 units\n",
    "# This represents unpredictable demand swings that are 4x larger than stable demand\n",
    "volatile = np.sin(days/3) + np.random.normal(0, 0.8, size=30)\n",
    "\n",
    "# Create the visualization\n",
    "plt.plot(days, stable, label=\"Stable Demand\", linewidth=2, color='blue')    # Smooth, predictable line\n",
    "plt.plot(days, volatile, label=\"Volatile Demand\", linewidth=2, color='red') # Jagged, unpredictable line\n",
    "\n",
    "# Add chart formatting and labels\n",
    "plt.title(\"Simulated Retail Demand: Stable vs Volatile Patterns\", fontsize=14, fontweight='bold')\n",
    "plt.xlabel(\"Day of Month\", fontsize=12)\n",
    "plt.ylabel(\"Relative Demand (Normalized Units)\", fontsize=12)\n",
    "plt.legend(fontsize=11)  # Show which line represents which demand type\n",
    "\n",
    "# Add a grid for easier reading of values\n",
    "plt.grid(True, alpha=0.3)  # Light grid lines to help read exact values\n",
    "\n",
    "# Display the chart\n",
    "plt.show()\n",
    "\n",
    "# BUSINESS INSIGHT: Stable demand is much easier to forecast and manage inventory for.\n",
    "# Volatile demand requires larger safety stock and more sophisticated forecasting models."
   ]
  },
  {
   "cell_type": "markdown",
   "id": "554aa53a",
   "metadata": {},
   "source": [
    "### **2.2: Healthcare Problem – Predicting Readmission Risk**"
   ]
  },
  {
   "cell_type": "markdown",
   "id": "9385c058",
   "metadata": {},
   "source": [
    "**The Healthcare Challenge**\n",
    "\n",
    "Hospital readmissions within 30 days are a critical healthcare quality metric with enormous financial and human costs. In the US healthcare system, approximately **20% of Medicare patients** are readmitted within 30 days, costing the system over **$41 billion annually**.\n",
    "\n",
    "**Why Readmissions Matter:**\n",
    "- **Patient outcomes**: Readmissions often indicate incomplete treatment or complications\n",
    "- **Financial penalties**: Medicare reduces payments to hospitals with high readmission rates\n",
    "- **Resource strain**: Emergency readmissions disrupt planned care schedules\n",
    "- **Quality metrics**: Readmission rates are publicly reported as quality indicators\n",
    "\n",
    "**Common Risk Factors:**\n",
    "- **Medical complexity**: Patients with multiple chronic conditions (diabetes + heart failure)\n",
    "- **Social determinants**: Lack of transportation, family support, or health literacy\n",
    "- **Care transitions**: Poor communication between hospital and outpatient providers\n",
    "- **Medication adherence**: Complex drug regimens that patients struggle to follow\n",
    "\n",
    "**Traditional vs. Predictive Approach:**\n",
    "- **Traditional**: Discharge all patients with standard follow-up instructions\n",
    "- **Predictive**: Use data to identify high-risk patients for intensive intervention programs"
   ]
  },
  {
   "cell_type": "markdown",
   "id": "e75196fb",
   "metadata": {},
   "source": [
    "**Predictive Analytics in Healthcare**\n",
    "\n",
    "Risk stratification models analyze hundreds of variables to assign each patient a **readmission probability score**. This enables targeted interventions where they'll have the greatest impact.\n",
    "\n",
    "**Key Data Inputs:**\n",
    "- **Clinical data**: Diagnosis codes, lab results, vital signs, length of stay\n",
    "- **Historical patterns**: Previous admissions, medication compliance, outpatient visits\n",
    "- **Social factors**: Insurance type, distance from hospital, family support systems\n",
    "- **Discharge planning**: Medications prescribed, follow-up appointments scheduled\n",
    "\n",
    "**Intervention Strategies by Risk Level:**\n",
    "- **High risk (>40% probability)**: Dedicated case manager, home health visits, daily check-ins\n",
    "- **Medium risk (20-40%)**: Discharge planning specialist, 72-hour follow-up call\n",
    "- **Low risk (<20%)**: Standard discharge instructions, routine follow-up\n",
    "\n",
    "**Measurable Outcomes:**\n",
    "- **Clinical impact**: 15-30% reduction in 30-day readmissions\n",
    "- **Cost savings**: $3,000-8,000 saved per prevented readmission\n",
    "- **Patient satisfaction**: Improved experience through proactive support\n",
    "- **Staff efficiency**: Focus intensive resources on patients who need them most\n",
    "\n",
    "**Model Performance Metrics:**\n",
    "- **Sensitivity**: Correctly identifying 80%+ of patients who will be readmitted\n",
    "- **Specificity**: Avoiding false alarms that waste intervention resources\n",
    "- **Positive predictive value**: When the model says \"high risk,\" it's right 60%+ of the time\n",
    "---"
   ]
  },
  {
   "cell_type": "markdown",
   "id": "451ae62a",
   "metadata": {},
   "source": [
    "**Figure 2.2: Healthcare Readmission Risk Analysis**\n",
    "\n",
    "This bar chart simulates readmission risk across different medical conditions, demonstrating how predictive analytics can identify high-risk patients who need intensive intervention programs. The visualization shows that heart failure patients have the highest readmission probability at 40%, followed by COPD at 35%, making them priority targets for discharge planning and follow-up care.\n",
    "\n",
    "**Don't worry about the code — just focus on the visual insight.**"
   ]
  },
  {
   "cell_type": "code",
   "execution_count": null,
   "id": "b55e30d6",
   "metadata": {},
   "outputs": [
    {
     "data": {
      "image/png": "[encoded data removed]",
      "text/plain": [
       "<Figure size 640x480 with 1 Axes>"
      ]
     },
     "metadata": {},
     "output_type": "display_data"
    }
   ],
   "source": [
    "# Import visualization library\n",
    "import matplotlib.pyplot as plt\n",
    "\n",
    "# Define medical conditions commonly associated with readmissions\n",
    "# These are based on real healthcare data showing highest-risk conditions\n",
    "conditions = [\"Diabetes\", \"Heart Failure\", \"COPD\", \"Hypertension\"]\n",
    "\n",
    "# Readmission risk probabilities based on healthcare research\n",
    "# These percentages reflect actual patterns from Medicare data\n",
    "risk = [0.25,    # Diabetes: 25% readmission rate due to blood sugar complications\n",
    "        0.40,    # Heart Failure: 40% rate - highest risk due to fluid management issues  \n",
    "        0.35,    # COPD (lung disease): 35% rate - respiratory complications common\n",
    "        0.20]    # Hypertension: 20% rate - generally more manageable condition\n",
    "\n",
    "# Create a bar chart to visualize risk levels\n",
    "bars = plt.bar(conditions, risk, \n",
    "               color=['#FF6B6B', '#FF4757', '#FF3838', '#FF6B9D'],  # Red gradient - higher risk = darker red\n",
    "               edgecolor='black',    # Black borders for clarity\n",
    "               linewidth=1.2)        # Border thickness\n",
    "\n",
    "# Add percentage labels on top of each bar for precise reading\n",
    "for i, bar in enumerate(bars):\n",
    "    height = bar.get_height()  # Get the bar height (risk probability)\n",
    "    plt.text(bar.get_x() + bar.get_width()/2,  # Center horizontally on bar\n",
    "             height + 0.01,                     # Position slightly above bar\n",
    "             f'{risk[i]:.0%}',                  # Format as percentage (e.g., \"25%\")\n",
    "             ha='center',                       # Center-align text\n",
    "             fontsize=11,                       # Text size\n",
    "             fontweight='bold')                 # Bold for emphasis\n",
    "\n",
    "# Chart formatting and labels\n",
    "plt.title(\"30-Day Hospital Readmission Risk by Medical Condition\", \n",
    "          fontsize=14, fontweight='bold', pad=20)\n",
    "plt.ylabel(\"Readmission Probability\", fontsize=12)\n",
    "plt.xlabel(\"Primary Medical Condition\", fontsize=12)\n",
    "\n",
    "# Set y-axis to show 0-50% range for better visual scaling\n",
    "plt.ylim(0, 0.5)\n",
    "\n",
    "# Add horizontal grid lines to help read values\n",
    "plt.grid(axis='y', alpha=0.3, linestyle='--')\n",
    "\n",
    "# Rotate x-axis labels for better readability if needed\n",
    "plt.xticks(rotation=0, fontsize=10)\n",
    "\n",
    "# Add a subtle background color to distinguish the chart area\n",
    "plt.gca().set_facecolor('#F8F9FA')\n",
    "\n",
    "plt.tight_layout()  # Adjust spacing to prevent label cutoff\n",
    "plt.show()\n",
    "\n",
    "# CLINICAL INSIGHT: Heart failure has the highest readmission risk because:\n",
    "# 1. Fluid balance is difficult to manage at home\n",
    "# 2. Symptoms can deteriorate rapidly\n",
    "# 3. Multiple medications with complex interactions\n",
    "# 4. Often occurs in elderly patients with multiple conditions"
   ]
  },
  {
   "cell_type": "markdown",
   "id": "85697c2d",
   "metadata": {},
   "source": [
    "### **2.3: Transportation Problem – Optimizing Delivery Routes**"
   ]
  },
  {
   "cell_type": "markdown",
   "id": "83578dd3",
   "metadata": {},
   "source": [
    "**The Logistics Challenge**\n",
    "\n",
    "Transportation and logistics represent the **physical backbone of modern commerce**, with route optimization being a classic operations research problem that has evolved dramatically with big data and real-time analytics.\n",
    "\n",
    "**Scale of the Problem:**\n",
    "- **Global shipping**: $14 trillion in goods moved annually worldwide\n",
    "- **Last-mile delivery**: Accounts for 50-60% of total shipping costs\n",
    "- **Environmental impact**: Transportation represents 24% of global CO2 emissions\n",
    "- **Economic sensitivity**: 1% improvement in logistics efficiency can save billions globally\n",
    "\n",
    "**Traditional Route Planning Limitations:**\n",
    "- **Static maps**: Don't account for real-time traffic, construction, or weather\n",
    "- **Distance-only optimization**: Ignores speed limits, traffic patterns, vehicle types\n",
    "- **Manual planning**: Human dispatchers can't optimize beyond 10-20 stops efficiently\n",
    "- **Historical assumptions**: \"This route worked yesterday\" doesn't predict today's conditions\n",
    "\n",
    "**Modern Data-Driven Approach:**\n",
    "- **Real-time traffic data**: Google Maps API, Waze crowdsourced data\n",
    "- **Predictive analytics**: Historical patterns + current conditions = future travel times\n",
    "- **Multi-constraint optimization**: Balance time, fuel cost, driver hours, customer preferences\n",
    "- **Dynamic re-routing**: Adjust routes in real-time as conditions change\n",
    "\n",
    "**Analytics-Driven Route Optimization**\n",
    "\n",
    "The relationship between distance and travel time reveals critical inefficiencies that simple mileage-based planning misses entirely.\n",
    "\n",
    "**Key Performance Indicators:**\n",
    "- **Route efficiency**: Miles per hour achieved vs. theoretical maximum\n",
    "- **Fuel consumption**: Actual vs. optimized fuel usage\n",
    "- **Customer satisfaction**: On-time delivery rates and delivery windows met\n",
    "- **Driver productivity**: Deliveries completed per shift, overtime requirements\n",
    "\n",
    "**Optimization Techniques:**\n",
    "- **Clustering analysis**: Group nearby stops to minimize backtracking\n",
    "- **Time window constraints**: Honor customer preferences while maximizing efficiency\n",
    "- **Vehicle capacity planning**: Balance load distribution across fleet\n",
    "- **Multi-objective optimization**: Minimize time, fuel, and cost simultaneously\n",
    "\n",
    "**Business Impact:**\n",
    "- **Cost reduction**: 10-20% savings in fuel and labor costs\n",
    "- **Service improvement**: More accurate delivery windows and faster service\n",
    "- **Scalability**: Handle increased volume without proportional cost increases\n",
    "- **Sustainability**: Reduced emissions through optimized routing\n",
    "---"
   ]
  },
  {
   "cell_type": "markdown",
   "id": "56d69ab0",
   "metadata": {},
   "source": [
    "**Figure 2.3: Transportation Route Efficiency Analysis**\n",
    "\n",
    "This scatter plot reveals the complex relationship between distance and delivery time, showing how traffic patterns, road conditions, and route efficiency can significantly impact actual travel times. The data points demonstrate that shorter routes don't always guarantee faster deliveries, highlighting the need for sophisticated route optimization algorithms that consider multiple factors beyond simple distance calculations.\n",
    "\n",
    "**Don't worry about the code — just focus on the visual insight.**"
   ]
  },
  {
   "cell_type": "code",
   "execution_count": null,
   "id": "a5f6e551",
   "metadata": {},
   "outputs": [
    {
     "data": {
      "image/png": "[encoded data removed]",
      "text/plain": [
       "<Figure size 640x480 with 1 Axes>"
      ]
     },
     "metadata": {},
     "output_type": "display_data"
    }
   ],
   "source": [
    "# Import required libraries\n",
    "import matplotlib.pyplot as plt\n",
    "import numpy as np\n",
    "\n",
    "# Set random seed for reproducible results in educational context\n",
    "np.random.seed(42)\n",
    "\n",
    "# Generate simulated delivery data\n",
    "# Create 50 delivery routes with varying distances (1-50 km range)\n",
    "distance = np.random.uniform(1, 50, 50)  # Uniform distribution simulates varied delivery locations\n",
    "\n",
    "# Calculate realistic travel times based on distance with variability\n",
    "# Base formula: time = distance * 1.2 (assuming average 50 km/hour speed)\n",
    "# Add random variation to simulate real-world factors (traffic, stops, etc.)\n",
    "base_time = distance * 1.2  # Linear relationship: longer distance = more time\n",
    "random_variation = np.random.normal(0, 5, 50)  # Random delays/savings (±10 minutes typically)\n",
    "time = base_time + random_variation\n",
    "\n",
    "# Ensure no negative times (unrealistic)\n",
    "time = np.maximum(time, distance * 0.5)  # Minimum time is distance * 0.5 (very fast delivery)\n",
    "\n",
    "# Create the scatter plot\n",
    "plt.figure(figsize=(10, 6))  # Set chart size for better readability\n",
    "\n",
    "# Plot each delivery as a point\n",
    "scatter = plt.scatter(distance, time, \n",
    "                     alpha=0.7,           # Semi-transparent points\n",
    "                     s=60,                # Point size\n",
    "                     c=time,              # Color points by time (heatmap effect)\n",
    "                     cmap='YlOrRd',       # Yellow to Red colormap (faster to slower)\n",
    "                     edgecolors='black',   # Black border around points\n",
    "                     linewidth=0.5)       # Thin border\n",
    "\n",
    "# Add a trend line to show the general relationship\n",
    "# np.polyfit finds the best-fit line through the data points\n",
    "coefficients = np.polyfit(distance, time, 1)  # 1 = linear trend line\n",
    "trend_line = np.poly1d(coefficients)          # Create function from coefficients\n",
    "x_trend = np.linspace(1, 50, 100)             # Smooth x-values for trend line\n",
    "plt.plot(x_trend, trend_line(x_trend), \n",
    "         color='red', linewidth=2, linestyle='--', \n",
    "         label=f'Trend: Time = {coefficients[0]:.1f} × Distance + {coefficients[1]:.1f}')\n",
    "\n",
    "# Chart formatting\n",
    "plt.title(\"Delivery Route Analysis: Distance vs Travel Time\", \n",
    "          fontsize=16, fontweight='bold', pad=20)\n",
    "plt.xlabel(\"Distance (kilometers)\", fontsize=12)\n",
    "plt.ylabel(\"Travel Time (minutes)\", fontsize=12)\n",
    "\n",
    "# Add color bar to explain the color coding\n",
    "colorbar = plt.colorbar(scatter)\n",
    "colorbar.set_label('Travel Time (minutes)', fontsize=10)\n",
    "\n",
    "# Add grid for easier reading of values\n",
    "plt.grid(True, alpha=0.3, linestyle=':')\n",
    "\n",
    "# Add legend for trend line\n",
    "plt.legend(fontsize=10, loc='upper left')\n",
    "\n",
    "# Set axis limits for better visualization\n",
    "plt.xlim(0, 55)\n",
    "plt.ylim(0, max(time) * 1.1)\n",
    "\n",
    "plt.tight_layout()  # Adjust spacing\n",
    "plt.show()\n",
    "\n",
    "# LOGISTICS INSIGHT: Points far above the trend line represent inefficient routes\n",
    "# These could be due to:\n",
    "# - Traffic congestion (urban areas)\n",
    "# - Multiple stops on same route\n",
    "# - Difficult delivery locations (stairs, security, etc.)\n",
    "# - Poor route planning (backtracking, non-optimal sequence)\n",
    "\n",
    "print(f\"Average speed: {np.mean(distance/time*60):.1f} km/hour\")\n",
    "print(f\"Correlation between distance and time: {np.corrcoef(distance, time)[0,1]:.3f}\")\n",
    "efficiency_outliers = np.sum(time > trend_line(distance) + 10)  # Routes >10 min slower than expected\n",
    "print(f\"Inefficient routes needing optimization: {efficiency_outliers} out of {len(distance)}\")"
   ]
  },
  {
   "cell_type": "markdown",
   "id": "ed77d36a",
   "metadata": {},
   "source": [
    "### **2.4: Finance Problem – Fraud Detection**"
   ]
  },
  {
   "cell_type": "markdown",
   "id": "c26bccc3",
   "metadata": {},
   "source": [
    "**The Financial Crime Challenge**\n",
    "\n",
    "Financial fraud represents one of the most costly and sophisticated threats to the global economy, with **$5.1 trillion lost annually** to fraudulent activities worldwide. The challenge is detecting fraudulent patterns among billions of legitimate transactions in real-time.\n",
    "\n",
    "**Types of Financial Fraud:**\n",
    "- **Credit card fraud**: Stolen cards, account takeovers, synthetic identities\n",
    "- **Wire transfer fraud**: Business email compromise, authorized push payment fraud\n",
    "- **Identity theft**: Opening accounts with stolen personal information\n",
    "- **Money laundering**: Converting illegal proceeds into legitimate-appearing assets\n",
    "\n",
    "**Why Fraud Detection is Extremely Difficult:**\n",
    "- **Needle in haystack**: Less than 0.1% of transactions are fraudulent\n",
    "- **Evolving tactics**: Fraudsters constantly adapt to avoid detection systems\n",
    "- **Speed requirement**: Must detect fraud in milliseconds during transaction processing\n",
    "- **False positive cost**: Blocking legitimate transactions frustrates customers and costs sales\n",
    "\n",
    "**Traditional Rules-Based vs. AI Approach:**\n",
    "- **Rules-based**: \"Flag transactions over $500 from new countries\" - rigid, easy to circumvent\n",
    "- **AI-based**: Machine learning identifies subtle patterns across hundreds of variables simultaneously"
   ]
  },
  {
   "cell_type": "markdown",
   "id": "6271a7de",
   "metadata": {},
   "source": [
    "**Machine Learning in Fraud Detection**\n",
    "\n",
    "Modern fraud detection systems use **ensemble models** that combine multiple algorithms to create a single fraud probability score for each transaction. This score drives automated decisions and investigator prioritization.\n",
    "\n",
    "**Key Data Features Used:**\n",
    "- **Transaction patterns**: Amount, time, location, merchant type, frequency\n",
    "- **Historical behavior**: Customer's typical spending patterns, geographic locations\n",
    "- **Device intelligence**: Browser fingerprint, mobile device ID, IP address reputation\n",
    "- **Network analysis**: Connections between accounts, shared devices, linked addresses\n",
    "\n",
    "**Model Architecture:**\n",
    "- **Supervised learning**: Trained on labeled fraud/legitimate transactions\n",
    "- **Unsupervised learning**: Detects unusual patterns without prior fraud examples  \n",
    "- **Deep learning**: Neural networks identify complex, non-linear fraud patterns\n",
    "- **Real-time scoring**: Models must make decisions in <100 milliseconds\n",
    "\n",
    "**Business Impact Metrics:**\n",
    "- **Fraud detection rate**: Catching 85-95% of fraudulent transactions\n",
    "- **False positive rate**: Keeping legitimate transaction blocks under 1-2%\n",
    "- **Financial impact**: Preventing $10-50 million in losses per year for large banks\n",
    "- **Customer experience**: Seamless processing for 99%+ of legitimate customers\n",
    "\n",
    "**Challenges in Model Performance:**\n",
    "- **Class imbalance**: 999 legitimate transactions for every 1 fraudulent one\n",
    "- **Concept drift**: Fraud patterns change over time, requiring model retraining\n",
    "- **Adversarial attacks**: Fraudsters actively try to fool the AI models\n",
    "- **Regulatory compliance**: Must be explainable for regulatory audits\n",
    "\n",
    "---"
   ]
  },
  {
   "cell_type": "markdown",
   "id": "1be20d27",
   "metadata": {},
   "source": [
    "**Figure 2.4: Fraud Detection Risk Score Distribution**\n",
    "\n",
    "This histogram illustrates the distribution of fraud risk scores across all financial transactions, demonstrating how machine learning models can effectively separate legitimate transactions (clustered near 0.0 risk score) from potentially fraudulent ones (higher risk scores). The clear separation between low-risk and high-risk transactions enables automated decision-making and helps investigators focus their efforts on the most suspicious activities.\n",
    "\n",
    "**Don't worry about the code — just focus on the visual insight.**"
   ]
  },
  {
   "cell_type": "code",
   "execution_count": null,
   "id": "9df77452",
   "metadata": {},
   "outputs": [
    {
     "data": {
      "image/png": "[encoded data removed]",
      "text/plain": [
       "<Figure size 640x480 with 1 Axes>"
      ]
     },
     "metadata": {},
     "output_type": "display_data"
    }
   ],
   "source": [
    "# Import required libraries\n",
    "import matplotlib.pyplot as plt\n",
    "import numpy as np\n",
    "\n",
    "# Set random seed for consistent educational results\n",
    "np.random.seed(123)\n",
    "\n",
    "# Simulate realistic fraud score distribution\n",
    "# In real fraud detection, most transactions have low fraud scores (legitimate)\n",
    "# Only a small percentage have high fraud scores (suspicious/fraudulent)\n",
    "\n",
    "# Generate legitimate transactions (90% of total) - low fraud scores\n",
    "legitimate_scores = np.random.normal(0.15, 0.08, 900)  # Mean=0.15, std=0.08\n",
    "legitimate_scores = np.clip(legitimate_scores, 0, 1)     # Keep scores between 0-1\n",
    "\n",
    "# Generate fraudulent transactions (10% of total) - high fraud scores  \n",
    "fraudulent_scores = np.random.normal(0.75, 0.12, 100)   # Mean=0.75, std=0.12\n",
    "fraudulent_scores = np.clip(fraudulent_scores, 0, 1)     # Keep scores between 0-1\n",
    "\n",
    "# Combine all scores to simulate real-world transaction mix\n",
    "all_scores = np.concatenate([legitimate_scores, fraudulent_scores])\n",
    "\n",
    "# Create the histogram\n",
    "plt.figure(figsize=(12, 6))\n",
    "\n",
    "# Plot histogram with detailed formatting\n",
    "counts, bins, patches = plt.hist(all_scores, bins=25, \n",
    "                                edgecolor='black', linewidth=0.8,\n",
    "                                alpha=0.7, color='skyblue')\n",
    "\n",
    "# Color code the bars: green for low-risk, yellow for medium, red for high-risk\n",
    "for i, patch in enumerate(patches):\n",
    "    bin_center = (bins[i] + bins[i+1]) / 2  # Calculate center of each bin\n",
    "    if bin_center < 0.3:\n",
    "        patch.set_facecolor('lightgreen')     # Low risk - green\n",
    "    elif bin_center < 0.6:\n",
    "        patch.set_facecolor('gold')           # Medium risk - yellow  \n",
    "    else:\n",
    "        patch.set_facecolor('lightcoral')     # High risk - red\n",
    "\n",
    "# Add vertical lines to show decision thresholds\n",
    "plt.axvline(x=0.3, color='orange', linestyle='--', linewidth=2, \n",
    "            label='Review Threshold (30%)')\n",
    "plt.axvline(x=0.6, color='red', linestyle='--', linewidth=2, \n",
    "            label='Block Threshold (60%)')\n",
    "\n",
    "# Chart formatting\n",
    "plt.title(\"Fraud Risk Score Distribution Across All Transactions\", \n",
    "          fontsize=16, fontweight='bold', pad=20)\n",
    "plt.xlabel(\"Fraud Risk Score (0 = Definitely Legitimate, 1 = Definitely Fraudulent)\", fontsize=12)\n",
    "plt.ylabel(\"Number of Transactions\", fontsize=12)\n",
    "\n",
    "# Add legend\n",
    "plt.legend(fontsize=11, loc='upper right')\n",
    "\n",
    "# Add text annotations explaining the interpretation\n",
    "plt.text(0.05, max(counts)*0.8, \n",
    "         f'Legitimate Transactions\\n({len(legitimate_scores):,} total)\\nLow Risk Scores', \n",
    "         fontsize=10, bbox=dict(boxstyle=\"round,pad=0.3\", facecolor=\"lightgreen\", alpha=0.7))\n",
    "\n",
    "plt.text(0.82, max(counts)*0.6, \n",
    "         f'Suspicious Transactions\\n({len(fraudulent_scores):,} total)\\nHigh Risk Scores', \n",
    "         fontsize=10, bbox=dict(boxstyle=\"round,pad=0.3\", facecolor=\"lightcoral\", alpha=0.7))\n",
    "\n",
    "# Add grid for easier reading\n",
    "plt.grid(axis='y', alpha=0.3, linestyle=':')\n",
    "\n",
    "# Set x-axis to show full 0-1 range\n",
    "plt.xlim(0, 1.0)\n",
    "\n",
    "plt.tight_layout()\n",
    "plt.show()\n",
    "\n",
    "# Calculate and display business metrics\n",
    "total_transactions = len(all_scores)\n",
    "low_risk = np.sum(all_scores < 0.3)\n",
    "medium_risk = np.sum((all_scores >= 0.3) & (all_scores < 0.6))\n",
    "high_risk = np.sum(all_scores >= 0.6)\n",
    "\n",
    "print(\"=== FRAUD DETECTION SYSTEM SUMMARY ===\")\n",
    "print(f\"Total Transactions Analyzed: {total_transactions:,}\")\n",
    "print(f\"Low Risk (Auto-Approve): {low_risk:,} ({low_risk/total_transactions:.1%})\")\n",
    "print(f\"Medium Risk (Manual Review): {medium_risk:,} ({medium_risk/total_transactions:.1%})\")\n",
    "print(f\"High Risk (Auto-Block): {high_risk:,} ({high_risk/total_transactions:.1%})\")\n",
    "print()\n",
    "print(\"BUSINESS IMPACT:\")\n",
    "print(f\"• Transactions requiring human review: {medium_risk + high_risk:,}\")\n",
    "print(f\"• Estimated fraud prevented: ${high_risk * 850:,} (assuming $850 avg fraud amount)\")\n",
    "print(f\"• Legitimate customers unaffected: {low_risk/total_transactions:.1%}\")"
   ]
  },
  {
   "cell_type": "markdown",
   "id": "c40a13ed",
   "metadata": {},
   "source": [
    "### **2.5: Education Problem – Student Retention Intervention**"
   ]
  },
  {
   "cell_type": "markdown",
   "id": "7aeda46f",
   "metadata": {},
   "source": [
    "Retention models highlight which students may leave before graduating. Institutions can intervene early."
   ]
  },
  {
   "cell_type": "markdown",
   "id": "e97a7117",
   "metadata": {},
   "source": [
    "Tracking retention over time helps educators visualize success trends."
   ]
  },
  {
   "cell_type": "markdown",
   "id": "7e48d824",
   "metadata": {},
   "source": [
    "**Figure 2.5: Student Retention Analysis Over Time**\n",
    "\n",
    "This line chart tracks student retention rates across four academic years, revealing the critical dropout points where educational institutions lose students. The visualization shows a steady decline from 100% freshman enrollment to 70% graduation, with the steepest drop occurring between Year 1 and Year 2, highlighting where predictive analytics and intervention programs could have the greatest impact on student success.\n",
    "\n",
    "**Don't worry about the code — just focus on the visual insight.**"
   ]
  },
  {
   "cell_type": "code",
   "execution_count": null,
   "id": "319ce336",
   "metadata": {},
   "outputs": [
    {
     "data": {
      "image/png": "[encoded data removed]",
      "text/plain": [
       "<Figure size 640x480 with 1 Axes>"
      ]
     },
     "metadata": {},
     "output_type": "display_data"
    }
   ],
   "source": [
    "\n",
    "import matplotlib.pyplot as plt\n",
    "\n",
    "semesters = [\"Year 1\", \"Year 2\", \"Year 3\", \"Year 4\"]\n",
    "retention = [1.0, 0.85, 0.78, 0.70]\n",
    "\n",
    "plt.plot(semesters, retention, marker='o')\n",
    "plt.title(\"Student Retention Over Time\")\n",
    "plt.ylabel(\"Retention Rate\")\n",
    "plt.show()\n"
   ]
  },
  {
   "cell_type": "markdown",
   "id": "9609328e",
   "metadata": {},
   "source": [
    "### **2.6: Public Sector Problem – Resource Allocation**"
   ]
  },
  {
   "cell_type": "markdown",
   "id": "1d0d2a2b",
   "metadata": {},
   "source": [
    "Public agencies must balance limited resources against pressing needs. Data reveals which regions benefit most per dollar spent."
   ]
  },
  {
   "cell_type": "markdown",
   "id": "0dcb8f86",
   "metadata": {},
   "source": [
    "Allocation strategies improve when trade-offs are made visible."
   ]
  },
  {
   "cell_type": "markdown",
   "id": "f7814c63",
   "metadata": {},
   "source": [
    "**Figure 2.6: Public Sector Resource Allocation Impact Analysis**\n",
    "\n",
    "This bar chart demonstrates how data-driven resource allocation can optimize public sector investments across different regions. The visualization shows varying impact scores (10-30 points) across regions A through D, with Region B showing the highest return on investment. This analysis helps government agencies and NGOs direct limited resources where they can achieve maximum social benefit and measurable community outcomes.\n",
    "\n",
    "**Don't worry about the code — just focus on the visual insight.**"
   ]
  },
  {
   "cell_type": "code",
   "execution_count": null,
   "id": "ab5149aa",
   "metadata": {},
   "outputs": [
    {
     "data": {
      "image/png": "[encoded data removed]",
      "text/plain": [
       "<Figure size 640x480 with 1 Axes>"
      ]
     },
     "metadata": {},
     "output_type": "display_data"
    }
   ],
   "source": [
    "\n",
    "import matplotlib.pyplot as plt\n",
    "\n",
    "regions = [\"A\", \"B\", \"C\", \"D\"]\n",
    "impact = [10, 30, 15, 25]\n",
    "\n",
    "plt.bar(regions, impact)\n",
    "plt.title(\"Simulated Impact of Resource Allocation\")\n",
    "plt.ylabel(\"Impact Score\")\n",
    "plt.show()\n"
   ]
  },
  {
   "cell_type": "markdown",
   "id": "6b8d49a3",
   "metadata": {},
   "source": [
    "### **2.7: Marketing Problem – Customer Segmentation**"
   ]
  },
  {
   "cell_type": "markdown",
   "id": "47886e0c",
   "metadata": {},
   "source": [
    "Segmentation helps tailor campaigns to distinct customer groups instead of broadcasting one-size-fits-all messaging."
   ]
  },
  {
   "cell_type": "markdown",
   "id": "26572906",
   "metadata": {},
   "source": [
    "The reach of each segment determines campaign prioritization."
   ]
  },
  {
   "cell_type": "markdown",
   "id": "43d42461",
   "metadata": {},
   "source": [
    "**Figure 2.7: Customer Segmentation Analysis**\n",
    "\n",
    "This pie chart illustrates the distribution of customers across four distinct behavioral segments identified through data analytics. Each segment represents different purchasing patterns and preferences: Budget Buyers (30%) focus on value and deals, Loyalists (25%) consistently choose familiar brands, Impulse Shoppers (20%) make spontaneous purchases, and Premium customers (25%) prioritize quality over price. Understanding these segments enables targeted marketing strategies and personalized customer experiences.\n",
    "\n",
    "**Don't worry about the code — just focus on the visual insight.**"
   ]
  },
  {
   "cell_type": "code",
   "execution_count": null,
   "id": "e593d2b3",
   "metadata": {},
   "outputs": [
    {
     "data": {
      "image/png": "[encoded data removed]",
      "text/plain": [
       "<Figure size 640x480 with 1 Axes>"
      ]
     },
     "metadata": {},
     "output_type": "display_data"
    }
   ],
   "source": [
    "\n",
    "import matplotlib.pyplot as plt\n",
    "\n",
    "segments = [\"Budget Buyer\", \"Loyalist\", \"Impulse Shopper\", \"Premium\"]\n",
    "sizes = [30, 25, 20, 25]\n",
    "\n",
    "plt.pie(sizes, labels=segments, autopct='%1.1f%%')\n",
    "plt.title(\"Customer Segment Distribution\")\n",
    "plt.show()\n"
   ]
  },
  {
   "cell_type": "markdown",
   "id": "f495d122",
   "metadata": {},
   "source": [
    "### **2.8: Manufacturing Problem – Predictive Maintenance**"
   ]
  },
  {
   "cell_type": "markdown",
   "id": "e78b0f61",
   "metadata": {},
   "source": [
    "Unexpected machine failure is costly. Analytics enables maintenance based on wear patterns rather than schedules."
   ]
  },
  {
   "cell_type": "markdown",
   "id": "98f5e87b",
   "metadata": {},
   "source": [
    "Gradual wear trends can predict time to intervention."
   ]
  },
  {
   "cell_type": "markdown",
   "id": "de24e3aa",
   "metadata": {},
   "source": [
    "**Figure 2.8: Predictive Maintenance Wear Pattern Analysis**\n",
    "\n",
    "This line chart simulates the progressive wear pattern of industrial machinery over a 30-day period, demonstrating how predictive maintenance systems track equipment degradation in real-time. The gradual upward trend in the wear index shows how sensors and IoT devices can detect subtle changes in machine performance, enabling maintenance teams to schedule interventions before costly breakdowns occur, ultimately reducing downtime and extending equipment life.\n",
    "\n",
    "**Don't worry about the code — just focus on the visual insight.**"
   ]
  },
  {
   "cell_type": "code",
   "execution_count": null,
   "id": "b1f3a8ec",
   "metadata": {},
   "outputs": [
    {
     "data": {
      "image/png": "[encoded data removed]",
      "text/plain": [
       "<Figure size 640x480 with 1 Axes>"
      ]
     },
     "metadata": {},
     "output_type": "display_data"
    }
   ],
   "source": [
    "\n",
    "import matplotlib.pyplot as plt\n",
    "import numpy as np\n",
    "\n",
    "days = np.arange(1, 31)\n",
    "wear = np.cumsum(np.random.normal(0.1, 0.02, 30))\n",
    "\n",
    "plt.plot(days, wear)\n",
    "plt.title(\"Simulated Machine Wear Over Time\")\n",
    "plt.xlabel(\"Day\")\n",
    "plt.ylabel(\"Wear Index\")\n",
    "plt.show()\n"
   ]
  },
  {
   "cell_type": "markdown",
   "id": "1238fedc",
   "metadata": {},
   "source": [
    "### **2.9: Energy Problem – Load Forecasting**"
   ]
  },
  {
   "cell_type": "markdown",
   "id": "8e5238f9",
   "metadata": {},
   "source": [
    "Electricity providers must anticipate usage to maintain stability. Load forecasting prevents outages and inefficiencies."
   ]
  },
  {
   "cell_type": "markdown",
   "id": "62c58d95",
   "metadata": {},
   "source": [
    "Tracking consumption across hours highlights demand peaks."
   ]
  },
  {
   "cell_type": "markdown",
   "id": "41219349",
   "metadata": {},
   "source": [
    "**Figure 2.9: Energy Load Forecasting Pattern Analysis**\n",
    "\n",
    "This area chart illustrates a typical 24-hour electricity demand curve, showing how energy consumption varies throughout the day with predictable patterns. The visualization captures peak usage during daytime hours and lower consumption overnight, demonstrating the cyclical nature of energy demand that utilities must forecast to ensure adequate power generation, optimize grid operations, and prevent blackouts while minimizing costs.\n",
    "\n",
    "**Don't worry about the code — just focus on the visual insight.**"
   ]
  },
  {
   "cell_type": "code",
   "execution_count": null,
   "id": "6b38893d",
   "metadata": {},
   "outputs": [
    {
     "data": {
      "image/png": "[encoded data removed]",
      "text/plain": [
       "<Figure size 640x480 with 1 Axes>"
      ]
     },
     "metadata": {},
     "output_type": "display_data"
    }
   ],
   "source": [
    "\n",
    "import matplotlib.pyplot as plt\n",
    "import numpy as np\n",
    "\n",
    "hours = range(24)\n",
    "usage = np.sin(np.array(hours)/3) + np.random.normal(0, 0.1, 24) + 1.5\n",
    "\n",
    "plt.fill_between(hours, usage)\n",
    "plt.title(\"Hourly Load Curve\")\n",
    "plt.xlabel(\"Hour\")\n",
    "plt.ylabel(\"Usage (MW)\")\n",
    "plt.show()\n"
   ]
  },
  {
   "cell_type": "markdown",
   "id": "a5bc7521",
   "metadata": {},
   "source": [
    "### **2.10: Key Takeaway**"
   ]
  },
  {
   "cell_type": "markdown",
   "id": "83bfaa40",
   "metadata": {},
   "source": [
    "Analytics is valuable only when tied directly to decisions and deployed in real workflows. Each industry example demonstrates how insight becomes impact through context, clarity, and execution."
   ]
  },
  {
   "cell_type": "markdown",
   "id": "e12f8edf",
   "metadata": {},
   "source": [
    "# 📈 Part 2: Basic Exploratory Data Analysis & Python Functions"
   ]
  },
  {
   "cell_type": "markdown",
   "id": "e4fafa4b",
   "metadata": {},
   "source": [
    "## 🐍 Chapter 3: Basic Python Usage For Data Manipulation"
   ]
  },
  {
   "cell_type": "markdown",
   "id": "1f4465e9",
   "metadata": {},
   "source": [
    "###  **Introduction**"
   ]
  },
  {
   "cell_type": "markdown",
   "id": "254697ab",
   "metadata": {},
   "source": [
    "This chapter explores some of the basic, everyday functions that I use in my role as a data analyst. This is a framework that is time-proven and effective in exploring and manipluting datasets. The following tools, libraries, and methodologies will get you started in performing exploratory data analysis on live data sets. "
   ]
  },
  {
   "cell_type": "markdown",
   "id": "9519d9ee",
   "metadata": {},
   "source": [
    "### **3.1: Basic Import Statements**"
   ]
  },
  {
   "cell_type": "markdown",
   "id": "2e1fdb9d",
   "metadata": {},
   "source": [
    "You can think of a Python library** as a specialized toolbox filled with useful tools.\n",
    "\n",
    "Before you can use that toolbox, you first need to purchase it and store it in your garage. Then, whenever you need one of its tools, you have to bring it out and set it on your workbench.\n",
    "\n",
    "In Python, this process works in a similar way:\n",
    "\n",
    "- **“Buying the toolbox”** = *installing a library on your computer*  \n",
    "  You do this by running a code cell in your Jupyter notebook like this:\n",
    "\n",
    "  ```bash\n",
    "  pip install pandas\n",
    "  ```\n",
    "\n",
    "  (You can usually find the exact `pip install` command by googling “pip install”, followed by whatever library you're trying to instal)\n",
    "\n",
    "- **“Bringing the toolbox to your workbench”** = *importing the library into your code*  \n",
    "  Once installed, you must import it before you can use it:\n",
    "\n",
    "  ```python\n",
    "  # Pandas — Data manipulation and analysis\n",
    "  import pandas as pd\n",
    "\n",
    "  # NumPy — Numerical operations and linear algebra\n",
    "  import numpy as np\n",
    "\n",
    "  # Matplotlib — Plotting and visualizations\n",
    "  import matplotlib.pyplot as plt\n",
    "  ```\n",
    "\n",
    "In this course, we will primarily use **pandas**, **numpy**, **matplotlib.pyplot**, and later on, a few additional modeling libraries.\n"
   ]
  },
  {
   "cell_type": "markdown",
   "id": "191ab0ca",
   "metadata": {},
   "source": [
    "### **3.2: Pandas DataFrame - Basics**"
   ]
  },
  {
   "cell_type": "markdown",
   "id": "b4a80a50",
   "metadata": {},
   "source": [
    "#### **3.2.1: Creating a DataFrame**"
   ]
  },
  {
   "cell_type": "markdown",
   "id": "c14e4520",
   "metadata": {},
   "source": [
    "This guide covers the most common operations you'll use with pandas DataFrames.\n",
    "```python\n",
    "# Import Statement for Pandas:\n",
    "import pandas as pd\n",
    "\n",
    "# Creating data that we will convert to a \n",
    "# Pandas DataFrame object.\n",
    "data = {\n",
    "    \"Student\": [\"Alice\", \"Ben\", \"Carlos\"],\n",
    "    \"GPA\": [3.5, 3.8, 3.2],\n",
    "    \"Credits\": [45, 60, 30]\n",
    "}\n",
    "\n",
    "df = pd.DataFrame(data)\n",
    "\n",
    "# Displaying the df\n",
    "display(df)\n",
    "```"
   ]
  },
  {
   "cell_type": "markdown",
   "id": "ef81b213",
   "metadata": {},
   "source": [
    "#### **3.2.2: Inspecting Data**"
   ]
  },
  {
   "cell_type": "markdown",
   "id": "2e4925ca",
   "metadata": {},
   "source": [
    "```python\n",
    "# View the first 5 rows\n",
    "display(df.head())\n",
    "\n",
    "# .head() defaults to 5 rows. \n",
    "# If you want to view the first x rows, just insert the number of rows you would like \n",
    "# to view into the parenthesis. For example, if you want to view the first 7 rows\n",
    "# of the DataFrame, just execute the following command:\n",
    "display(df.head(7))\n",
    "\n",
    "# Get basic info about the DataFrame (Non Null counts per column and datatype of each column.)\n",
    "print(df.info())\n",
    "\n",
    "# Summary statistics\n",
    "print(df.describe())\n",
    "```\n"
   ]
  },
  {
   "cell_type": "markdown",
   "id": "d862306c",
   "metadata": {},
   "source": [
    "#### **3.2.3: Selecting Data**"
   ]
  },
  {
   "cell_type": "markdown",
   "id": "9a7e2123",
   "metadata": {},
   "source": [
    "```python\n",
    "# Select a column\n",
    "print(df[\"GPA\"])\n",
    "\n",
    "# Select multiple columns\n",
    "print(df[[\"Student\", \"Credits\"]])\n",
    "```"
   ]
  },
  {
   "cell_type": "markdown",
   "id": "8043b983",
   "metadata": {},
   "source": [
    "#### **3.2.4: Selecting Data with iloc**"
   ]
  },
  {
   "cell_type": "markdown",
   "id": "33aae522",
   "metadata": {},
   "source": [
    "```python\n",
    "# .iloc is not a column or a stored attribute of the DataFrame — it is an \n",
    "# indexer object that lets you select data by integer position (row and \n",
    "# column numbers).\n",
    "\n",
    "# You always call it with square brackets [], and you can pass it one \n",
    "# or two arguments:\n",
    "\n",
    "# General form:\n",
    "df.iloc[row_index, column_index]\n",
    "\n",
    "```\n",
    "\n",
    "- Row index (first argument):\n",
    "\n",
    "    - Single integer → returns a row.\n",
    "\n",
    "    - Slice (`0:3`) → returns multiple rows.\n",
    "\n",
    "    - List of integers ([0, 2]) → returns multiple rows.\n",
    "\n",
    "- Column index (second argument, optional):\n",
    "\n",
    "    - Works the same way as row index but applies to columns.\n",
    "\n",
    "    - If you leave it out, you get the whole row.\n",
    "\n",
    "**Examples:**\n",
    "\n",
    "```python\n",
    "print(df.iloc[0])               # First row (row index 0)\n",
    "print(df.iloc[0, 1])            # First row, second column (integer positions)\n",
    "print(df.iloc[0:2, 0:2])        # First two rows and first two columns\n",
    "print(df.iloc[[0, 2], [1, 2]])  # Specific rows and columns\n",
    "``` \n",
    "\n",
    "Selecting Data from Pandas DataFrame objects:\n",
    "\n",
    "```python\n",
    "# Select by integer location (iloc)\n",
    "# iloc uses \"integer-location based indexing\"\n",
    "# It only works with row/column numbers (not labels).\n",
    "# Remember: Python uses 0-based indexing.\n",
    "print(df.iloc[0])        # Entire first row (row index 0)\n",
    "print(df.iloc[0, 1])     # Value at first row, second column (GPA of Alice)\n",
    "```\n"
   ]
  },
  {
   "cell_type": "markdown",
   "id": "673ec75b",
   "metadata": {},
   "source": [
    "#### **3.2.5: Select by label with loc**\n"
   ]
  },
  {
   "cell_type": "markdown",
   "id": "042e4a3f",
   "metadata": {},
   "source": [
    "```python\n",
    "# loc uses labels instead of integer positions.\n",
    "print(df.loc[0, \"Student\"])  # Student name in row with index label 0\n",
    "\n",
    "```"
   ]
  },
  {
   "cell_type": "markdown",
   "id": "33ae5e43",
   "metadata": {},
   "source": [
    "#### **3.2.6: Filtering Data**"
   ]
  },
  {
   "cell_type": "markdown",
   "id": "2beeff09",
   "metadata": {},
   "source": [
    "If we want to filter a Pandas DataFrame on a condition, we must first define that condition. For example, let's say that we want to filter a DataFrame of students down to only students that have a GPA greater than 3.5. \n",
    "\n",
    "The contition, in pseudocode, would be `df[GPA] > 3.5`. We can define the condition as follows, in Python: \n",
    "\n",
    "```python\n",
    "condition = df['GPA'] > 3.5\n",
    "```\n",
    "Now, to filter the DataFrame by that position, we can simply insert it as a \"Column Name\" into the DataFrame. And Pandas will know to only return rows where that condition is true: \n",
    "```python\n",
    "# Displaying the rows with a GPA > 3.5\n",
    "display(df[condition])\n",
    "```\n",
    "We can also filter on multiple conditions. For instance, let's say we want to filter the DataFrame to rows that only have a GPA greater than 3.5 (out last condition) **and** where credits are > 50.\n",
    "\n",
    "To accomplish this, you simply have to perform the following steps: \n",
    "\n",
    "**Step 1**: Define your 2 conditions\n",
    "```python\n",
    "gpa_condition = df['GPA'] > 3.5\n",
    "credits_condition = df['Credits'] > 50\n",
    "```\n",
    "**Step 2** Insert your conditions in square brackets, immediately after your dataframe object. Make sure to seperate your conditions by `&`. \n",
    "```python\n",
    "# Displaying rows with GPA > 3.5 and credits > 50 \n",
    "display(df[gpa_condition & credits_condition])\n",
    "```\n",
    "\n",
    "Side Note: `Logical operators` in Python will be discussed later in these notes. They're pretty easy to learn and you can do some very cool things with them! "
   ]
  },
  {
   "cell_type": "markdown",
   "id": "7f2fd700",
   "metadata": {},
   "source": [
    "#### **3.2.7: Adding and Modifying Columns**"
   ]
  },
  {
   "cell_type": "markdown",
   "id": "df6ad070",
   "metadata": {},
   "source": [
    "To add a new column of a DataFrame, you simply define your new column name in square brackets [] on the DataFrame and assign values to it.\n",
    "\n",
    "```python\n",
    "# Add a new column\n",
    "df[\"Graduated\"] = [False, False, False]\n",
    "\n",
    "# Modify an existing column\n",
    "df[\"GPA\"] = df[\"GPA\"] * 1.05\n",
    "```\n"
   ]
  },
  {
   "cell_type": "markdown",
   "id": "c804e0e6",
   "metadata": {},
   "source": [
    "#### **3.2.8: Sorting Data**"
   ]
  },
  {
   "cell_type": "markdown",
   "id": "4befce5f",
   "metadata": {},
   "source": [
    "```python\n",
    "# Sort by GPA descending\n",
    "print(df.sort_values(by=\"GPA\", ascending=False))\n",
    "```\n"
   ]
  },
  {
   "cell_type": "markdown",
   "id": "323ed521",
   "metadata": {},
   "source": [
    "#### **3.2.9: Grouping and Aggregating**"
   ]
  },
  {
   "cell_type": "markdown",
   "id": "69f53093",
   "metadata": {},
   "source": [
    "```python\n",
    "# Example with grouping (pretend we have majors)\n",
    "df[\"Major\"] = [\"Math\", \"Math\", \"History\"]\n",
    "print(df.groupby(\"Major\")[\"GPA\"].mean())\n",
    "```"
   ]
  },
  {
   "cell_type": "markdown",
   "id": "35ddf5c4",
   "metadata": {},
   "source": [
    "#### **3.2.10: Saving and Loading Data**"
   ]
  },
  {
   "cell_type": "markdown",
   "id": "b07f1318",
   "metadata": {},
   "source": [
    "```python\n",
    "# Save to CSV\n",
    "df.to_csv(\"students.csv\", index=False)\n",
    "# Note: Index=False will not add an index (row counting) row to your export.\n",
    "\n",
    "# Load from CSV\n",
    "df2 = pd.read_csv(\"students.csv\")\n",
    "print(df2)\n",
    "\n",
    "# Save to Excel\n",
    "df.to_excel(\"students.xlsx\", index=False)\n",
    "\n",
    "# Load from Excel\n",
    "df2 = pd.read_excel(\"students.xlsx\")\n",
    "print(df2)\n",
    "```"
   ]
  },
  {
   "cell_type": "markdown",
   "id": "5a729d89",
   "metadata": {},
   "source": [
    "#### **3.2.11: Finding the Size (Number of Columns / Rows) of a df**"
   ]
  },
  {
   "cell_type": "markdown",
   "id": "224c4e40",
   "metadata": {},
   "source": [
    "```python\n",
    "# Shape of the DataFrame (rows, columns)\n",
    "display(df.shape)      # e.g. (3, 3)\n",
    "\n",
    "# Number of rows\n",
    "display(len(df))       # e.g. 3\n",
    "display(df.shape[0])   # also gives 3\n",
    "\n",
    "# Number of columns\n",
    "display(len(df.columns))  # e.g. 3\n",
    "display(df.shape[1])      # also gives 3\n",
    "```"
   ]
  },
  {
   "cell_type": "markdown",
   "id": "a90b9d94",
   "metadata": {},
   "source": [
    "### **3.3: Python Functions for Data Manipulation**"
   ]
  },
  {
   "cell_type": "markdown",
   "id": "4c43b090",
   "metadata": {},
   "source": [
    "Python provides built-in functions and external libraries (like NumPy) to help with data \n",
    "manipulation and basic statistical analysis. Below are some of the most common tools \n",
    "you'll use."
   ]
  },
  {
   "cell_type": "markdown",
   "id": "033186d7",
   "metadata": {},
   "source": [
    "#### **3.3.1: Built-in Functions**"
   ]
  },
  {
   "cell_type": "markdown",
   "id": "a4c30cc5",
   "metadata": {},
   "source": [
    "##### **Summation and Length**"
   ]
  },
  {
   "cell_type": "markdown",
   "id": "56bbfce4",
   "metadata": {},
   "source": [
    "```python\n",
    "numbers = [2, 4, 6, 8, 10]\n",
    "\n",
    "print(sum(numbers))  # 30\n",
    "print(len(numbers))  # 5\n",
    "```"
   ]
  },
  {
   "cell_type": "markdown",
   "id": "11f23085",
   "metadata": {},
   "source": [
    "##### **3.3.2: Minimum and Maximum**"
   ]
  },
  {
   "cell_type": "markdown",
   "id": "65f1ab0b",
   "metadata": {},
   "source": [
    "```python\n",
    "print(min(numbers))  # 2\n",
    "print(max(numbers))  # 10\n",
    "```"
   ]
  },
  {
   "cell_type": "markdown",
   "id": "03de3263",
   "metadata": {},
   "source": [
    "##### **3.3.3: Average (using built-in)**"
   ]
  },
  {
   "cell_type": "markdown",
   "id": "ee8dd27b",
   "metadata": {},
   "source": [
    "```python\n",
    "average = sum(numbers) / len(numbers)\n",
    "print(average)  # 6.0\n",
    "```"
   ]
  },
  {
   "cell_type": "markdown",
   "id": "9454c1d5",
   "metadata": {},
   "source": [
    "#### **3.3.4: Using the `statistics` Module**"
   ]
  },
  {
   "cell_type": "markdown",
   "id": "77d0f511",
   "metadata": {},
   "source": [
    "Python’s built-in `statistics` library provides more descriptive statistics.\n",
    "\n",
    "```python\n",
    "import statistics as stats\n",
    "\n",
    "data = [1, 2, 2, 3, 4, 7, 9]\n",
    "\n",
    "print(stats.mean(data))      # Average\n",
    "print(stats.median(data))    # Middle value\n",
    "print(stats.mode(data))      # Most common value\n",
    "print(stats.stdev(data))     # Standard deviation\n",
    "```\n"
   ]
  },
  {
   "cell_type": "markdown",
   "id": "67e78224",
   "metadata": {},
   "source": [
    "#### **3.3.5: Using NumPy**"
   ]
  },
  {
   "cell_type": "markdown",
   "id": "3467b1e0",
   "metadata": {},
   "source": [
    "NumPy is a powerful library for numerical computing. It is often used for \n",
    "summary statistics and array manipulations.\n",
    "\n",
    "```python\n",
    "import numpy as np\n",
    "\n",
    "arr = np.array([1, 2, 3, 4, 5, 6, 7, 8, 9])\n",
    "\n",
    "print(np.mean(arr))   # Average\n",
    "print(np.median(arr)) # Median\n",
    "print(np.std(arr))    # Standard deviation\n",
    "print(np.var(arr))    # Variance\n",
    "```"
   ]
  },
  {
   "cell_type": "markdown",
   "id": "c8440a9b",
   "metadata": {},
   "source": [
    "#### **3.3.6: Five Number Summary (NumPy)**"
   ]
  },
  {
   "cell_type": "markdown",
   "id": "5a20b45a",
   "metadata": {},
   "source": [
    "The five number summary includes: **minimum, Q1, median, Q3, maximum**.\n",
    "\n",
    "```python\n",
    "data = np.array([7, 8, 5, 6, 3, 4, 9, 2, 1])\n",
    "\n",
    "five_num = {\n",
    "    \"min\": np.min(data),\n",
    "    \"Q1\": np.percentile(data, 25),\n",
    "    \"median\": np.median(data),\n",
    "    \"Q3\": np.percentile(data, 75),\n",
    "    \"max\": np.max(data)\n",
    "}\n",
    "\n",
    "print(five_num)\n",
    "```"
   ]
  },
  {
   "cell_type": "markdown",
   "id": "3ace6dd8",
   "metadata": {},
   "source": [
    "#### **3.3.7: Rounding and Aggregation**"
   ]
  },
  {
   "cell_type": "markdown",
   "id": "5a6a1bb2",
   "metadata": {},
   "source": [
    "```python\n",
    "values = [3.14159, 2.71828, 1.61803]\n",
    "\n",
    "# Round to 2 decimal places\n",
    "rounded = [round(v, 2) for v in values]\n",
    "print(rounded)  # [3.14, 2.72, 1.62]\n",
    "```"
   ]
  },
  {
   "cell_type": "markdown",
   "id": "5b568224",
   "metadata": {},
   "source": [
    "#### **3.3.8: Group By (Frequency Tables)**"
   ]
  },
  {
   "cell_type": "markdown",
   "id": "4865964d",
   "metadata": {},
   "source": [
    "The groupby() function in pandas is a powerful way to create frequency tables and perform aggregations. It allows you to split a dataset into groups based on a categorical variable (e.g., Gender, Eye Color), and then apply a calculation (such as mean, count, or sum) within each group.\n",
    "\n",
    "This is especially useful when you want to compute summary statistics (e.g., average age by gender) or generate frequency distributions of categorical data."
   ]
  },
  {
   "cell_type": "code",
   "execution_count": 42,
   "id": "c57a265b",
   "metadata": {},
   "outputs": [
    {
     "data": {
      "text/plain": [
       "'Demographics Table:'"
      ]
     },
     "metadata": {},
     "output_type": "display_data"
    },
    {
     "data": {
      "application/vnd.microsoft.datawrangler.viewer.v0+json": {
       "columns": [
        {
         "name": "index",
         "rawType": "int64",
         "type": "integer"
        },
        {
         "name": "Age",
         "rawType": "int64",
         "type": "integer"
        },
        {
         "name": "Gender",
         "rawType": "object",
         "type": "string"
        },
        {
         "name": "Eye Color",
         "rawType": "object",
         "type": "string"
        }
       ],
       "ref": "643d72cb-03cc-42cb-8760-8ae70a873391",
       "rows": [
        [
         "0",
         "22",
         "m",
         "blue"
        ],
        [
         "1",
         "27",
         "f",
         "green"
        ],
        [
         "2",
         "30",
         "f",
         "blue"
        ]
       ],
       "shape": {
        "columns": 3,
        "rows": 3
       }
      },
      "text/html": [
       "<div>\n",
       "<style scoped>\n",
       "    .dataframe tbody tr th:only-of-type {\n",
       "        vertical-align: middle;\n",
       "    }\n",
       "\n",
       "    .dataframe tbody tr th {\n",
       "        vertical-align: top;\n",
       "    }\n",
       "\n",
       "    .dataframe thead th {\n",
       "        text-align: right;\n",
       "    }\n",
       "</style>\n",
       "<table border=\"1\" class=\"dataframe\">\n",
       "  <thead>\n",
       "    <tr style=\"text-align: right;\">\n",
       "      <th></th>\n",
       "      <th>Age</th>\n",
       "      <th>Gender</th>\n",
       "      <th>Eye Color</th>\n",
       "    </tr>\n",
       "  </thead>\n",
       "  <tbody>\n",
       "    <tr>\n",
       "      <th>0</th>\n",
       "      <td>22</td>\n",
       "      <td>m</td>\n",
       "      <td>blue</td>\n",
       "    </tr>\n",
       "    <tr>\n",
       "      <th>1</th>\n",
       "      <td>27</td>\n",
       "      <td>f</td>\n",
       "      <td>green</td>\n",
       "    </tr>\n",
       "    <tr>\n",
       "      <th>2</th>\n",
       "      <td>30</td>\n",
       "      <td>f</td>\n",
       "      <td>blue</td>\n",
       "    </tr>\n",
       "  </tbody>\n",
       "</table>\n",
       "</div>"
      ],
      "text/plain": [
       "   Age Gender Eye Color\n",
       "0   22      m      blue\n",
       "1   27      f     green\n",
       "2   30      f      blue"
      ]
     },
     "metadata": {},
     "output_type": "display_data"
    },
    {
     "data": {
      "text/plain": [
       "'Average Age by Gender Table:'"
      ]
     },
     "metadata": {},
     "output_type": "display_data"
    },
    {
     "data": {
      "application/vnd.microsoft.datawrangler.viewer.v0+json": {
       "columns": [
        {
         "name": "Gender",
         "rawType": "object",
         "type": "string"
        },
        {
         "name": "Age",
         "rawType": "float64",
         "type": "float"
        }
       ],
       "ref": "1a4e5a4a-d22b-4177-ae1a-555866b024f7",
       "rows": [
        [
         "f",
         "28.5"
        ],
        [
         "m",
         "22.0"
        ]
       ],
       "shape": {
        "columns": 1,
        "rows": 2
       }
      },
      "text/plain": [
       "Gender\n",
       "f    28.5\n",
       "m    22.0\n",
       "Name: Age, dtype: float64"
      ]
     },
     "metadata": {},
     "output_type": "display_data"
    }
   ],
   "source": [
    "import pandas as pd\n",
    "\n",
    "# Create a small dataset with Age, Gender, and Eye Color\n",
    "data = {\n",
    "    'Age': [22, 27, 30],\n",
    "    'Gender': ['m', 'f', 'f'],\n",
    "    'Eye Color': ['blue', 'green', 'blue']\n",
    "}\n",
    "\n",
    "# Convert the dictionary into a pandas DataFrame\n",
    "demographics = pd.DataFrame(data)\n",
    "\n",
    "# Display the full demographics table\n",
    "display(\"Demographics Table:\")\n",
    "display(demographics)\n",
    "\n",
    "# Group the data by Gender and calculate the average Age for each group\n",
    "avg_age_by_gender = demographics.groupby('Gender')['Age'].mean()\n",
    "\n",
    "# Display the aggregated table (average Age by Gender)\n",
    "display(\"Average Age by Gender Table:\")\n",
    "display(avg_age_by_gender)\n",
    "\n",
    "# The average age for females in our sample data is higher\n",
    "# than the average age of males. "
   ]
  },
  {
   "cell_type": "markdown",
   "id": "25545230",
   "metadata": {},
   "source": [
    "#### **3.3.9: Summary**"
   ]
  },
  {
   "cell_type": "markdown",
   "id": "672a7ded",
   "metadata": {},
   "source": [
    "- Built-in Python functions: `sum()`, `len()`, `min()`, `max()`, `round()`  \n",
    "- `statistics` module: `mean()`, `median()`, `mode()`, `stdev()`  \n",
    "- NumPy: `mean()`, `median()`, `std()`, `var()`, `percentile()`  \n",
    "- Use these tools to quickly compute descriptive statistics and manipulate data arrays."
   ]
  },
  {
   "cell_type": "markdown",
   "id": "069c9611",
   "metadata": {},
   "source": [
    "### **3.4: Python Data Types**"
   ]
  },
  {
   "cell_type": "markdown",
   "id": "705f5fac",
   "metadata": {},
   "source": [
    "Python has several built-in data types that are commonly used for data analysis and programming. \n",
    "Below is a summary of the most important ones, along with examples."
   ]
  },
  {
   "cell_type": "markdown",
   "id": "71b52453",
   "metadata": {},
   "source": [
    "#### **3.4.1: Numeric Types**"
   ]
  },
  {
   "cell_type": "markdown",
   "id": "8d1cccf0",
   "metadata": {},
   "source": [
    "##### **Integers (`int`)**"
   ]
  },
  {
   "cell_type": "markdown",
   "id": "48d79dbe",
   "metadata": {},
   "source": [
    "Whole numbers, positive or negative, without a decimal point.\n",
    "\n",
    "```python\n",
    "x = 10\n",
    "y = -3\n",
    "print(type(x))  # <class 'int'>\n",
    "```"
   ]
  },
  {
   "cell_type": "markdown",
   "id": "3cfeeda1",
   "metadata": {},
   "source": [
    "##### **Floating-Point Numbers (`float`)**"
   ]
  },
  {
   "cell_type": "markdown",
   "id": "6410fc55",
   "metadata": {},
   "source": [
    "Numbers that contain a decimal point.\n",
    "\n",
    "```python\n",
    "pi = 3.14159\n",
    "temperature = -5.6\n",
    "print(type(pi))  # <class 'float'>\n",
    "```"
   ]
  },
  {
   "cell_type": "markdown",
   "id": "53263bae",
   "metadata": {},
   "source": [
    "##### **Complex Numbers (`complex`)**"
   ]
  },
  {
   "cell_type": "markdown",
   "id": "b105d2a0",
   "metadata": {},
   "source": [
    "Numbers with a real and imaginary part.\n",
    "\n",
    "```python\n",
    "z = 2 + 3j\n",
    "print(type(z))  # <class 'complex'>\n",
    "```"
   ]
  },
  {
   "cell_type": "markdown",
   "id": "b3ee9e6e",
   "metadata": {},
   "source": [
    "#### **3.4.2: Text Types**"
   ]
  },
  {
   "cell_type": "markdown",
   "id": "7f1dcfdc",
   "metadata": {},
   "source": [
    "##### **Strings (`str`)**"
   ]
  },
  {
   "cell_type": "markdown",
   "id": "95c09832",
   "metadata": {},
   "source": [
    "Sequences of characters enclosed in quotes.\n",
    "\n",
    "```python\n",
    "name = \"Alice\"\n",
    "greeting = 'Hello, World!'\n",
    "print(type(name))  # <class 'str'>\n",
    "```"
   ]
  },
  {
   "cell_type": "markdown",
   "id": "613d7d0a",
   "metadata": {},
   "source": [
    "#### **3.4.3: Sequence Types**"
   ]
  },
  {
   "cell_type": "markdown",
   "id": "f54808a0",
   "metadata": {},
   "source": [
    "##### **Lists (`list`)**"
   ]
  },
  {
   "cell_type": "markdown",
   "id": "6336f53b",
   "metadata": {},
   "source": [
    "Ordered, mutable collections of items.\n",
    "\n",
    "```python\n",
    "fruits = [\"apple\", \"banana\", \"cherry\"]\n",
    "fruits.append(\"date\")\n",
    "print(fruits)\n",
    "```"
   ]
  },
  {
   "cell_type": "markdown",
   "id": "9838fb64",
   "metadata": {},
   "source": [
    "##### **Tuples (`tuple`)**"
   ]
  },
  {
   "cell_type": "markdown",
   "id": "9105fe53",
   "metadata": {},
   "source": [
    "Ordered, immutable collections of items.\n",
    "\n",
    "```python\n",
    "coordinates = (4, 5)\n",
    "print(coordinates[0])  # 4\n",
    "```"
   ]
  },
  {
   "cell_type": "markdown",
   "id": "02c37ae6",
   "metadata": {},
   "source": [
    "##### **Ranges (`range`)**"
   ]
  },
  {
   "cell_type": "markdown",
   "id": "7e27773d",
   "metadata": {},
   "source": [
    "Represents a sequence of numbers, commonly used in loops.\n",
    "\n",
    "```python\n",
    "for i in range(3):\n",
    "    print(i)  # 0, 1, 2\n",
    "```"
   ]
  },
  {
   "cell_type": "markdown",
   "id": "0619f097",
   "metadata": {},
   "source": [
    "#### **3.4.4: Mapping Types**"
   ]
  },
  {
   "cell_type": "markdown",
   "id": "c38cfcb8",
   "metadata": {},
   "source": [
    "##### **Dictionaries (`dict`)**"
   ]
  },
  {
   "cell_type": "markdown",
   "id": "b5f5bcd2",
   "metadata": {},
   "source": [
    "Collections of key-value pairs.\n",
    "\n",
    "```python\n",
    "student = {\"name\": \"Alice\", \"age\": 20, \"GPA\": 3.8}\n",
    "print(student[\"name\"])  # Alice\n",
    "```\n"
   ]
  },
  {
   "cell_type": "markdown",
   "id": "902c02a6",
   "metadata": {},
   "source": [
    "#### **3.4.5: Boolean Type**"
   ]
  },
  {
   "cell_type": "markdown",
   "id": "01be24ad",
   "metadata": {},
   "source": [
    "#### **3.4.6: None Type**"
   ]
  },
  {
   "cell_type": "markdown",
   "id": "2a002356",
   "metadata": {},
   "source": [
    "None (`NoneType`)\n",
    "Represents the absence of a value.\n",
    "\n",
    "```python\n",
    "result = None\n",
    "print(type(result))  # <class 'NoneType'>\n",
    "```\n"
   ]
  },
  {
   "cell_type": "markdown",
   "id": "c356c71a",
   "metadata": {},
   "source": [
    "<div style=\"background: #000080; border: 3px outset #c0c0c0; padding: 12px; margin: 15px 0; font-family: 'MS DOS', 'Perfect DOS VGA 437', 'Courier New', monospace; position: relative;\">\n",
    "\n",
    "<div style=\"background: #008080; border: 2px inset #c0c0c0; padding: 8px; text-align: center;\">\n",
    "<div style=\"color: #00ffff; font-size: 1.4em; font-weight: bold; text-shadow: 1px 1px 0px #000040; letter-spacing: 2px;\">\n",
    "▓▓▓ 🔍 PART 2: BASIC EXPLORATORY DATA ANALYSIS & PYTHON FUNCTIONS ▓▓▓\n",
    "</div>\n",
    "</div>\n",
    "\n",
    "<div style=\"position: absolute; top: 2px; right: 6px; color: #c0c0c0; font-size: 0.7em;\">\n",
    "[█████████████████████████████████████████████████] 100%\n",
    "</div>\n",
    "\n",
    "</div>"
   ]
  },
  {
   "cell_type": "markdown",
   "id": "d5d173a8",
   "metadata": {},
   "source": [
    "**What are For Loops?**\n",
    "\n",
    "A **for loop** is a way to repeat an action multiple times. Instead of writing the same code over and over, you can tell Python to \"do this thing for each item in a collection.\"\n",
    "\n",
    "Think of it like giving instructions: *\"For each student in the class, check their homework\"* or *\"For each number in this list, multiply it by 2.\"*\n",
    "\n",
    "**Basic Structure:**\n",
    "```python\n",
    "for item in collection:\n",
    "    # Do something with item\n",
    "```\n",
    "\n",
    "**Key Components:**\n",
    "- **`for`**: The keyword that starts the loop\n",
    "- **`item`**: A temporary name for each piece of data (you can call it anything!)\n",
    "- **`in`**: Connects the item to the collection\n",
    "- **`collection`**: The data you want to loop through (list, string, etc.)\n",
    "- **Indentation**: Everything indented after the `:` gets repeated"
   ]
  },
  {
   "cell_type": "code",
   "execution_count": 12,
   "id": "13524099",
   "metadata": {},
   "outputs": [
    {
     "name": "stdout",
     "output_type": "stream",
     "text": [
      "Class attendance:\n",
      "✓ Alice is present\n",
      "✓ Bob is present\n",
      "✓ Charlie is present\n",
      "✓ Diana is present\n",
      "\n",
      "==============================\n",
      "\n",
      "Test score analysis:\n",
      "Score 85: Good job! 👍\n",
      "Score 92: Excellent! 🌟\n",
      "Score 78: Needs improvement 📚\n",
      "Score 96: Excellent! 🌟\n",
      "Score 88: Good job! 👍\n",
      "\n",
      "==============================\n",
      "\n",
      "Spelling out the word 'Python':\n",
      "Letter: P\n",
      "Letter: y\n",
      "Letter: t\n",
      "Letter: h\n",
      "Letter: o\n",
      "Letter: n\n"
     ]
    }
   ],
   "source": [
    "# Example 1: Loop through a list of names\n",
    "students = [\"Alice\", \"Bob\", \"Charlie\", \"Diana\"]\n",
    "\n",
    "print(\"Class attendance:\")\n",
    "for student in students:\n",
    "    print(f\"✓ {student} is present\")\n",
    "\n",
    "print(\"\\n\" + \"=\"*30 + \"\\n\")\n",
    "\n",
    "# Example 2: Loop through numbers\n",
    "test_scores = [85, 92, 78, 96, 88]\n",
    "\n",
    "print(\"Test score analysis:\")\n",
    "for score in test_scores:\n",
    "    if score >= 90:\n",
    "        print(f\"Score {score}: Excellent! 🌟\")\n",
    "    elif score >= 80:\n",
    "        print(f\"Score {score}: Good job! 👍\")\n",
    "    else:\n",
    "        print(f\"Score {score}: Needs improvement 📚\")\n",
    "\n",
    "print(\"\\n\" + \"=\"*30 + \"\\n\")\n",
    "\n",
    "# Example 3: Loop through a string (characters)\n",
    "message = \"Python\"\n",
    "print(\"Spelling out the word 'Python':\")\n",
    "for letter in message:\n",
    "    print(f\"Letter: {letter}\")"
   ]
  },
  {
   "cell_type": "markdown",
   "id": "dd90d89c",
   "metadata": {},
   "source": [
    "**Common For Loop Patterns:**\n",
    "\n",
    "**Pattern 1: Using `range()` for Numbers**\n",
    "```python\n",
    "# Loop through numbers 0 to 4\n",
    "for i in range(5):\n",
    "    print(f\"Number: {i}\")\n",
    "\n",
    "# Loop through numbers 1 to 10\n",
    "for i in range(1, 11):\n",
    "    print(f\"Number: {i}\")\n",
    "```\n",
    "\n",
    "**Pattern 2: Accessing Both Index and Value**\n",
    "```python\n",
    "colors = [\"red\", \"green\", \"blue\"]\n",
    "for index, color in enumerate(colors):\n",
    "    print(f\"Color {index}: {color}\")\n",
    "```\n",
    "\n",
    "**Pattern 3: Building New Lists**\n",
    "```python\n",
    "# Double all numbers in a list\n",
    "numbers = [1, 2, 3, 4, 5]\n",
    "doubled = []\n",
    "for num in numbers:\n",
    "    doubled.append(num * 2)\n",
    "print(doubled)  # [2, 4, 6, 8, 10]\n",
    "```\n",
    "\n",
    "**Real-World Data Science Use:**\n",
    "- **Cleaning data**: Loop through rows to fix formatting issues\n",
    "- **Calculations**: Apply the same calculation to multiple values\n",
    "- **File processing**: Process multiple data files\n",
    "- **Analysis**: Check each data point for patterns or outliers"
   ]
  },
  {
   "cell_type": "markdown",
   "id": "bf3caef1",
   "metadata": {},
   "source": [
    "#### **3.4.8: If Statements & Conditional Logic (Making Decisions)**"
   ]
  },
  {
   "cell_type": "markdown",
   "id": "274727c3",
   "metadata": {},
   "source": [
    "**What are If Statements?**\n",
    "\n",
    "An **if statement** lets your program make decisions. It's like teaching Python to think: *\"If this condition is true, do this action. Otherwise, do something else.\"*\n",
    "\n",
    "Think of everyday decisions: *\"If it's raining, bring an umbrella\"* or *\"If my grade is above 90, I get an A.\"*\n",
    "\n",
    "**Basic Structure:**\n",
    "```python\n",
    "if condition:\n",
    "    # Do this if condition is True\n",
    "elif another_condition:\n",
    "    # Do this if another_condition is True\n",
    "else:\n",
    "    # Do this if none of the above are True\n",
    "```\n",
    "\n",
    "**Key Components:**\n",
    "- **`if`**: Starts the decision-making process\n",
    "- **`condition`**: A statement that's either True or False\n",
    "- **`:`**: Indicates the start of the action block\n",
    "- **Indentation**: Everything indented gets executed if the condition is True\n",
    "- **`elif`**: \"Else if\" - check another condition\n",
    "- **`else`**: The final fallback if no conditions are True\n",
    "\n",
    "**Comparison Operators (How to Create Conditions):**\n",
    "- **`==`**: Equal to (note: double equals!)\n",
    "- **`!=`**: Not equal to\n",
    "- **`>`**: Greater than\n",
    "- **`<`**: Less than\n",
    "- **`>=`**: Greater than or equal to\n",
    "- **`<=`**: Less than or equal to"
   ]
  },
  {
   "cell_type": "code",
   "execution_count": 13,
   "id": "f89067ac",
   "metadata": {},
   "outputs": [
    {
     "name": "stdout",
     "output_type": "stream",
     "text": [
      "Nice weather! 🌤️\n",
      "\n",
      "========================================\n",
      "\n",
      "Grade Analysis:\n",
      "Score: 95 → Grade: A (Excellent work! 🌟)\n",
      "Score: 87 → Grade: B (Good job! 👍)\n",
      "Score: 76 → Grade: C (Keep practicing! 📚)\n",
      "Score: 92 → Grade: A (Excellent work! 🌟)\n",
      "Score: 63 → Grade: D (Need improvement! ⚠️)\n",
      "Score: 88 → Grade: B (Good job! 👍)\n",
      "\n",
      "========================================\n",
      "\n",
      "Can you drive to the store?\n",
      "You can drive, but you need to borrow a car! 🗝️\n",
      "\n",
      "========================================\n",
      "\n",
      "Data Type Analysis:\n",
      "42 is an integer (whole number)\n",
      "'hello' is a string (text)\n",
      "3.14 is a float (decimal number)\n",
      "True is an integer (whole number)\n",
      "None is None (missing value)\n",
      "[1, 2, 3] is a list (collection of items)\n"
     ]
    }
   ],
   "source": [
    "# Example 1: Simple if statement\n",
    "temperature = 75\n",
    "\n",
    "if temperature > 80:\n",
    "    print(\"It's hot! 🌞\")\n",
    "elif temperature > 60:\n",
    "    print(\"Nice weather! 🌤️\")\n",
    "else:\n",
    "    print(\"It's chilly! 🧥\")\n",
    "\n",
    "print(\"\\n\" + \"=\"*40 + \"\\n\")\n",
    "\n",
    "# Example 2: Grade classification\n",
    "student_scores = [95, 87, 76, 92, 63, 88]\n",
    "\n",
    "print(\"Grade Analysis:\")\n",
    "for score in student_scores:\n",
    "    if score >= 90:\n",
    "        grade = \"A\"\n",
    "        message = \"Excellent work! 🌟\"\n",
    "    elif score >= 80:\n",
    "        grade = \"B\"\n",
    "        message = \"Good job! 👍\"\n",
    "    elif score >= 70:\n",
    "        grade = \"C\"\n",
    "        message = \"Keep practicing! 📚\"\n",
    "    elif score >= 60:\n",
    "        grade = \"D\"\n",
    "        message = \"Need improvement! ⚠️\"\n",
    "    else:\n",
    "        grade = \"F\"\n",
    "        message = \"Let's get help! 🆘\"\n",
    "    \n",
    "    print(f\"Score: {score} → Grade: {grade} ({message})\")\n",
    "\n",
    "print(\"\\n\" + \"=\"*40 + \"\\n\")\n",
    "\n",
    "# Example 3: Multiple conditions with logical operators\n",
    "age = 20\n",
    "has_license = True\n",
    "has_car = False\n",
    "\n",
    "print(\"Can you drive to the store?\")\n",
    "if age >= 16 and has_license and has_car:\n",
    "    print(\"Yes! You can drive yourself! 🚗\")\n",
    "elif age >= 16 and has_license:\n",
    "    print(\"You can drive, but you need to borrow a car! 🗝️\")\n",
    "elif age >= 16:\n",
    "    print(\"You need to get a license first! 📋\")\n",
    "else:\n",
    "    print(\"You're too young to drive! 🚌\")\n",
    "\n",
    "print(\"\\n\" + \"=\"*40 + \"\\n\")\n",
    "\n",
    "# Example 4: Checking data types (useful in data science!)\n",
    "data_samples = [42, \"hello\", 3.14, True, None, [1, 2, 3]]\n",
    "\n",
    "print(\"Data Type Analysis:\")\n",
    "for item in data_samples:\n",
    "    if isinstance(item, int):\n",
    "        print(f\"{item} is an integer (whole number)\")\n",
    "    elif isinstance(item, float):\n",
    "        print(f\"{item} is a float (decimal number)\")\n",
    "    elif isinstance(item, str):\n",
    "        print(f\"'{item}' is a string (text)\")\n",
    "    elif isinstance(item, bool):\n",
    "        print(f\"{item} is a boolean (True/False)\")\n",
    "    elif isinstance(item, list):\n",
    "        print(f\"{item} is a list (collection of items)\")\n",
    "    elif item is None:\n",
    "        print(f\"{item} is None (missing value)\")\n",
    "    else:\n",
    "        print(f\"{item} is some other type: {type(item)}\")"
   ]
  },
  {
   "cell_type": "markdown",
   "id": "1e6b099c",
   "metadata": {},
   "source": [
    "**Advanced Conditional Patterns:**\n",
    "\n",
    "**Pattern 1: Logical Operators**\n",
    "- **`and`**: Both conditions must be True\n",
    "- **`or`**: At least one condition must be True  \n",
    "- **`not`**: Flips True to False (and vice versa)\n",
    "\n",
    "```python\n",
    "# Example: Scholarship eligibility\n",
    "gpa = 3.7\n",
    "volunteer_hours = 25\n",
    "financial_need = True\n",
    "\n",
    "if gpa >= 3.5 and (volunteer_hours >= 20 or financial_need):\n",
    "    print(\"Eligible for scholarship! 🎓\")\n",
    "else:\n",
    "    print(\"Not eligible this time. Keep working! 💪\")\n",
    "```\n",
    "\n",
    "**Pattern 2: Checking if Items Exist**\n",
    "```python\n",
    "# Check if something is in a list\n",
    "fruits = [\"apple\", \"banana\", \"orange\"]\n",
    "if \"apple\" in fruits:\n",
    "    print(\"We have apples! 🍎\")\n",
    "\n",
    "# Check if a key exists in a dictionary\n",
    "student_grades = {\"Alice\": 95, \"Bob\": 87}\n",
    "if \"Alice\" in student_grades:\n",
    "    print(f\"Alice's grade: {student_grades['Alice']}\")\n",
    "```\n",
    "\n",
    "**Pattern 3: Handling Missing Data (Very Common in Data Science!)**\n",
    "```python\n",
    "# Simulating a dataset with missing values\n",
    "student_data = [\n",
    "    {\"name\": \"Alice\", \"age\": 20, \"grade\": 95},\n",
    "    {\"name\": \"Bob\", \"age\": None, \"grade\": 87},  # Missing age\n",
    "    {\"name\": \"Charlie\", \"age\": 19, \"grade\": None}  # Missing grade\n",
    "]\n",
    "\n",
    "print(\"Data Quality Check:\")\n",
    "for student in student_data:\n",
    "    name = student[\"name\"]\n",
    "    age = student[\"age\"]\n",
    "    grade = student[\"grade\"]\n",
    "    \n",
    "    if age is None and grade is None:\n",
    "        print(f\"⚠️ {name}: Missing both age and grade\")\n",
    "    elif age is None:\n",
    "        print(f\"⚠️ {name}: Missing age\")\n",
    "    elif grade is None:\n",
    "        print(f\"⚠️ {name}: Missing grade\")\n",
    "    else:\n",
    "        print(f\"✅ {name}: Complete data (age: {age}, grade: {grade})\")\n",
    "```\n",
    "\n",
    "**Real-World Data Science Applications:**\n",
    "- **Data validation**: Check if data meets quality standards\n",
    "- **Outlier detection**: Flag unusual values for review\n",
    "- **Classification**: Categorize data into groups\n",
    "- **Decision trees**: Build complex decision-making logic\n",
    "- **Error handling**: Deal with missing or invalid data gracefully"
   ]
  },
  {
   "cell_type": "markdown",
   "id": "118867ba",
   "metadata": {},
   "source": [
    "### **3.5: Creating Functions in Python**"
   ]
  },
  {
   "cell_type": "markdown",
   "id": "1c268d25",
   "metadata": {},
   "source": [
    "Functions are one of the most important concepts in programming. They allow you to package code into reusable blocks that can be called multiple times with different inputs. Think of a function like a recipe - you give it ingredients (inputs), it follows a set of instructions, and gives you back a finished dish (output).\n",
    "\n",
    "Learning to create your own functions will make your data analysis code more organized, efficient, and easier to understand."
   ]
  },
  {
   "cell_type": "markdown",
   "id": "91c5dd1e",
   "metadata": {},
   "source": [
    "#### **3.5.1: What Functions Do**"
   ]
  },
  {
   "cell_type": "markdown",
   "id": "8a61582c",
   "metadata": {},
   "source": [
    "A **function** is a block of reusable code that performs a specific task. Functions take inputs (called **parameters** or **arguments**), process those inputs, and return an output.\n",
    "\n",
    "**Why Use Functions?**\n",
    "\n",
    "1. **Avoid Repetition**: Instead of writing the same code multiple times, write it once in a function\n",
    "2. **Organization**: Break complex problems into smaller, manageable pieces  \n",
    "3. **Reusability**: Use the same function in different parts of your analysis\n",
    "4. **Testing**: Easier to test and debug smaller pieces of code\n",
    "5. **Collaboration**: Others can use your functions without understanding all the details\n",
    "\n",
    "**Real-World Analogy**: Think of a function like a coffee machine:\n",
    "- **Input**: Coffee beans, water, settings (parameters)\n",
    "- **Process**: The machine grinds, heats, and brews (the function code)\n",
    "- **Output**: A cup of coffee (the return value)\n",
    "\n",
    "You don't need to understand how the coffee machine works internally - you just need to know what inputs to provide and what output to expect."
   ]
  },
  {
   "cell_type": "markdown",
   "id": "6915ccd4",
   "metadata": {},
   "source": [
    "#### **3.5.2: How to Create a Function**"
   ]
  },
  {
   "cell_type": "markdown",
   "id": "2c60ca59",
   "metadata": {},
   "source": [
    "The syntax for creating a function in Python follows this pattern:\n",
    "\n",
    "```python\n",
    "def function_name(parameter1, parameter2):\n",
    "    \"\"\"\n",
    "    Optional docstring explaining what the function does\n",
    "    \"\"\"\n",
    "    # Function body - the code that does the work\n",
    "    result = some_calculation\n",
    "    return result  # Optional - returns a value back to the caller\n",
    "```\n",
    "\n",
    "**Key Components:**\n",
    "- **`def`**: The keyword that tells Python you're defining a function\n",
    "- **`function_name`**: A descriptive name for your function (use lowercase with underscores)\n",
    "- **`parameters`**: The inputs your function expects (can be zero or more)\n",
    "- **`docstring`**: Optional description of what the function does (good practice!)\n",
    "- **`return`**: Optional statement that sends a value back to whoever called the function\n",
    "\n",
    "**Simple Example:**"
   ]
  },
  {
   "cell_type": "code",
   "execution_count": 15,
   "id": "0020d9d9",
   "metadata": {},
   "outputs": [
    {
     "name": "stdout",
     "output_type": "stream",
     "text": [
      "Hello, welcome to data analysis!\n",
      "Hello, Alice! Welcome to data analysis!\n",
      "Hello, Bob! Welcome to data analysis!\n",
      "5 + 3 = 8\n",
      "Total: 50\n",
      "Score: 85/100 = Grade: B\n"
     ]
    }
   ],
   "source": [
    "# Example 1: Simple function with no parameters\n",
    "def greet():\n",
    "    \"\"\"A simple function that prints a greeting\"\"\"\n",
    "    print(\"Hello, welcome to data analysis!\")\n",
    "\n",
    "# Call the function\n",
    "greet()\n",
    "\n",
    "# Example 2: Function with parameters\n",
    "def greet_person(name):\n",
    "    \"\"\"Greets a specific person by name\"\"\"\n",
    "    print(f\"Hello, {name}! Welcome to data analysis!\")\n",
    "\n",
    "# Call the function with an argument\n",
    "greet_person(\"Alice\")\n",
    "greet_person(\"Bob\")\n",
    "\n",
    "# Example 3: Function that returns a value\n",
    "def add_numbers(a, b):\n",
    "    \"\"\"\n",
    "    Adds two numbers and returns the result\n",
    "    \n",
    "    Parameters:\n",
    "    a (float): First number\n",
    "    b (float): Second number\n",
    "    \n",
    "    Returns:\n",
    "    float: The sum of a and b\n",
    "    \"\"\"\n",
    "    result = a + b\n",
    "    return result\n",
    "\n",
    "# Call the function and store the result\n",
    "sum_result = add_numbers(5, 3)\n",
    "print(f\"5 + 3 = {sum_result}\")\n",
    "\n",
    "# You can also use the function directly in expressions\n",
    "total = add_numbers(10, 20) + add_numbers(5, 15)\n",
    "print(f\"Total: {total}\")\n",
    "\n",
    "# Example 4: Function with multiple parameters and logic\n",
    "def calculate_grade(score, total_points):\n",
    "    \"\"\"\n",
    "    Calculates a letter grade based on percentage\n",
    "    \n",
    "    Parameters:\n",
    "    score (float): Points earned\n",
    "    total_points (float): Total possible points\n",
    "    \n",
    "    Returns:\n",
    "    str: Letter grade (A, B, C, D, or F)\n",
    "    \"\"\"\n",
    "    percentage = (score / total_points) * 100\n",
    "    \n",
    "    if percentage >= 90:\n",
    "        return \"A\"\n",
    "    elif percentage >= 80:\n",
    "        return \"B\"\n",
    "    elif percentage >= 70:\n",
    "        return \"C\"\n",
    "    elif percentage >= 60:\n",
    "        return \"D\"\n",
    "    else:\n",
    "        return \"F\"\n",
    "\n",
    "# Test the grade function\n",
    "student_score = 85\n",
    "max_points = 100\n",
    "grade = calculate_grade(student_score, max_points)\n",
    "print(f\"Score: {student_score}/{max_points} = Grade: {grade}\")"
   ]
  },
  {
   "cell_type": "markdown",
   "id": "70e0cbb5",
   "metadata": {},
   "source": [
    "#### **3.5.3: Creating Functions for Data Analysis**"
   ]
  },
  {
   "cell_type": "markdown",
   "id": "400dabee",
   "metadata": {},
   "source": [
    "Now let's create functions that are specifically useful for data analysis. These examples show how functions can make your analytical work more efficient and organized.\n",
    "\n",
    "**Scenario**: You're analyzing student test scores and need to perform several calculations repeatedly. Instead of writing the same code over and over, let's create reusable functions."
   ]
  },
  {
   "cell_type": "code",
   "execution_count": null,
   "id": "28db67a0",
   "metadata": {},
   "outputs": [],
   "source": [
    "# ANALYTICAL FUNCTIONS FOR DATA ANALYSIS\n",
    "# Let's create functions that help us analyze data more efficiently\n",
    "\n",
    "# Function 1: Calculate basic statistics for a list of numbers\n",
    "def calculate_stats(numbers):\n",
    "    \"\"\"\n",
    "    Calculate basic descriptive statistics for a list of numbers\n",
    "    \n",
    "    Parameters:\n",
    "    numbers (list): A list of numeric values\n",
    "    \n",
    "    Returns:\n",
    "    dict: Dictionary containing mean, median, min, max, and count\n",
    "    \"\"\"\n",
    "    if not numbers:  # Check if list is empty\n",
    "        return \"Error: Cannot calculate stats for empty list\"\n",
    "    \n",
    "    # Sort the numbers to find median\n",
    "    sorted_nums = sorted(numbers)\n",
    "    n = len(sorted_nums)\n",
    "    \n",
    "    # Calculate statistics\n",
    "    mean = sum(numbers) / len(numbers)\n",
    "    \n",
    "    # Calculate median (middle value)\n",
    "    if n % 2 == 0:  # Even number of values\n",
    "        median = (sorted_nums[n//2 - 1] + sorted_nums[n//2]) / 2\n",
    "    else:  # Odd number of values\n",
    "        median = sorted_nums[n//2]\n",
    "    \n",
    "    # Create results dictionary\n",
    "    stats = {\n",
    "        'mean': round(mean, 2),\n",
    "        'median': median,\n",
    "        'min': min(numbers),\n",
    "        'max': max(numbers),\n",
    "        'count': n,\n",
    "        'range': max(numbers) - min(numbers)\n",
    "    }\n",
    "    \n",
    "    return stats\n",
    "\n",
    "# Function 2: Categorize scores into performance levels\n",
    "def categorize_performance(score):\n",
    "    \"\"\"\n",
    "    Categorize a test score into performance levels\n",
    "    \n",
    "    Parameters:\n",
    "    score (float): Test score (0-100)\n",
    "    \n",
    "    Returns:\n",
    "    str: Performance category\n",
    "    \"\"\"\n",
    "    if score >= 90:\n",
    "        return \"Excellent\"\n",
    "    elif score >= 80:\n",
    "        return \"Good\"\n",
    "    elif score >= 70:\n",
    "        return \"Satisfactory\"\n",
    "    elif score >= 60:\n",
    "        return \"Needs Improvement\"\n",
    "    else:\n",
    "        return \"Poor\"\n",
    "\n",
    "# Function 3: Analyze a class of students\n",
    "def analyze_class_performance(student_scores):\n",
    "    \"\"\"\n",
    "    Comprehensive analysis of class performance\n",
    "    \n",
    "    Parameters:\n",
    "    student_scores (dict): Dictionary with student names as keys and scores as values\n",
    "    \n",
    "    Returns:\n",
    "    dict: Comprehensive analysis results\n",
    "    \"\"\"\n",
    "    # Extract just the scores for statistical analysis\n",
    "    scores = list(student_scores.values())\n",
    "    \n",
    "    # Get basic statistics using our first function\n",
    "    basic_stats = calculate_stats(scores)\n",
    "    \n",
    "    # Count students in each performance category\n",
    "    performance_counts = {}\n",
    "    student_categories = {}\n",
    "    \n",
    "    for student, score in student_scores.items():\n",
    "        category = categorize_performance(score)\n",
    "        student_categories[student] = category\n",
    "        \n",
    "        # Count categories\n",
    "        if category in performance_counts:\n",
    "            performance_counts[category] += 1\n",
    "        else:\n",
    "            performance_counts[category] = 1\n",
    "    \n",
    "    # Create comprehensive results\n",
    "    analysis = {\n",
    "        'class_statistics': basic_stats,\n",
    "        'performance_distribution': performance_counts,\n",
    "        'individual_categories': student_categories,\n",
    "        'total_students': len(student_scores)\n",
    "    }\n",
    "    \n",
    "    return analysis\n",
    "\n",
    "# Function 4: Generate a performance report\n",
    "def generate_report(analysis_results):\n",
    "    \"\"\"\n",
    "    Generate a formatted report from analysis results\n",
    "    \n",
    "    Parameters:\n",
    "    analysis_results (dict): Results from analyze_class_performance function\n",
    "    \"\"\"\n",
    "    print(\"=\" * 50)\n",
    "    print(\"CLASS PERFORMANCE ANALYSIS REPORT\")\n",
    "    print(\"=\" * 50)\n",
    "    \n",
    "    stats = analysis_results['class_statistics']\n",
    "    print(f\"\\n📊 CLASS STATISTICS:\")\n",
    "    print(f\"   Total Students: {analysis_results['total_students']}\")\n",
    "    print(f\"   Average Score: {stats['mean']}%\")\n",
    "    print(f\"   Median Score: {stats['median']}%\")\n",
    "    print(f\"   Highest Score: {stats['max']}%\")\n",
    "    print(f\"   Lowest Score: {stats['min']}%\")\n",
    "    print(f\"   Score Range: {stats['range']} points\")\n",
    "    \n",
    "    print(f\"\\n🎯 PERFORMANCE DISTRIBUTION:\")\n",
    "    for category, count in analysis_results['performance_distribution'].items():\n",
    "        percentage = (count / analysis_results['total_students']) * 100\n",
    "        print(f\"   {category}: {count} students ({percentage:.1f}%)\")\n",
    "    \n",
    "    print(f\"\\n👥 INDIVIDUAL STUDENT CATEGORIES:\")\n",
    "    for student, category in analysis_results['individual_categories'].items():\n",
    "        print(f\"   {student}: {category}\")\n",
    "    \n",
    "    print(\"=\" * 50)\n",
    "\n",
    "# Now let's test our functions with real data\n",
    "print(\"TESTING OUR ANALYTICAL FUNCTIONS\")\n",
    "print(\"=\" * 40)\n",
    "\n",
    "# Sample student data\n",
    "class_scores = {\n",
    "    \"Alice\": 92,\n",
    "    \"Bob\": 78,\n",
    "    \"Charlie\": 85,\n",
    "    \"Diana\": 96,\n",
    "    \"Eve\": 73,\n",
    "    \"Frank\": 67,\n",
    "    \"Grace\": 89,\n",
    "    \"Henry\": 81\n",
    "}\n",
    "\n",
    "print(\"Original Data:\")\n",
    "for student, score in class_scores.items():\n",
    "    print(f\"  {student}: {score}%\")\n",
    "\n",
    "# Test Function 1: Basic statistics\n",
    "print(f\"\\n1. BASIC STATISTICS:\")\n",
    "just_scores = list(class_scores.values())\n",
    "stats = calculate_stats(just_scores)\n",
    "print(f\"   Mean: {stats['mean']}%\")\n",
    "print(f\"   Median: {stats['median']}%\")\n",
    "print(f\"   Range: {stats['min']}% - {stats['max']}%\")\n",
    "\n",
    "# Test Function 2: Individual categorization\n",
    "print(f\"\\n2. PERFORMANCE CATEGORIES:\")\n",
    "for student, score in class_scores.items():\n",
    "    category = categorize_performance(score)\n",
    "    print(f\"   {student} ({score}%): {category}\")\n",
    "\n",
    "# Test Function 3 & 4: Comprehensive analysis and report\n",
    "print(f\"\\n3. COMPREHENSIVE ANALYSIS:\")\n",
    "full_analysis = analyze_class_performance(class_scores)\n",
    "generate_report(full_analysis)\n",
    "\n",
    "print(f\"\\n✅ SUCCESS! Our functions work together to provide comprehensive analysis.\")\n",
    "print(f\"💡 Benefits of using functions:\")\n",
    "print(f\"   - Code is organized and reusable\")\n",
    "print(f\"   - Easy to test individual components\") \n",
    "print(f\"   - Can be used with different datasets\")\n",
    "print(f\"   - Makes complex analysis manageable\")"
   ]
  },
  {
   "cell_type": "markdown",
   "id": "810945b5",
   "metadata": {},
   "source": [
    "### **3.6: Summary**"
   ]
  },
  {
   "cell_type": "markdown",
   "id": "e4fa176e",
   "metadata": {},
   "source": [
    "Chapter 3 introduced the essential Python and pandas skills needed for data analysis. Here's what we covered:\n",
    "\n",
    "**🎯 Core Learning Objectives Achieved:**\n",
    "\n",
    "**Data Import & Setup (3.1-3.2)**\n",
    "- **Library imports**: Using `import pandas as pd`, `numpy as np`, `matplotlib.pyplot as plt`\n",
    "- **Data loading**: Reading CSV files with `pd.read_csv()`\n",
    "- **Initial exploration**: Using `.head()`, `.info()`, `.describe()` to understand datasets\n",
    "\n",
    "**Pandas DataFrame Mastery (3.3)**\n",
    "- **DataFrame structure**: Understanding rows, columns, and indices\n",
    "- **Data selection**: Accessing columns (`df['column']`), rows (`.iloc[]`, `.loc[]`)\n",
    "- **Data filtering**: Boolean indexing (`df[df['column'] > value]`)\n",
    "- **Data manipulation**: Adding columns, sorting with `.sort_values()`, grouping with `.groupby()`\n",
    "- **Handling missing data**: Detecting with `.isnull()`, cleaning with `.dropna()` and `.fillna()`\n",
    "- **Statistical operations**: Computing means, sums, and aggregations\n",
    "\n",
    "**Python Programming Fundamentals (3.4)**\n",
    "- **Data types**: Numeric (`int`, `float`), text (`str`), sequences (`list`, `tuple`), mappings (`dict`), boolean (`bool`)\n",
    "- **For loops**: Repeating actions over lists, ranges, and data structures\n",
    "- **Conditional statements**: Making decisions with `if`, `elif`, `else` logic\n",
    "- **Variable assignment**: Storing and manipulating data in memory\n",
    "- **Basic operations**: Mathematical calculations, string manipulation, list operations\n",
    "\n",
    "**Key Skills You Can Now Apply:**\n",
    "✅ Load and explore any CSV dataset  \n",
    "✅ Filter data based on conditions  \n",
    "✅ Calculate summary statistics  \n",
    "✅ Handle missing values appropriately  \n",
    "✅ Create new variables from existing data  \n",
    "✅ Use loops to process multiple items  \n",
    "✅ Make decisions in code with conditional logic  \n",
    "✅ Combine pandas operations for complex analysis  \n",
    "\n",
    "**What's Next:** Chapter 4 will build on these foundations to create compelling data visualizations that tell stories with your data!"
   ]
  },
  {
   "cell_type": "markdown",
   "id": "a2b0f663",
   "metadata": {},
   "source": [
    "## 📊 Chapter 4: Data Visualization"
   ]
  },
  {
   "cell_type": "markdown",
   "id": "5a52f7a8",
   "metadata": {},
   "source": [
    "#### **Introduction**"
   ]
  },
  {
   "cell_type": "markdown",
   "id": "d89b44d4",
   "metadata": {},
   "source": [
    "In this chapter, we will explore different chart types for visualizing data using Python.  \n",
    "We will focus on **Matplotlib** and **pandas built-in plotting**, which are the most common tools \n",
    "for basic visualization."
   ]
  },
  {
   "cell_type": "markdown",
   "id": "0b48fc0d",
   "metadata": {},
   "source": [
    "#### **Setup Data** (Run this first)"
   ]
  },
  {
   "cell_type": "code",
   "execution_count": 21,
   "id": "1d629ffa",
   "metadata": {},
   "outputs": [
    {
     "data": {
      "application/vnd.microsoft.datawrangler.viewer.v0+json": {
       "columns": [
        {
         "name": "index",
         "rawType": "int64",
         "type": "integer"
        },
        {
         "name": "Category",
         "rawType": "object",
         "type": "string"
        },
        {
         "name": "Values",
         "rawType": "int64",
         "type": "integer"
        },
        {
         "name": "Values2",
         "rawType": "int64",
         "type": "integer"
        }
       ],
       "ref": "617cdcc7-65e6-4025-9e18-bc65c2dda3c9",
       "rows": [
        [
         "0",
         "A",
         "23",
         "12"
        ],
        [
         "1",
         "B",
         "45",
         "67"
        ],
        [
         "2",
         "C",
         "56",
         "45"
        ],
        [
         "3",
         "D",
         "78",
         "90"
        ]
       ],
       "shape": {
        "columns": 3,
        "rows": 4
       }
      },
      "text/html": [
       "<div>\n",
       "<style scoped>\n",
       "    .dataframe tbody tr th:only-of-type {\n",
       "        vertical-align: middle;\n",
       "    }\n",
       "\n",
       "    .dataframe tbody tr th {\n",
       "        vertical-align: top;\n",
       "    }\n",
       "\n",
       "    .dataframe thead th {\n",
       "        text-align: right;\n",
       "    }\n",
       "</style>\n",
       "<table border=\"1\" class=\"dataframe\">\n",
       "  <thead>\n",
       "    <tr style=\"text-align: right;\">\n",
       "      <th></th>\n",
       "      <th>Category</th>\n",
       "      <th>Values</th>\n",
       "      <th>Values2</th>\n",
       "    </tr>\n",
       "  </thead>\n",
       "  <tbody>\n",
       "    <tr>\n",
       "      <th>0</th>\n",
       "      <td>A</td>\n",
       "      <td>23</td>\n",
       "      <td>12</td>\n",
       "    </tr>\n",
       "    <tr>\n",
       "      <th>1</th>\n",
       "      <td>B</td>\n",
       "      <td>45</td>\n",
       "      <td>67</td>\n",
       "    </tr>\n",
       "    <tr>\n",
       "      <th>2</th>\n",
       "      <td>C</td>\n",
       "      <td>56</td>\n",
       "      <td>45</td>\n",
       "    </tr>\n",
       "    <tr>\n",
       "      <th>3</th>\n",
       "      <td>D</td>\n",
       "      <td>78</td>\n",
       "      <td>90</td>\n",
       "    </tr>\n",
       "  </tbody>\n",
       "</table>\n",
       "</div>"
      ],
      "text/plain": [
       "  Category  Values  Values2\n",
       "0        A      23       12\n",
       "1        B      45       67\n",
       "2        C      56       45\n",
       "3        D      78       90"
      ]
     },
     "execution_count": 21,
     "metadata": {},
     "output_type": "execute_result"
    }
   ],
   "source": [
    "import pandas as pd\n",
    "import numpy as np\n",
    "import matplotlib.pyplot as plt\n",
    "\n",
    "# Generate some example data\n",
    "np.random.seed(0)\n",
    "data = pd.DataFrame({\n",
    "    \"Category\": [\"A\", \"B\", \"C\", \"D\"],\n",
    "    \"Values\": [23, 45, 56, 78],\n",
    "    \"Values2\": [12, 67, 45, 90]\n",
    "})\n",
    "\n",
    "data2 = pd.DataFrame({\n",
    "    \"X\": np.linspace(0, 10, 50),\n",
    "    \"Y\": np.sin(np.linspace(0, 10, 50)),\n",
    "    \"Z\": np.random.randn(50)\n",
    "})\n",
    "\n",
    "data.head()"
   ]
  },
  {
   "cell_type": "markdown",
   "id": "17e46fb7",
   "metadata": {},
   "source": [
    "### **4.1: Bar Chart**"
   ]
  },
  {
   "cell_type": "markdown",
   "id": "273e49c2",
   "metadata": {},
   "source": [
    "A **bar chart** uses rectangular bars to represent values across categories.  \n",
    "The length or height of each bar is proportional to the value it represents.  \n",
    "Bar charts are best for comparing quantities across **different categories** (e.g., sales by region, students by major)."
   ]
  },
  {
   "cell_type": "code",
   "execution_count": 22,
   "id": "94a3b4df",
   "metadata": {},
   "outputs": [
    {
     "data": {
      "image/png": "[encoded data removed]",
      "text/plain": [
       "<Figure size 640x480 with 1 Axes>"
      ]
     },
     "metadata": {},
     "output_type": "display_data"
    }
   ],
   "source": [
    "import pandas as pd\n",
    "import numpy as np\n",
    "import matplotlib.pyplot as plt\n",
    "\n",
    "plt.bar(data[\"Category\"], data[\"Values\"])\n",
    "plt.title(\"Bar Chart Example\")\n",
    "plt.xlabel(\"Category\")\n",
    "plt.ylabel(\"Values\")\n",
    "plt.show()"
   ]
  },
  {
   "cell_type": "markdown",
   "id": "74198a3a",
   "metadata": {},
   "source": [
    "### **4.2: Line Chart**"
   ]
  },
  {
   "cell_type": "markdown",
   "id": "3946b6bc",
   "metadata": {},
   "source": [
    "A **line chart** displays data points connected by a continuous line.  \n",
    "It is most useful for showing **trends over time** (e.g., monthly revenue, daily temperature).  \n",
    "Line charts emphasize the movement and direction of data rather than exact values."
   ]
  },
  {
   "cell_type": "code",
   "execution_count": 23,
   "id": "25d5a3ec",
   "metadata": {},
   "outputs": [
    {
     "data": {
      "image/png": "[encoded data removed]",
      "text/plain": [
       "<Figure size 640x480 with 1 Axes>"
      ]
     },
     "metadata": {},
     "output_type": "display_data"
    }
   ],
   "source": [
    "# Plot the X value, Y value, and set the marker to 'o'\n",
    "plt.plot(data2[\"X\"], data2[\"Y\"], marker=\"o\")\n",
    "# Set titles and other visual enhancements\n",
    "plt.title(\"Line Chart Example\")\n",
    "plt.xlabel(\"X\")\n",
    "plt.ylabel(\"Y\")\n",
    "plt.grid(True)\n",
    "plt.show()"
   ]
  },
  {
   "cell_type": "markdown",
   "id": "11e3477d",
   "metadata": {},
   "source": [
    "### **4.3: Scatter Plot**"
   ]
  },
  {
   "cell_type": "markdown",
   "id": "6e98eda8",
   "metadata": {},
   "source": [
    "A **scatter plot** uses points on a two-dimensional plane to represent values of two variables.  \n",
    "It is commonly used to identify **relationships, correlations, and clusters** between variables (e.g., height vs. weight, study time vs. test score)."
   ]
  },
  {
   "cell_type": "code",
   "execution_count": 24,
   "id": "430ee099",
   "metadata": {},
   "outputs": [
    {
     "data": {
      "image/png": "[encoded data removed]",
      "text/plain": [
       "<Figure size 640x480 with 1 Axes>"
      ]
     },
     "metadata": {},
     "output_type": "display_data"
    }
   ],
   "source": [
    "plt.scatter(data2[\"X\"], data2[\"Z\"], c=\"red\", alpha=0.6)\n",
    "plt.title(\"Scatter Plot Example\")\n",
    "plt.xlabel(\"X\")\n",
    "plt.ylabel(\"Z\")\n",
    "plt.show()"
   ]
  },
  {
   "cell_type": "markdown",
   "id": "911b889d",
   "metadata": {},
   "source": [
    "### **4.4: Histogram**"
   ]
  },
  {
   "cell_type": "markdown",
   "id": "0461a61d",
   "metadata": {},
   "source": [
    "A **histogram** groups numerical data into ranges (bins) and uses bars to show the frequency of values within each bin.  \n",
    "It is used to understand the **distribution of a dataset** (e.g., exam scores, income levels).  \n",
    "Unlike a bar chart, the bars in a histogram represent intervals of continuous data rather than discrete categories."
   ]
  },
  {
   "cell_type": "code",
   "execution_count": 25,
   "id": "9fb57171",
   "metadata": {},
   "outputs": [
    {
     "data": {
      "image/png": "[encoded data removed]",
      "text/plain": [
       "<Figure size 640x480 with 1 Axes>"
      ]
     },
     "metadata": {},
     "output_type": "display_data"
    }
   ],
   "source": [
    "plt.hist(data2[\"Z\"], bins=10, color=\"skyblue\", edgecolor=\"black\")\n",
    "plt.title(\"Histogram Example\")\n",
    "plt.xlabel(\"Value\")\n",
    "plt.ylabel(\"Frequency\")\n",
    "plt.show()\n"
   ]
  },
  {
   "cell_type": "markdown",
   "id": "ac3e9be9",
   "metadata": {},
   "source": [
    "### **4.5: Boxplot**"
   ]
  },
  {
   "cell_type": "markdown",
   "id": "5340d51d",
   "metadata": {},
   "source": [
    "A **boxplot** (or whisker plot) summarizes the distribution of a dataset using five-number summary statistics: **minimum, Q1, median, Q3, and maximum**.  \n",
    "It is especially useful for identifying **outliers** and comparing the spread of data across multiple groups."
   ]
  },
  {
   "cell_type": "code",
   "execution_count": 26,
   "id": "951e266e",
   "metadata": {},
   "outputs": [
    {
     "data": {
      "image/png": "[encoded data removed]",
      "text/plain": [
       "<Figure size 640x480 with 1 Axes>"
      ]
     },
     "metadata": {},
     "output_type": "display_data"
    }
   ],
   "source": [
    "plt.boxplot(data2[\"Z\"])\n",
    "plt.title(\"Boxplot Example\")\n",
    "plt.ylabel(\"Values\")\n",
    "plt.show()"
   ]
  },
  {
   "cell_type": "markdown",
   "id": "060d0fcd",
   "metadata": {},
   "source": [
    "### **4.6: Pie Chart**"
   ]
  },
  {
   "cell_type": "markdown",
   "id": "a1b388c0",
   "metadata": {},
   "source": [
    "A **pie chart** represents data as slices of a circle, where each slice corresponds to a proportion of the whole.  \n",
    "Pie charts are used to show **part-to-whole relationships**, such as percentages of total sales by product line.  \n",
    "They are most effective when there are only a few categories, and proportions are easy to distinguish."
   ]
  },
  {
   "cell_type": "code",
   "execution_count": 27,
   "id": "db159f06",
   "metadata": {},
   "outputs": [
    {
     "data": {
      "image/png": "[encoded data removed]",
      "text/plain": [
       "<Figure size 640x480 with 1 Axes>"
      ]
     },
     "metadata": {},
     "output_type": "display_data"
    }
   ],
   "source": [
    "plt.pie(data[\"Values\"], labels=data[\"Category\"], autopct=\"%1.1f%%\", startangle=90)\n",
    "plt.title(\"Pie Chart Example\")\n",
    "plt.show()"
   ]
  },
  {
   "cell_type": "markdown",
   "id": "23232b42",
   "metadata": {},
   "source": [
    "### **4.7: Time Series**"
   ]
  },
  {
   "cell_type": "markdown",
   "id": "273f03c1",
   "metadata": {},
   "source": [
    "A **time series** is a sequence of data points recorded at specific time intervals.  \n",
    "It is commonly used to analyze how values change over time (e.g., stock prices, daily sales, weather data).  \n",
    "Time series visualizations are useful for identifying **trends, seasonality, and patterns** that occur across time.  "
   ]
  },
  {
   "cell_type": "markdown",
   "id": "d650dffb",
   "metadata": {},
   "source": [
    "#### **Setup (Run me first)**"
   ]
  },
  {
   "cell_type": "code",
   "execution_count": 28,
   "id": "733eedb9",
   "metadata": {},
   "outputs": [
    {
     "data": {
      "application/vnd.microsoft.datawrangler.viewer.v0+json": {
       "columns": [
        {
         "name": "index",
         "rawType": "int64",
         "type": "integer"
        },
        {
         "name": "Date",
         "rawType": "datetime64[ns]",
         "type": "datetime"
        },
        {
         "name": "Value",
         "rawType": "int32",
         "type": "integer"
        }
       ],
       "ref": "86916419-018f-4b62-984d-77fd734451ed",
       "rows": [
        [
         "0",
         "2025-01-01 00:00:00",
         "73"
        ],
        [
         "1",
         "2025-01-02 00:00:00",
         "65"
        ],
        [
         "2",
         "2025-01-03 00:00:00",
         "63"
        ],
        [
         "3",
         "2025-01-04 00:00:00",
         "71"
        ],
        [
         "4",
         "2025-01-05 00:00:00",
         "98"
        ]
       ],
       "shape": {
        "columns": 2,
        "rows": 5
       }
      },
      "text/html": [
       "<div>\n",
       "<style scoped>\n",
       "    .dataframe tbody tr th:only-of-type {\n",
       "        vertical-align: middle;\n",
       "    }\n",
       "\n",
       "    .dataframe tbody tr th {\n",
       "        vertical-align: top;\n",
       "    }\n",
       "\n",
       "    .dataframe thead th {\n",
       "        text-align: right;\n",
       "    }\n",
       "</style>\n",
       "<table border=\"1\" class=\"dataframe\">\n",
       "  <thead>\n",
       "    <tr style=\"text-align: right;\">\n",
       "      <th></th>\n",
       "      <th>Date</th>\n",
       "      <th>Value</th>\n",
       "    </tr>\n",
       "  </thead>\n",
       "  <tbody>\n",
       "    <tr>\n",
       "      <th>0</th>\n",
       "      <td>2025-01-01</td>\n",
       "      <td>73</td>\n",
       "    </tr>\n",
       "    <tr>\n",
       "      <th>1</th>\n",
       "      <td>2025-01-02</td>\n",
       "      <td>65</td>\n",
       "    </tr>\n",
       "    <tr>\n",
       "      <th>2</th>\n",
       "      <td>2025-01-03</td>\n",
       "      <td>63</td>\n",
       "    </tr>\n",
       "    <tr>\n",
       "      <th>3</th>\n",
       "      <td>2025-01-04</td>\n",
       "      <td>71</td>\n",
       "    </tr>\n",
       "    <tr>\n",
       "      <th>4</th>\n",
       "      <td>2025-01-05</td>\n",
       "      <td>98</td>\n",
       "    </tr>\n",
       "  </tbody>\n",
       "</table>\n",
       "</div>"
      ],
      "text/plain": [
       "        Date  Value\n",
       "0 2025-01-01     73\n",
       "1 2025-01-02     65\n",
       "2 2025-01-03     63\n",
       "3 2025-01-04     71\n",
       "4 2025-01-05     98"
      ]
     },
     "metadata": {},
     "output_type": "display_data"
    }
   ],
   "source": [
    "## SETUP - DON'T WORRY ABOUT THIS PART, WE WILL COVER STUFF LIKE THIS LATER!  \n",
    "# Create a simple time series dataset \n",
    "dates = pd.date_range(start=\"2025-01-01\", periods=10, freq=\"D\")\n",
    "values = np.random.randint(50, 100, size=10)\n",
    "time_df = pd.DataFrame({\"Date\": dates, \"Value\": values})\n",
    "display(time_df.head())\n",
    "## END SETUP"
   ]
  },
  {
   "cell_type": "markdown",
   "id": "73333233",
   "metadata": {},
   "source": [
    "#### **Plotting the time series**"
   ]
  },
  {
   "cell_type": "code",
   "execution_count": 29,
   "id": "f946d6f6",
   "metadata": {},
   "outputs": [
    {
     "data": {
      "image/png": "[encoded data removed]",
      "text/plain": [
       "<Figure size 640x480 with 1 Axes>"
      ]
     },
     "metadata": {},
     "output_type": "display_data"
    }
   ],
   "source": [
    "# Plot the time series\n",
    "plt.plot(time_df[\"Date\"], time_df[\"Value\"], marker=\"o\")\n",
    "plt.title(\"Example Time Series\")\n",
    "plt.xlabel(\"Date\")\n",
    "plt.ylabel(\"Value\")\n",
    "plt.grid(True)\n",
    "plt.show()"
   ]
  },
  {
   "cell_type": "markdown",
   "id": "5fd808ba",
   "metadata": {},
   "source": [
    "## 📈 Chapter 5: Descriptive Statistics"
   ]
  },
  {
   "cell_type": "markdown",
   "id": "2a3ec603",
   "metadata": {},
   "source": [
    "### **Introduction**"
   ]
  },
  {
   "cell_type": "markdown",
   "id": "fbb751bf",
   "metadata": {},
   "source": [
    "This chapter focuses on data exploration and descriptive statistics. Descriptive statistics allow us to understand, summarize, and visualize the characteristics of a dataset before applying more complex models."
   ]
  },
  {
   "cell_type": "markdown",
   "id": "4055caa3",
   "metadata": {},
   "source": [
    "### **5.1 The Data Quality Report**"
   ]
  },
  {
   "cell_type": "markdown",
   "id": "73b189a7",
   "metadata": {},
   "source": [
    "A data quality report summarizes the key characteristics of a dataset. It includes tables and graphs describing both numerical and categorical variables. Typical measures include **central tendency**, **variation**, and **shape**. Data quality reports also check for issues such as **missing values** and **outliers**."
   ]
  },
  {
   "cell_type": "markdown",
   "id": "2876ee6f",
   "metadata": {},
   "source": [
    "### **5.2 Central Tendency**"
   ]
  },
  {
   "cell_type": "markdown",
   "id": "f84de0fd",
   "metadata": {},
   "source": [
    "Central tendency describes where the data “centers” itself. The three most common measures are the **mean**, **median**, and **mode**."
   ]
  },
  {
   "cell_type": "markdown",
   "id": "76a92a38",
   "metadata": {},
   "source": [
    "#### The Mean"
   ]
  },
  {
   "cell_type": "markdown",
   "id": "1f53bf31",
   "metadata": {},
   "source": [
    "The arithmetic mean (average) is given by:\n",
    "\n",
    "$$\n",
    "\\bar{X} = \\frac{1}{n} \\sum_{i=1}^{n} x_i\n",
    "$$\n",
    "\n",
    "**Example in Python:**\n",
    "\n",
    "```python\n",
    "import numpy as np\n",
    "\n",
    "x = np.array([0, 1, 2, 0, 4, 0, 1, 2, 3])\n",
    "np.mean(x)\n",
    "```"
   ]
  },
  {
   "cell_type": "code",
   "execution_count": 30,
   "id": "024be68c",
   "metadata": {},
   "outputs": [
    {
     "data": {
      "text/plain": [
       "np.float64(1.4444444444444444)"
      ]
     },
     "execution_count": 30,
     "metadata": {},
     "output_type": "execute_result"
    }
   ],
   "source": [
    "import numpy as np\n",
    "\n",
    "x = np.array([0, 1, 2, 0, 4, 0, 1, 2, 3])\n",
    "np.mean(x)"
   ]
  },
  {
   "cell_type": "markdown",
   "id": "f6a145be",
   "metadata": {},
   "source": [
    "#### The Median"
   ]
  },
  {
   "cell_type": "markdown",
   "id": "a2a4562c",
   "metadata": {},
   "source": [
    "The median is the middle value after sorting the data. If \\(n\\) is odd, it’s the \\((n+1)/2\\)-th value. If \\(n\\) is even, it’s the average of the \\(n/2\\)-th and \\((n/2)+1\\)-th values.\n",
    "\n",
    "**Example in Python:**\n",
    "\n",
    "```python\n",
    "salaries = np.array([35000, 37000, 35000, 33000, 210000])\n",
    "np.median(salaries)\n",
    "```"
   ]
  },
  {
   "cell_type": "code",
   "execution_count": 31,
   "id": "217d5d9e",
   "metadata": {},
   "outputs": [
    {
     "data": {
      "text/plain": [
       "np.float64(35000.0)"
      ]
     },
     "execution_count": 31,
     "metadata": {},
     "output_type": "execute_result"
    }
   ],
   "source": [
    "salaries = np.array([35000, 37000, 35000, 33000, 210000])\n",
    "np.median(salaries)"
   ]
  },
  {
   "cell_type": "markdown",
   "id": "0988b146",
   "metadata": {},
   "source": [
    "#### The Mode"
   ]
  },
  {
   "cell_type": "markdown",
   "id": "3d0c1522",
   "metadata": {},
   "source": [
    "The mode is the most frequently occurring value. Unlike the mean, it is not affected by extreme values.\n"
   ]
  },
  {
   "cell_type": "code",
   "execution_count": 32,
   "id": "b505a5f6",
   "metadata": {},
   "outputs": [
    {
     "name": "stdout",
     "output_type": "stream",
     "text": [
      "Mode: 4\n",
      "Count: 3\n",
      "Mode with pandas: 4\n"
     ]
    }
   ],
   "source": [
    "import numpy as np\n",
    "from scipy import stats\n",
    "\n",
    "# Example data\n",
    "data = np.array([1, 2, 2, 3, 4, 4, 4, 5])\n",
    "\n",
    "# Using SciPy\n",
    "mode_result = stats.mode(data, keepdims=True)\n",
    "print(\"Mode:\", mode_result.mode[0])\n",
    "print(\"Count:\", mode_result.count[0])\n",
    "\n",
    "# Using pandas (alternative way)\n",
    "import pandas as pd\n",
    "print(\"Mode with pandas:\", pd.Series(data).mode()[0])\n"
   ]
  },
  {
   "cell_type": "markdown",
   "id": "cfba44f6",
   "metadata": {},
   "source": [
    "### **5.3 Variation and Shape**"
   ]
  },
  {
   "cell_type": "markdown",
   "id": "1ac357a2",
   "metadata": {},
   "source": [
    "In addition to central tendency, every variable is characterized by its **variation** (spread) and **shape**."
   ]
  },
  {
   "cell_type": "markdown",
   "id": "bc935b2e",
   "metadata": {},
   "source": [
    "#### Range"
   ]
  },
  {
   "cell_type": "markdown",
   "id": "068e9a5b",
   "metadata": {},
   "source": [
    "$$\n",
    "\\text{Range} = \\max(x) - \\min(x)\n",
    "$$\n",
    "\n",
    "```python\n",
    "salaries = np.array([35000, 37000, 35000, 33000, 210000])\n",
    "np.max(salaries) - np.min(salaries)\n",
    "```"
   ]
  },
  {
   "cell_type": "code",
   "execution_count": 33,
   "id": "dfbf8799",
   "metadata": {},
   "outputs": [
    {
     "data": {
      "text/plain": [
       "np.int64(177000)"
      ]
     },
     "execution_count": 33,
     "metadata": {},
     "output_type": "execute_result"
    }
   ],
   "source": [
    "salaries = np.array([35000, 37000, 35000, 33000, 210000])\n",
    "np.max(salaries) - np.min(salaries)"
   ]
  },
  {
   "cell_type": "markdown",
   "id": "d72ce3a0",
   "metadata": {},
   "source": [
    "#### Variance and Standard Deviation"
   ]
  },
  {
   "cell_type": "markdown",
   "id": "a6beea73",
   "metadata": {},
   "source": [
    "The sample variance is:\n",
    "\n",
    "$$\n",
    "s^2 = \\frac{1}{n-1} \\sum_{i=1}^{n}(x_i - \\bar{x})^2\n",
    "$$\n",
    "\n",
    "The sample standard deviation is:\n",
    "\n",
    "$$\n",
    "s = \\sqrt{s^2}\n",
    "$$\n",
    "\n",
    "**Example in Python:**\n",
    "\n",
    "```python\n",
    "heights = np.array([65.71, 72.30, 68.31, 67.05, 70.68])\n",
    "np.var(heights, ddof=1), np.std(heights, ddof=1)\n",
    "```\n"
   ]
  },
  {
   "cell_type": "code",
   "execution_count": 34,
   "id": "c9f3ca57",
   "metadata": {},
   "outputs": [
    {
     "data": {
      "text/plain": [
       "(np.float64(7.158650000000013), np.float64(2.6755653608162917))"
      ]
     },
     "execution_count": 34,
     "metadata": {},
     "output_type": "execute_result"
    }
   ],
   "source": [
    "heights = np.array([65.71, 72.30, 68.31, 67.05, 70.68])\n",
    "np.var(heights, ddof=1), np.std(heights, ddof=1)"
   ]
  },
  {
   "cell_type": "markdown",
   "id": "fd0a7b2c",
   "metadata": {},
   "source": [
    "#### **Z-Scores**"
   ]
  },
  {
   "cell_type": "markdown",
   "id": "5fb2058f",
   "metadata": {},
   "source": [
    "The Z-score measures how many standard deviations away from the mean a value is:\n",
    "\n",
    "$$\n",
    "Z = \\frac{X - \\bar{X}}{s}\n",
    "$$\n",
    "**Example in Python:**\n",
    "```python\n",
    "(heights - np.mean(heights)) / np.std(heights, ddof=1)\n",
    "```"
   ]
  },
  {
   "cell_type": "code",
   "execution_count": 35,
   "id": "27bd7b68",
   "metadata": {},
   "outputs": [
    {
     "data": {
      "text/plain": [
       "array([-1.15863363,  1.30439721, -0.18687639, -0.6578049 ,  0.6989177 ])"
      ]
     },
     "execution_count": 35,
     "metadata": {},
     "output_type": "execute_result"
    }
   ],
   "source": [
    "(heights - np.mean(heights)) / np.std(heights, ddof=1)"
   ]
  },
  {
   "cell_type": "markdown",
   "id": "5dee0e60",
   "metadata": {},
   "source": [
    "### **5.4 Skewness**"
   ]
  },
  {
   "cell_type": "markdown",
   "id": "0944c1b2",
   "metadata": {},
   "source": [
    "Skewness measures the asymmetry of the distribution.\n",
    "\n",
    "- If mean < median → **Left-skewed**\n",
    "- If mean = median → **Symmetrical**\n",
    "- If mean > median → **Right-skewed**"
   ]
  },
  {
   "cell_type": "markdown",
   "id": "b04d42bc",
   "metadata": {},
   "source": [
    "### **5.5 Quartiles**"
   ]
  },
  {
   "cell_type": "markdown",
   "id": "be7572e6",
   "metadata": {},
   "source": [
    "Quartiles describe the position of a specific data value in relation to the rest of the data. $Q_1$, $Q_2$, $Q_3$ are 3 numbers that divide the ordered observations into 4 equally sized groups (i.e. each group contains 25% of all observations).\n",
    "\n",
    "\n",
    "#### Finding Quartiles\n",
    "\n",
    "\n",
    "\n",
    "\n",
    "- **$Q_1$** corresponds to the 25th percentile, i.e., 25% of all observations in the data set are of lesser value than $Q_1$. In simple words, $Q_1$ is the median of all observations to the left of the median.\n",
    "- **$Q_2$** corresponds to the 50th percentile, i.e., 50% of all observations in the data set are of lesser value than $Q_2$. In simple words, $Q_2$ corresponds to the median.\n",
    "- **$Q_3$** corresponds to the 75th percentile, i.e., 75% of all observations in the data set are of lesser value than $Q_3$. In simple words, $Q_2$ is the median of all observations to the right of the median.\n",
    "\n",
    "**Note: Before finding quartiles, you must write your numbers in ascending (smallest to largest) order**\n",
    "\n",
    "**Formula for the position of the first quartile (Q1):**\n",
    "\n",
    "$$\n",
    "\\text{Position of } Q_1 = \\frac{n+1}{4}\n",
    "$$\n",
    "\n",
    "**Formula for the position of the third quartile (Q3):**\n",
    "\n",
    "$$\n",
    "\\text{Position of } Q_3 = \\frac{3(n+1)}{4}\n",
    "$$\n",
    "\n",
    "**Interquartile Range (IQR) Formula**\n",
    "\n",
    "The interquartile range (IQR) measures the spread of the middle 50% of a dataset. It is calculated as:\n",
    "\n",
    "\n",
    "$$\n",
    "\\mathrm{IQR} = Q_3 - Q_1\n",
    "$$\n",
    "\n",
    "Where:\n",
    "\n",
    "- $Q_1$ is the first quartile (25th percentile)\n",
    "\n",
    "- $Q_3$ is the third quartile (75th percentile)\n",
    "\n",
    "**Using this method to calculate outliers**\n",
    "\n",
    "You can use $Q_1$, $Q_3$, and the IQR to find outliers in your dataset. \n",
    "\n",
    "$$\n",
    "\\text{Lower Fence} = Q_1 - 1.5 \\times \\mathrm{IQR}\n",
    "$$\n",
    "\n",
    "$$\n",
    "\\text{Upper Fence} = Q_3 + 1.5 \\times \\mathrm{IQR}\n",
    "$$\n",
    "\n",
    "Any number that is < the lower fence is a lower outlier.\n",
    "\n",
    "Any number that is > the upper fence is the upper outlier."
   ]
  },
  {
   "cell_type": "code",
   "execution_count": 36,
   "id": "1af0210f",
   "metadata": {},
   "outputs": [
    {
     "name": "stdout",
     "output_type": "stream",
     "text": [
      "Sorted data: [ 1  2  3  4  5  6  7  8  9 15]\n",
      "Q1 (25th percentile): 3.25\n",
      "Q2 (Median): 5.5\n",
      "Q3 (75th percentile): 7.75\n",
      "IQR: 4.5\n",
      "Lower Fence: -3.5\n",
      "Upper Fence: 14.5\n",
      "Outliers: [15]\n"
     ]
    }
   ],
   "source": [
    "import numpy as np\n",
    "\n",
    "# Example dataset\n",
    "data = np.array([7, 8, 5, 6, 3, 4, 9, 2, 1, 15])\n",
    "\n",
    "# Step 1: Sort the data\n",
    "sorted_data = np.sort(data)\n",
    "print(\"Sorted data:\", sorted_data)\n",
    "\n",
    "# Step 2: Calculate quartiles\n",
    "Q1 = np.percentile(sorted_data, 25)\n",
    "Q2 = np.percentile(sorted_data, 50)  # Median\n",
    "Q3 = np.percentile(sorted_data, 75)\n",
    "print(f\"Q1 (25th percentile): {Q1}\")\n",
    "print(f\"Q2 (Median): {Q2}\")\n",
    "print(f\"Q3 (75th percentile): {Q3}\")\n",
    "\n",
    "# Step 3: Interquartile Range (IQR)\n",
    "IQR = Q3 - Q1\n",
    "print(f\"IQR: {IQR}\")\n",
    "\n",
    "# Step 4: Calculate outlier fences\n",
    "lower_fence = Q1 - 1.5 * IQR\n",
    "upper_fence = Q3 + 1.5 * IQR\n",
    "print(f\"Lower Fence: {lower_fence}\")\n",
    "print(f\"Upper Fence: {upper_fence}\")\n",
    "\n",
    "# Step 5: Identify outliers\n",
    "outliers = sorted_data[(sorted_data < lower_fence) | (sorted_data > upper_fence)]\n",
    "print(\"Outliers:\", outliers)\n"
   ]
  },
  {
   "cell_type": "markdown",
   "id": "f5ec1039",
   "metadata": {},
   "source": [
    "#### Five-Number Summary"
   ]
  },
  {
   "cell_type": "markdown",
   "id": "1ebd2864",
   "metadata": {},
   "source": [
    "The five-number summary includes:\n",
    "\n",
    "$$\n",
    "\\text{Min}, Q1, \\text{Median}, Q3, \\text{Max}\n",
    "$$\n",
    "\n",
    "```python\n",
    "np.percentile(heights, [0, 25, 50, 75, 100])\n",
    "```\n"
   ]
  },
  {
   "cell_type": "markdown",
   "id": "eb5ced25",
   "metadata": {},
   "source": [
    "### **5.6 Organizing Categorical Variables**"
   ]
  },
  {
   "cell_type": "markdown",
   "id": "f6292bc5",
   "metadata": {},
   "source": [
    "**Frequency Tables (See Python Functions - `Group By` in Chapter 1)**\n",
    "\n",
    "A **frequency table** counts occurrences in each category.  \n",
    "A **relative frequency table** shows percentages."
   ]
  },
  {
   "cell_type": "code",
   "execution_count": 38,
   "id": "35392e56",
   "metadata": {},
   "outputs": [
    {
     "name": "stdout",
     "output_type": "stream",
     "text": [
      "Frequency Table:\n",
      "Apple     3\n",
      "Orange    3\n",
      "Banana    2\n",
      "Name: count, dtype: int64\n",
      "\n",
      "Relative Frequency Table (%):\n",
      "Apple     37.5\n",
      "Orange    37.5\n",
      "Banana    25.0\n",
      "Name: proportion, dtype: float64\n"
     ]
    }
   ],
   "source": [
    "import pandas as pd\n",
    "\n",
    "# Example dataset\n",
    "data = pd.Series([\"Apple\", \"Banana\", \"Apple\", \"Orange\", \"Banana\", \"Apple\", \"Orange\", \"Orange\"])\n",
    "\n",
    "# Frequency table (counts)\n",
    "freq_table = data.value_counts()\n",
    "print(\"Frequency Table:\")\n",
    "print(freq_table)\n",
    "\n",
    "# Relative frequency table (percentages)\n",
    "rel_freq_table = data.value_counts(normalize=True) * 100\n",
    "print(\"\\nRelative Frequency Table (%):\")\n",
    "print(rel_freq_table)\n"
   ]
  },
  {
   "cell_type": "markdown",
   "id": "bbcfcfcd",
   "metadata": {},
   "source": [
    "### **5.7 Visualizing Variables**"
   ]
  },
  {
   "cell_type": "markdown",
   "id": "a0cc89f9",
   "metadata": {},
   "source": [
    "\n",
    "\n",
    "Visualizations provide insight into the structure of data.\n",
    "\n",
    "- **Bar chart** → Categorical data comparison  \n",
    "- **Pie chart** → Relative proportions  \n",
    "- **Histogram** → Distribution of numerical data  \n",
    "- **Boxplot** → Five-number summary and outliers  \n",
    "- **Scatter plot** → Relationship between two variables  \n",
    "- **Time series plot** → Trends over time  \n",
    "\n",
    "Note: For further information, see Chapter 2: Data Visualization"
   ]
  },
  {
   "cell_type": "markdown",
   "id": "ba692816",
   "metadata": {},
   "source": [
    "### **5.8 Identifying Data Quality Issues**"
   ]
  },
  {
   "cell_type": "markdown",
   "id": "0f07447b",
   "metadata": {},
   "source": [
    "After exploring your data, the second step is to identify any data quality issues. A data quality issue is defined as anything *unusual* about the data. The most common data quality issues are: **missing values** and **outliers**."
   ]
  },
  {
   "cell_type": "markdown",
   "id": "fcd19ca0",
   "metadata": {},
   "source": [
    "### **5.8.1 Missing Values**\n",
    "\n",
    "When a dataset is consolidated, some instances will be missing values for one or more variables. The percentage of missing values should be included in the *data quality report*. If variables have missing values, we must first determine why the values are missing."
   ]
  },
  {
   "cell_type": "markdown",
   "id": "d41aff41",
   "metadata": {},
   "source": [
    "**Missing Value Summary (Example in Python)**"
   ]
  },
  {
   "cell_type": "code",
   "execution_count": 2,
   "id": "be6bdb32",
   "metadata": {},
   "outputs": [
    {
     "data": {
      "application/vnd.microsoft.datawrangler.viewer.v0+json": {
       "columns": [
        {
         "name": "index",
         "rawType": "object",
         "type": "string"
        },
        {
         "name": "0",
         "rawType": "float64",
         "type": "float"
        }
       ],
       "ref": "02b6d80c-0d9a-4781-892a-31e00f3f9268",
       "rows": [
        [
         "Age",
         "20.0"
        ],
        [
         "Income",
         "40.0"
        ],
        [
         "City",
         "20.0"
        ]
       ],
       "shape": {
        "columns": 1,
        "rows": 3
       }
      },
      "text/plain": [
       "Age       20.0\n",
       "Income    40.0\n",
       "City      20.0\n",
       "dtype: float64"
      ]
     },
     "metadata": {},
     "output_type": "display_data"
    }
   ],
   "source": [
    "import pandas as pd\n",
    "\n",
    "# Example dataset with missing values\n",
    "data = {\n",
    "    'Age': [25, 30, None, 22, 28],\n",
    "    'Income': [50000, None, 45000, 52000, None],\n",
    "    'City': ['NY', 'LA', 'NY', None, 'LA']\n",
    "}\n",
    "\n",
    "df = pd.DataFrame(data)\n",
    "\n",
    "# Missing value report\n",
    "missing_report = df.isnull().mean() * 100\n",
    "display(missing_report)\n"
   ]
  },
  {
   "cell_type": "markdown",
   "id": "23409252",
   "metadata": {},
   "source": [
    "> **How to Read The Table Above:**  \n",
    "> Each number represents the **percentage of missing values** in that column.  \n",
    "> For example, **40% of all Income entries are missing**, which means nearly half of the records do not have a value for Income.  \n",
    "> Columns with higher percentages (like Income) may be **unreliable for analysis** unless missing values are **filled, estimated, or removed**, while columns with lower percentages (like Age and City at 20%) are **less concerning but still worth attention.**\n"
   ]
  },
  {
   "cell_type": "markdown",
   "id": "af6164c2",
   "metadata": {},
   "source": [
    "### **5.8.2 Outliers**\n",
    "\n",
    "Outliers are values that lie far away from the other values in the data. There are two kinds of outliers that might appear in any dataset: **invalid outliers** and **valid outliers**."
   ]
  },
  {
   "cell_type": "markdown",
   "id": "fdb5bebd",
   "metadata": {},
   "source": [
    "**Outlier Detection Example — Z-Score Method**"
   ]
  },
  {
   "cell_type": "code",
   "execution_count": 6,
   "id": "9b2e2515",
   "metadata": {},
   "outputs": [
    {
     "data": {
      "application/vnd.microsoft.datawrangler.viewer.v0+json": {
       "columns": [
        {
         "name": "index",
         "rawType": "int64",
         "type": "integer"
        },
        {
         "name": "Age",
         "rawType": "float64",
         "type": "float"
        },
        {
         "name": "Income",
         "rawType": "float64",
         "type": "float"
        },
        {
         "name": "City",
         "rawType": "object",
         "type": "string"
        }
       ],
       "ref": "0651bec4-9223-479d-896e-bfea7fd05458",
       "rows": [
        [
         "20",
         "120.0",
         "500000.0",
         "NY"
        ]
       ],
       "shape": {
        "columns": 3,
        "rows": 1
       }
      },
      "text/html": [
       "<div>\n",
       "<style scoped>\n",
       "    .dataframe tbody tr th:only-of-type {\n",
       "        vertical-align: middle;\n",
       "    }\n",
       "\n",
       "    .dataframe tbody tr th {\n",
       "        vertical-align: top;\n",
       "    }\n",
       "\n",
       "    .dataframe thead th {\n",
       "        text-align: right;\n",
       "    }\n",
       "</style>\n",
       "<table border=\"1\" class=\"dataframe\">\n",
       "  <thead>\n",
       "    <tr style=\"text-align: right;\">\n",
       "      <th></th>\n",
       "      <th>Age</th>\n",
       "      <th>Income</th>\n",
       "      <th>City</th>\n",
       "    </tr>\n",
       "  </thead>\n",
       "  <tbody>\n",
       "    <tr>\n",
       "      <th>20</th>\n",
       "      <td>120.0</td>\n",
       "      <td>500000.0</td>\n",
       "      <td>NY</td>\n",
       "    </tr>\n",
       "  </tbody>\n",
       "</table>\n",
       "</div>"
      ],
      "text/plain": [
       "      Age    Income City\n",
       "20  120.0  500000.0   NY"
      ]
     },
     "execution_count": 6,
     "metadata": {},
     "output_type": "execute_result"
    }
   ],
   "source": [
    "import pandas as pd\n",
    "import numpy as np\n",
    "\n",
    "# Generate normal data\n",
    "np.random.seed(42)\n",
    "ages = np.random.normal(30, 5, 20).tolist()  # Average age ~30\n",
    "incomes = np.random.normal(50000, 3000, 20).tolist()\n",
    "\n",
    "# Add OUTLIERS\n",
    "ages += [120, 2]   # Extremely old + extremely young\n",
    "incomes += [500000, 1000]  # Huge income + tiny income\n",
    "\n",
    "# Cities (just filler categorical values)\n",
    "cities = ['NY', 'LA', 'SF', 'CHI'] * 6\n",
    "\n",
    "df = pd.DataFrame({\n",
    "    'Age': ages,\n",
    "    'Income': incomes,\n",
    "    'City': cities[:len(ages)]\n",
    "})\n",
    "\n",
    "# Compute Z-scores\n",
    "df_numeric = df.select_dtypes(include=[np.number])\n",
    "z_scores = (df_numeric - df_numeric.mean()) / df_numeric.std()\n",
    "\n",
    "# Flag outliers (> |3|)\n",
    "outliers = (np.abs(z_scores) > 3).any(axis=1)\n",
    "df[outliers]\n"
   ]
  },
  {
   "cell_type": "markdown",
   "id": "1ed058e4",
   "metadata": {},
   "source": [
    "**How to Interpret The Above Table:**\n",
    "\n",
    "The rows shown above represent **outliers** — values that are **unusually far from the rest of the data**.\n",
    "\n",
    "- In this case, the **Age = 120** and **Income = 500000** were flagged because their **Z-scores were greater than 3**, meaning they are **more than 3 standard deviations away from the average**.\n",
    "- These values are **statistically abnormal** and may be due to **data entry errors, measurement issues, or genuinely rare cases**.\n",
    "\n",
    "When outliers appear, analysts must **decide whether to:**\n",
    "\n",
    "- **Remove them** (if clearly invalid — e.g., Age 120 unlikely in this context)\n",
    "- **Cap or Winsorize them** (limit extreme values to reduce impact)\n",
    "- **Keep them** (if they are **valid and meaningful**, such as high earners in income studies)\n",
    "\n",
    "Outlier detection is **not about deleting data blindly** — it's about **identifying unusual cases so you can make informed decisions.**"
   ]
  },
  {
   "cell_type": "markdown",
   "id": "87db0f58",
   "metadata": {},
   "source": [
    "### **5.9 The Data Quality Report Summary**"
   ]
  },
  {
   "cell_type": "markdown",
   "id": "bebfffd8",
   "metadata": {},
   "source": [
    "A data quality report should summarize missing values, outliers, and provide recommendations based on thresholds."
   ]
  },
  {
   "cell_type": "markdown",
   "id": "cf762716",
   "metadata": {},
   "source": [
    "# 🚀 Part 3: Introduction to Advanced Modeling Techniques\n"
   ]
  },
  {
   "cell_type": "markdown",
   "id": "fe5c171b",
   "metadata": {},
   "source": [
    "## 🔍 Chapters 6: Similarity, Neighbors, & Clustering"
   ]
  },
  {
   "cell_type": "markdown",
   "id": "de63e834",
   "metadata": {},
   "source": [
    "### **6.1: Why This Chapter Matters**"
   ]
  },
  {
   "cell_type": "markdown",
   "id": "c2108146",
   "metadata": {},
   "source": [
    "Great analysts *see patterns before others do*. In this chapter you’ll learn to **measure similarity**, **find near matches**, and **discover natural groups**—the building blocks of search engines, recommendation systems, fraud detection, and student-success alerts.\n",
    "\n",
    "> You don’t need permission to learn. Type, run, tweak, break, learn. This is your lab."
   ]
  },
  {
   "cell_type": "markdown",
   "id": "8d779215",
   "metadata": {},
   "source": [
    "### **6.2: Similarity & Distance**"
   ]
  },
  {
   "cell_type": "markdown",
   "id": "3545a020",
   "metadata": {},
   "source": [
    "When we compare two things (students, products, documents), we convert them to **feature vectors** and compute a number that says *how close* or *how far* they are. Distance is the backbone of neighbors and clustering.\n",
    "\n",
    "**The Core Idea: Everything is a Point in Space**\n",
    "\n",
    "Think of each data record as a point in multi-dimensional space:\n",
    "- **Students**: [study_hours, GPA, age, credits] → 4D point\n",
    "- **Products**: [price, rating, reviews, category_score] → 4D point  \n",
    "- **Documents**: [word1_count, word2_count, ..., wordN_count] → N-dimensional point\n",
    "\n",
    "**Why Distance Matters**\n",
    "\n",
    "Distance gives us a **universal language for similarity**:\n",
    "- **Small distance** = Similar entities (close neighbors)\n",
    "- **Large distance** = Different entities (far apart)\n",
    "- **Zero distance** = Identical entities (same point)\n",
    "\n",
    "This simple concept powers some of the most important algorithms in machine learning:\n",
    "\n",
    "**🔍 Recommendation Systems**: \"Find users similar to you\"\n",
    "- Netflix: Users with similar viewing patterns get similar recommendations\n",
    "- Amazon: Customers who bought similar items get related suggestions\n",
    "\n",
    "**🏥 Medical Diagnosis**: \"Find patients with similar symptoms\"\n",
    "- Compare symptom vectors to identify likely conditions\n",
    "- Match treatment responses across similar patient profiles\n",
    "\n",
    "**📊 Customer Segmentation**: \"Group customers by behavior\"\n",
    "- Cluster customers with similar purchasing patterns\n",
    "- Target marketing to distinct behavioral groups\n",
    "\n",
    "**🔬 Scientific Discovery**: \"Find patterns in data\"\n",
    "- Group genes with similar expression patterns\n",
    "- Identify chemical compounds with similar properties\n",
    "\n",
    "**The Challenge: Choosing the Right Distance**\n",
    "\n",
    "Not all distances work equally well for all problems:\n",
    "- **Euclidean**: Best for continuous features on similar scales\n",
    "- **Manhattan**: Better when you care about individual feature differences\n",
    "- **Cosine**: Perfect when direction matters more than magnitude (text analysis)\n",
    "- **Hamming**: Ideal for categorical or binary features\n",
    "\n",
    "The art of data science is knowing which distance metric fits your problem!"
   ]
  },
  {
   "cell_type": "markdown",
   "id": "0e461129",
   "metadata": {},
   "source": [
    "#### **6.2.1: Euclidean Distance (Geometry You Can Feel)**"
   ]
  },
  {
   "cell_type": "markdown",
   "id": "9b195a7a",
   "metadata": {},
   "source": [
    "**Key Terms and Formula**\n",
    "\n",
    "**Euclidean Distance Formula:**\n",
    "For two points A = [a₁, a₂, ..., aₙ] and B = [b₁, b₂, ..., bₙ]:\n",
    "\n",
    "$$\n",
    "d(A, B) = \\sqrt{(a_1 - b_1)^2 + (a_2 - b_2)^2 + ... + (a_n - b_n)^2}\n",
    "$$\n",
    "\n",
    "**In 2D (most intuitive):**\n",
    "$$\n",
    "d(A, B) = \\sqrt{(x_2 - x_1)^2 + (y_2 - y_1)^2}\n",
    "$$\n",
    "\n",
    "**Key Properties:**\n",
    "- **Always positive**: Distance cannot be negative\n",
    "- **Symmetric**: d(A,B) = d(B,A) \n",
    "- **Triangle inequality**: Direct path is always shortest\n",
    "- **Zero distance**: Only when points are identical (A = B)"
   ]
  },
  {
   "cell_type": "markdown",
   "id": "4e9c3260",
   "metadata": {},
   "source": [
    "**What is Euclidean Distance?**\n",
    "\n",
    "Euclidean distance is the **straight-line distance** between two points — exactly what you'd measure with a ruler or tape measure in the real world. There's nothing mysterious about it!\n",
    "\n",
    "**Why is this useful in data analytics?**\n",
    "\n",
    "In data science, we treat each record (row) as a point in multi-dimensional space, where each feature is a dimension:\n",
    "- **2D example**: Height vs. Weight → Each person is a point on a scatter plot\n",
    "- **3D example**: Height, Weight, Age → Each person is a point in 3D space  \n",
    "- **Multi-dimensional**: Credit score, income, age, debt → Each person is a point in 4D+ space\n",
    "\n",
    "**The core insight**: If two data points are **close together**, they represent **similar** entities. If they're **far apart**, they're **different**.\n",
    "\n",
    "**Real-world applications:**\n",
    "- **Recommendation systems**: Find users with similar preferences\n",
    "- **Medical diagnosis**: Find patients with similar symptoms\n",
    "- **Customer segmentation**: Group customers with similar buying patterns\n",
    "- **Image recognition**: Compare pixel patterns between images\n",
    "\n",
    "**Important caveat**: This works best when all features are on similar scales. Mixing age (0-100) with salary (0-200,000) will let salary dominate the distance calculation — that's why feature scaling is crucial!"
   ]
  },
  {
   "cell_type": "markdown",
   "id": "da4c867c",
   "metadata": {},
   "source": [
    "\n",
    "**Manual Example: Computing Euclidean Distance By Hand**\n",
    "\n",
    "Let's build intuition with a simple example you can calculate by hand.\n",
    "\n",
    "**Scenario: Student Similarity Based on Study Habits**\n",
    "\n",
    "Two students have different study patterns measured in hours per week:\n",
    "\n",
    "| Student | Math Hours | Science Hours |\n",
    "|---------|------------|---------------|\n",
    "| Alice   | 3          | 4             |\n",
    "| Bob     | 7          | 1             |\n",
    "\n",
    "As coordinate points: **Alice = (3, 4)** and **Bob = (7, 1)**\n",
    "\n",
    "**Step-by-Step Calculation:**\n",
    "\n",
    "**Step 1: Find the differences for each dimension**\n",
    "```\n",
    "Δx = 7 - 3 = 4\n",
    "Δy = 1 - 4 = -3\n",
    "```\n",
    "\n",
    "**Step 2: Square each difference** \n",
    "```\n",
    "(Δx)² = 4² = 16\n",
    "(Δy)² = (-3)² = 9\n",
    "```\n",
    "\n",
    "**Step 3: Sum the squared differences**\n",
    "```\n",
    "Sum = 16 + 9 = 25\n",
    "```\n",
    "\n",
    "**Step 4: Take the square root**\n",
    "```\n",
    "d(Alice, Bob) = √25 = 5.0\n",
    "```\n",
    "\n",
    "**Interpretation**: The Euclidean distance of **5.0** indicates that Alice and Bob have quite different study patterns. Alice focuses more on science (4 hrs) vs. math (3 hrs), while Bob heavily emphasizes math (7 hrs) with minimal science (1 hr).\n",
    "\n",
    "**Visual intuition**: If you plotted these points on graph paper and measured the straight-line distance with a ruler, you'd get exactly 5 units!"
   ]
  },
  {
   "cell_type": "markdown",
   "id": "1e59ab30",
   "metadata": {},
   "source": [
    "**Code Implementation**\n",
    "\n",
    "Now let's see how to implement this in Python and explore more complex examples:"
   ]
  },
  {
   "cell_type": "code",
   "execution_count": 8,
   "id": "b7bd2616",
   "metadata": {},
   "outputs": [
    {
     "name": "stdout",
     "output_type": "stream",
     "text": [
      "Euclidean distance(A, B) = 5.0\n"
     ]
    },
    {
     "data": {
      "image/png": "[encoded data removed]",
      "text/plain": [
       "<Figure size 500x400 with 1 Axes>"
      ]
     },
     "metadata": {},
     "output_type": "display_data"
    }
   ],
   "source": [
    "# Euclidean distance implementation and examples\n",
    "import numpy as np\n",
    "import matplotlib.pyplot as plt\n",
    "\n",
    "# Method 1: Manual calculation (matches our hand calculation)\n",
    "def euclidean_distance_manual(point1, point2):\n",
    "    \"\"\"Calculate Euclidean distance step by step\"\"\"\n",
    "    differences = [(p1 - p2) for p1, p2 in zip(point1, point2)]\n",
    "    squared_diffs = [diff**2 for diff in differences]\n",
    "    sum_squared = sum(squared_diffs)\n",
    "    return sum_squared**0.5\n",
    "\n",
    "# Method 2: Using NumPy (more efficient)\n",
    "def euclidean_distance_numpy(point1, point2):\n",
    "    \"\"\"Calculate Euclidean distance using NumPy\"\"\"\n",
    "    return np.linalg.norm(np.array(point1) - np.array(point2))\n",
    "\n",
    "# Example 1: Verify our manual calculation\n",
    "alice = [3, 4]  # (Math hours, Science hours)\n",
    "bob = [7, 1]\n",
    "\n",
    "print(\"Manual Calculation Verification:\")\n",
    "print(f\"d(Alice, Bob) = {euclidean_distance_manual(alice, bob):.1f}\")\n",
    "print(f\"NumPy calculation = {euclidean_distance_numpy(alice, bob):.1f}\")\n",
    "\n",
    "# Example 2: Multi-dimensional data (student profiles)\n",
    "print(\"\\nMulti-dimensional Example (3 features):\")\n",
    "student_a = [3, 4, 2]  # [Math hrs, Science hrs, Study group hrs]\n",
    "student_b = [7, 1, 5]\n",
    "student_c = [3, 5, 2]  # Very similar to student A\n",
    "\n",
    "print(f\"d(A, B) = {euclidean_distance_numpy(student_a, student_b):.2f}\")\n",
    "print(f\"d(A, C) = {euclidean_distance_numpy(student_a, student_c):.2f}\")  # Should be much smaller\n",
    "print(\"Student A is much more similar to Student C than to Student B!\")\n",
    "\n",
    "# Visualization of 2D case\n",
    "plt.figure(figsize=(8, 6))\n",
    "plt.scatter([alice[0], bob[0]], [alice[1], bob[1]], \n",
    "           c=['blue', 'red'], s=100, alpha=0.7)\n",
    "plt.plot([alice[0], bob[0]], [alice[1], bob[1]], 'k--', alpha=0.5)\n",
    "plt.annotate('Alice (3,4)', (alice[0], alice[1]), xytext=(3.2, 4.2))\n",
    "plt.annotate('Bob (7,1)', (bob[0], bob[1]), xytext=(7.2, 1.2))\n",
    "plt.title(\"Euclidean Distance Between Two Students' Study Patterns\")\n",
    "plt.xlabel(\"Math Hours per Week\")\n",
    "plt.ylabel(\"Science Hours per Week\")\n",
    "plt.grid(True, alpha=0.3)\n",
    "plt.show()"
   ]
  },
  {
   "cell_type": "markdown",
   "id": "b2026278",
   "metadata": {},
   "source": [
    "**Understanding the Results**\n",
    "\n",
    "From our examples:\n",
    "\n",
    "- **Alice vs Bob**: Distance of **5.0** indicates significantly different study patterns\n",
    "- **Alice vs Student C**: Distance of **1.0** shows very similar students (nearly identical study habits)\n",
    "- **Multi-dimensional power**: We can compare students across many features simultaneously\n",
    "\n",
    "**Key Insights:**\n",
    "\n",
    "1. **Scale matters**: Features with larger ranges dominate the distance calculation\n",
    "2. **Geometric intuition**: In 2D/3D, you can visualize this as literal straight-line distance\n",
    "3. **Similarity detection**: Smaller distances = more similar entities\n",
    "4. **Foundation for algorithms**: This simple concept powers k-nearest neighbors, clustering, and recommendation systems\n",
    "\n",
    "**When Euclidean Distance Works Best:**\n",
    "- Features are on similar scales (or have been normalized)\n",
    "- Linear relationships between features matter\n",
    "- \"Straight-line\" similarity makes sense for your problem\n",
    "\n",
    "**Next steps**: We'll explore other distance metrics (Manhattan, Cosine) that work better in different scenarios!\n",
    "\n",
    "---"
   ]
  },
  {
   "cell_type": "markdown",
   "id": "89adcb4d",
   "metadata": {},
   "source": [
    "#### **6.2.2: Cosine Similarity (Direction Over Magnitude)**"
   ]
  },
  {
   "cell_type": "markdown",
   "id": "227dc83b",
   "metadata": {},
   "source": [
    "**Key Terms and Formulas**\n",
    "\n",
    "Before diving in, let's define the essential components:\n",
    "\n",
    "**Cosine Similarity Formula:**\n",
    "$$\n",
    "\\text{cosine\\_similarity}(A, B) = \\frac{A \\cdot B}{\\|A\\| \\times \\|B\\|}\n",
    "$$\n",
    "\n",
    "**Dot Product (A · B)**: Multiply corresponding elements and add them up\n",
    "- Formula: $A \\cdot B = a_1b_1 + a_2b_2 + ... + a_nb_n$\n",
    "- Measures how much two vectors \"point in the same direction\"\n",
    "\n",
    "**Magnitude/Norm (||A||)**: The \"length\" of a vector  \n",
    "- Formula: $\\|A\\| = \\sqrt{a_1^2 + a_2^2 + ... + a_n^2}$\n",
    "- Think of it as the distance from the origin to the vector's endpoint\n",
    "\n",
    "**Output Range**: Cosine similarity returns a value between **-1 and 1**:\n",
    "\n",
    "| Value | Meaning |\n",
    "|--------|---------|\n",
    "| **1.0** | Vectors point in **exactly the same direction** → Perfect similarity |\n",
    "| **0.0** | Vectors are **orthogonal (perpendicular)** → No similarity |\n",
    "| **-1.0** | Vectors point in **opposite directions** → Complete dissimilarity |"
   ]
  },
  {
   "cell_type": "markdown",
   "id": "3a3d350b",
   "metadata": {},
   "source": [
    "**What is Cosine Similarity?**\n",
    "\n",
    "Cosine similarity measures the **angle** between two vectors rather than their raw distance. This makes it perfect for problems where **the overall direction or pattern of a data point matters more than its magnitude.**\n",
    "\n",
    "**Why is this useful?** Consider these scenarios:\n",
    "\n",
    "- **Text Analysis**: Two documents that use the same words in similar proportions are likely about the same topic — **even if one document is three times longer**\n",
    "- **User Behavior**: Two students who both study mostly at night are similar — **even if one studies 2 hours and the other studies 6 hours**  \n",
    "- **Product Ratings**: Two users who rate movies similarly (both love action, hate romance) are similar — **even if one rates everything higher on average**\n",
    "\n",
    "**Key Insight**: Cosine similarity cares about **pattern and direction**, not **magnitude or scale**. If two data points grow in the same proportion, they are considered similar — even if one is 10× larger than the other."
   ]
  },
  {
   "cell_type": "markdown",
   "id": "093623e4",
   "metadata": {},
   "source": [
    "**Manual Example: Computing Cosine Similarity By Hand**\n",
    "\n",
    "Let's build intuition with a simple, hand-calculable example.\n",
    "\n",
    "**Scenario: Lecture Watching Patterns**\n",
    "\n",
    "Two students watched (✅ = 1) or skipped (❌ = 0) four video lectures:\n",
    "\n",
    "| Video | Student A | Student B |\n",
    "|--------|-----------|-----------|\n",
    "| Lecture 1 | ✅ (1) | ✅ (1) |\n",
    "| Lecture 2 | ✅ (1) | ❌ (0) |\n",
    "| Lecture 3 | ❌ (0) | ✅ (1) |\n",
    "| Lecture 4 | ✅ (1) | ✅ (1) |\n",
    "\n",
    "As vectors: **A = [1, 1, 0, 1]** and **B = [1, 0, 1, 1]**\n",
    "\n",
    "**Step-by-Step Calculation:**\n",
    "\n",
    "**Step 1: Calculate the Dot Product (A · B)**\n",
    "```\n",
    "A · B = (1×1) + (1×0) + (0×1) + (1×1)\n",
    "      = 1 + 0 + 0 + 1\n",
    "      = 2\n",
    "```\n",
    "\n",
    "**Step 2: Calculate ||A|| (magnitude of A)**\n",
    "```\n",
    "||A|| = √(1² + 1² + 0² + 1²)\n",
    "      = √(1 + 1 + 0 + 1)\n",
    "      = √3 ≈ 1.732\n",
    "```\n",
    "\n",
    "**Step 3: Calculate ||B|| (magnitude of B)**\n",
    "```\n",
    "||B|| = √(1² + 0² + 1² + 1²)\n",
    "      = √(1 + 0 + 1 + 1)\n",
    "      = √3 ≈ 1.732\n",
    "```\n",
    "\n",
    "**Step 4: Apply the Formula**\n",
    "```\n",
    "cosine_similarity(A, B) = 2 / (√3 × √3)\n",
    "                        = 2 / 3\n",
    "                        ≈ 0.667\n",
    "```\n",
    "\n",
    "**Interpretation**: The similarity of **0.667** indicates moderately similar lecture-watching patterns. The students agree on 2 out of 4 lectures (Lectures 1 and 4), showing some common preferences but not identical behavior."
   ]
  },
  {
   "cell_type": "markdown",
   "id": "978a1e1e",
   "metadata": {},
   "source": [
    "**Code Implementation**\n",
    "\n",
    "Now let's see how to implement this in Python and apply it to more complex examples:"
   ]
  },
  {
   "cell_type": "code",
   "execution_count": 9,
   "id": "802fcad9",
   "metadata": {},
   "outputs": [
    {
     "name": "stdout",
     "output_type": "stream",
     "text": [
      "cos(u, v) = 0.109\n",
      "cos(u, w) = 1.0   # same direction → ~1.0\n"
     ]
    }
   ],
   "source": [
    "# Cosine similarity from scratch\n",
    "import numpy as np\n",
    "\n",
    "def cosine_similarity(u, v, eps=1e-9):\n",
    "    \"\"\"\n",
    "    Calculate cosine similarity between two vectors\n",
    "    eps prevents division by zero for zero vectors\n",
    "    \"\"\"\n",
    "    dot_product = np.dot(u, v)\n",
    "    magnitude_u = np.linalg.norm(u)\n",
    "    magnitude_v = np.linalg.norm(v)\n",
    "    return dot_product / (magnitude_u * magnitude_v + eps)\n",
    "\n",
    "# Example 1: Our manual calculation (verify our work!)\n",
    "A = np.array([1, 1, 0, 1])  # Student A's lecture pattern\n",
    "B = np.array([1, 0, 1, 1])  # Student B's lecture pattern\n",
    "print(\"Manual example verification:\")\n",
    "print(f\"cos(A, B) = {cosine_similarity(A, B):.3f}\")  # Should be ~0.667\n",
    "\n",
    "# Example 2: Document term frequencies\n",
    "print(\"\\nDocument similarity example:\")\n",
    "doc1 = np.array([3, 0, 2, 0, 1])   # Term counts in Document 1\n",
    "doc2 = np.array([0, 1, 0, 2, 1])   # Term counts in Document 2  \n",
    "doc3 = np.array([6, 0, 4, 0, 2])   # Same pattern as doc1, but scaled up\n",
    "\n",
    "print(f\"cos(doc1, doc2) = {cosine_similarity(doc1, doc2):.3f}\")  # Different topics\n",
    "print(f\"cos(doc1, doc3) = {cosine_similarity(doc1, doc3):.3f}\")  # Same topic, different lengths"
   ]
  },
  {
   "cell_type": "markdown",
   "id": "1d7e6180",
   "metadata": {},
   "source": [
    "**Understanding the Results**\n",
    "\n",
    "From our code examples:\n",
    "\n",
    "- **A and B (students)**: Similarity of **0.667** indicates moderate similarity in study patterns\n",
    "- **doc1 and doc2**: Low similarity (~**0.16**) suggests different topics or themes  \n",
    "- **doc1 and doc3**: Perfect similarity (**1.0**) because doc3 is just doc1 scaled up — they have identical patterns\n",
    "\n",
    "**Key Takeaway**: Cosine similarity focuses on **proportional relationships** and **directional patterns**, making it ideal for:\n",
    "- Text analysis (word frequency patterns)\n",
    "- Recommendation systems (user preference patterns)  \n",
    "- Any scenario where scale doesn't matter, but direction does\n",
    "\n",
    "---"
   ]
  },
  {
   "cell_type": "markdown",
   "id": "cd37ea88",
   "metadata": {},
   "source": [
    "\n",
    "#### **6.2.3: Feature Scaling (Silent Superpower)**\n",
    "\n",
    "Distances can be dominated by features with large units. **Scale** your features (e.g., z-scores) before computing distances for fair comparisons.\n"
   ]
  },
  {
   "cell_type": "code",
   "execution_count": 14,
   "id": "d0f0d35e",
   "metadata": {},
   "outputs": [
    {
     "name": "stdout",
     "output_type": "stream",
     "text": [
      "Original:\n",
      " [[60.   3.4]\n",
      " [72.   3.6]\n",
      " [65.   2.9]\n",
      " [80.   4. ]]\n",
      "\n",
      "Standardized (z-scores):\n",
      " [[-1.229 -0.189]\n",
      " [ 0.365  0.316]\n",
      " [-0.564 -1.452]\n",
      " [ 1.428  1.326]]\n"
     ]
    }
   ],
   "source": [
    "\n",
    "# Quick standardization (z-scores)\n",
    "import numpy as np\n",
    "\n",
    "X = np.array([[60, 3.4], [72, 3.6], [65, 2.9], [80, 4.0]], dtype=float)  # [credits, GPA]\n",
    "mu = X.mean(axis=0)\n",
    "sd = X.std(axis=0, ddof=0)\n",
    "Z = (X - mu) / sd\n",
    "print(\"Original:\\n\", X)\n",
    "print(\"\\nStandardized (z-scores):\\n\", np.round(Z, 3))\n"
   ]
  },
  {
   "cell_type": "markdown",
   "id": "a8f8a7c2",
   "metadata": {},
   "source": [
    "### **6.3: Nearest Neighbors (Learning by Example)**\n"
   ]
  },
  {
   "cell_type": "markdown",
   "id": "6bd013b9",
   "metadata": {},
   "source": [
    "The **k-Nearest Neighbors (k-NN)** algorithm predicts a label for a new point by letting the *k closest examples vote*. No training phase—just compare and decide."
   ]
  },
  {
   "cell_type": "markdown",
   "id": "b6dd76e4",
   "metadata": {},
   "source": [
    "#### **6.3.1: k-NN Classification (From Scratch)**"
   ]
  },
  {
   "cell_type": "markdown",
   "id": "f71fc856",
   "metadata": {},
   "source": [
    "We'll generate a tiny dataset with two classes, write a minimal k-NN, and classify new points. Change `k` and watch behavior change."
   ]
  },
  {
   "cell_type": "code",
   "execution_count": 10,
   "id": "ad8bec13",
   "metadata": {},
   "outputs": [
    {
     "name": "stdout",
     "output_type": "stream",
     "text": [
      "Predictions for [[3.  3.2]\n",
      " [2.2 1.8]\n",
      " [4.2 5. ]] → [np.int64(0), np.int64(0), np.int64(1)]\n"
     ]
    },
    {
     "data": {
      "image/png": "[encoded data removed]",
      "text/plain": [
       "<Figure size 500x400 with 1 Axes>"
      ]
     },
     "metadata": {},
     "output_type": "display_data"
    }
   ],
   "source": [
    "\n",
    "# COMPREHENSIVE k-NN IMPLEMENTATION WITH DETAILED EXPLANATIONS\n",
    "# Each line is commented so beginners can understand exactly what's happening\n",
    "\n",
    "# Step 1: Import the libraries we need\n",
    "import numpy as np              # For mathematical operations and arrays\n",
    "import matplotlib.pyplot as plt # For creating visualizations\n",
    "\n",
    "# Step 2: Create a simple synthetic dataset for demonstration\n",
    "# We'll create two distinct groups of points that are clearly separable\n",
    "\n",
    "np.random.seed(0)  # Set random seed for reproducible results in educational context\n",
    "\n",
    "# Generate Class 0 points (we'll call these \"blue\" points)\n",
    "# np.random.normal() creates random points following a bell curve (normal distribution)\n",
    "# loc=[2,2] means the center is at coordinates (2,2)\n",
    "# scale=0.6 controls how spread out the points are (smaller = more clustered)\n",
    "# size=(20,2) means we want 20 points, each with 2 coordinates (x,y)\n",
    "X0 = np.random.normal(loc=[2,2], scale=0.6, size=(20,2))\n",
    "\n",
    "# Generate Class 1 points (we'll call these \"red\" points)  \n",
    "# These are centered at (4.5, 4.5) to make them clearly separate from Class 0\n",
    "X1 = np.random.normal(loc=[4.5,4.5], scale=0.6, size=(20,2))\n",
    "\n",
    "# Combine both classes into a single dataset\n",
    "# np.vstack() stacks arrays vertically (puts one on top of the other)\n",
    "X = np.vstack([X0, X1])\n",
    "\n",
    "# Create the corresponding labels\n",
    "# [0]*len(X0) creates a list of zeros (one for each Class 0 point)\n",
    "# [1]*len(X1) creates a list of ones (one for each Class 1 point)  \n",
    "# np.array() converts the combined list to a numpy array for easier computation\n",
    "y = np.array([0]*len(X0) + [1]*len(X1))\n",
    "\n",
    "print(\"Dataset created!\")\n",
    "print(f\"Total points: {len(X)}\")\n",
    "print(f\"Class 0 points: {len(X0)} (centered around [2,2])\")\n",
    "print(f\"Class 1 points: {len(X1)} (centered around [4.5,4.5])\")\n",
    "print(f\"First few data points:\")\n",
    "for i in range(5):\n",
    "    print(f\"  Point {i}: coordinates {X[i]}, class {y[i]}\")\n",
    "\n",
    "def knn_predict(X_train, y_train, x_new, k=5):\n",
    "    \"\"\"\n",
    "    k-Nearest Neighbors prediction function with detailed step-by-step process\n",
    "    \n",
    "    Parameters:\n",
    "    - X_train: Training data points (numpy array of shape [n_samples, n_features])\n",
    "    - y_train: Training labels (numpy array of shape [n_samples])\n",
    "    - x_new: New point to classify (numpy array of shape [n_features])\n",
    "    - k: Number of nearest neighbors to consider (integer)\n",
    "    \n",
    "    Returns:\n",
    "    - label: Predicted class label for the new point\n",
    "    \"\"\"\n",
    "    \n",
    "    # STEP 1: Calculate distances from new point to all training points\n",
    "    # np.linalg.norm() computes Euclidean distance\n",
    "    # X_train - x_new subtracts x_new from each row in X_train\n",
    "    # axis=1 means calculate distance along each row (point-wise)\n",
    "    distances = np.linalg.norm(X_train - x_new, axis=1)\n",
    "    \n",
    "    print(f\"\\nClassifying new point: {x_new}\")\n",
    "    print(f\"Calculated {len(distances)} distances to training points\")\n",
    "    \n",
    "    # STEP 2: Find the k nearest neighbors\n",
    "    # np.argsort() returns indices that would sort the array\n",
    "    # [:k] takes only the first k indices (smallest distances)\n",
    "    nearest_indices = np.argsort(distances)[:k]\n",
    "    \n",
    "    print(f\"Found {k} nearest neighbors at indices: {nearest_indices}\")\n",
    "    print(\"Neighbor details:\")\n",
    "    for i, idx in enumerate(nearest_indices):\n",
    "        print(f\"  Neighbor {i+1}: point {X_train[idx]}, class {y_train[idx]}, distance {distances[idx]:.3f}\")\n",
    "    \n",
    "    # STEP 3: Get the votes from k nearest neighbors\n",
    "    votes = y_train[nearest_indices]\n",
    "    \n",
    "    # STEP 4: Count votes for each class and pick majority\n",
    "    # np.bincount() counts occurrences of each integer value\n",
    "    # .argmax() returns the index of the maximum count (most votes)\n",
    "    vote_counts = np.bincount(votes)\n",
    "    predicted_label = vote_counts.argmax()\n",
    "    \n",
    "    print(f\"Vote counts: {vote_counts}\")\n",
    "    print(f\"Predicted class: {predicted_label}\")\n",
    "    \n",
    "    return predicted_label\n",
    "\n",
    "# STEP 3: Test our k-NN algorithm on new points\n",
    "\n",
    "# Choose k value (number of neighbors to consider)  \n",
    "k = 5\n",
    "print(f\"\\n\" + \"=\"*50)\n",
    "print(f\"TESTING k-NN ALGORITHM WITH k={k}\")\n",
    "print(\"=\"*50)\n",
    "\n",
    "# Create some test points to classify\n",
    "# These points are strategically chosen to show different scenarios:\n",
    "new_points = np.array([\n",
    "    [3.0, 3.2],  # Point between the two clusters\n",
    "    [2.2, 1.8],  # Point closer to Class 0 cluster  \n",
    "    [4.2, 5.0]   # Point closer to Class 1 cluster\n",
    "])\n",
    "\n",
    "print(f\"We will classify {len(new_points)} new test points:\")\n",
    "for i, point in enumerate(new_points):\n",
    "    print(f\"  Test point {i+1}: {point}\")\n",
    "\n",
    "# Make predictions for each new point\n",
    "print(f\"\\n\" + \"-\"*40)\n",
    "print(\"CLASSIFICATION RESULTS:\")\n",
    "print(\"-\"*40)\n",
    "\n",
    "predictions = []\n",
    "for i, point in enumerate(new_points):\n",
    "    print(f\"\\n--- CLASSIFYING TEST POINT {i+1}: {point} ---\")\n",
    "    prediction = knn_predict(X, y, point, k=k)\n",
    "    predictions.append(prediction)\n",
    "\n",
    "print(f\"\\n\" + \"=\"*50)\n",
    "print(\"FINAL SUMMARY:\")\n",
    "print(\"=\"*50)\n",
    "for i, (point, pred) in enumerate(zip(new_points, predictions)):\n",
    "    print(f\"Test point {i+1}: {point} → Class {pred}\")\n",
    "\n",
    "# STEP 4: Create a visualization to see the results\n",
    "\n",
    "# Set up the plot with a larger, clearer size\n",
    "plt.figure(figsize=(10, 8))\n",
    "\n",
    "# Plot the training data\n",
    "# Use different markers and colors to clearly distinguish classes\n",
    "plt.scatter(X0[:,0], X0[:,1], \n",
    "           marker='o',           # Circle markers for Class 0\n",
    "           c='lightblue',        # Light blue color\n",
    "           s=60,                 # Size of markers\n",
    "           edgecolors='blue',    # Border color\n",
    "           linewidth=1,          # Border width\n",
    "           label='Class 0 (Training)', \n",
    "           alpha=0.7)            # Slight transparency\n",
    "\n",
    "plt.scatter(X1[:,0], X1[:,1], \n",
    "           marker='s',           # Square markers for Class 1  \n",
    "           c='lightcoral',       # Light red color\n",
    "           s=60,                 # Size of markers\n",
    "           edgecolors='red',     # Border color\n",
    "           linewidth=1,          # Border width\n",
    "           label='Class 1 (Training)', \n",
    "           alpha=0.7)            # Slight transparency\n",
    "\n",
    "# Plot the new test points with their predicted colors\n",
    "colors = ['blue' if p == 0 else 'red' for p in predictions]\n",
    "plt.scatter(new_points[:,0], new_points[:,1], \n",
    "           marker='*',           # Star markers for test points\n",
    "           c=colors,             # Color based on prediction\n",
    "           s=150,                # Larger size to stand out\n",
    "           edgecolors='black',   # Black border\n",
    "           linewidth=2,          # Thick border\n",
    "           label='Test Points (Classified)')\n",
    "\n",
    "# Add labels for each test point showing the prediction\n",
    "for i, (point, pred) in enumerate(zip(new_points, predictions)):\n",
    "    plt.annotate(f'Test {i+1}\\nClass {pred}', \n",
    "                xy=point,                    # Position of the point\n",
    "                xytext=(10, 10),             # Offset for text\n",
    "                textcoords='offset points', \n",
    "                fontsize=10,\n",
    "                bbox=dict(boxstyle='round,pad=0.3', \n",
    "                         facecolor='yellow', \n",
    "                         alpha=0.7),\n",
    "                arrowprops=dict(arrowstyle='->', \n",
    "                              connectionstyle='arc3,rad=0'))\n",
    "\n",
    "# Formatting and labels\n",
    "plt.title(f\"k-NN Classification Results (k={k})\", fontsize=16, fontweight='bold')\n",
    "plt.xlabel(\"Feature 1 (x-coordinate)\", fontsize=12)\n",
    "plt.ylabel(\"Feature 2 (y-coordinate)\", fontsize=12)\n",
    "plt.legend(fontsize=11)\n",
    "plt.grid(True, alpha=0.3)\n",
    "\n",
    "# Add explanatory text\n",
    "plt.text(0.02, 0.98, \n",
    "         f'Algorithm: Find {k} nearest training points\\nand use majority vote to classify', \n",
    "         transform=plt.gca().transAxes,\n",
    "         fontsize=10,\n",
    "         verticalalignment='top',\n",
    "         bbox=dict(boxstyle='round', facecolor='lightgray', alpha=0.8))\n",
    "\n",
    "plt.tight_layout()\n",
    "plt.show()\n",
    "\n",
    "# STEP 5: Educational insights about the results\n",
    "print(f\"\\n\" + \"=\"*60)\n",
    "print(\"UNDERSTANDING THE RESULTS:\")\n",
    "print(\"=\"*60)\n",
    "print(f\"• k-NN with k={k} looks at the {k} closest training points\")\n",
    "print(f\"• It uses 'majority vote' - whichever class has more neighbors wins\")\n",
    "print(f\"• Points closer to a cluster get classified as that cluster's class\")\n",
    "print(f\"• The algorithm is 'lazy' - it does no training, just stores data\")\n",
    "print(f\"• Distance matters: closer points have more influence\")\n",
    "\n",
    "print(f\"\\nWhat happens if we change k?\")\n",
    "print(f\"• Smaller k (like k=1): More sensitive to individual points, might be noisy\")\n",
    "print(f\"• Larger k (like k=11): Smoother decisions, but might blur class boundaries\")\n",
    "print(f\"• k should be odd to avoid ties in voting\")\n",
    "print(f\"• Best k is usually found through experimentation and validation\")\n"
   ]
  },
  {
   "cell_type": "markdown",
   "id": "6671b6b8",
   "metadata": {},
   "source": [
    "**Figure 6.3.1**: k-NN Classification Visualization. This plot demonstrates how the k-Nearest Neighbors algorithm classifies new data points. The scattered points show our training dataset with two distinct classes: Class 0 (light blue circles) clustered around coordinates (2,2) and Class 1 (light coral squares) clustered around coordinates (4.5,4.5). Three test points (marked with black-bordered stars) are classified using k=5 nearest neighbors:\n",
    "\n",
    "- **Test Point 1** (3.0, 3.2): Located between the two clusters, classified as Class 0 (blue star) because it's closer to the Class 0 training points\n",
    "- **Test Point 2** (2.2, 1.8): Near the Class 0 cluster, correctly classified as Class 0 \n",
    "- **Test Point 3** (4.2, 5.0): Near the Class 1 cluster, classified as Class 1 (red star)\n",
    "\n",
    "Each test point is annotated with its classification result. The algorithm works by finding the k=5 closest training points to each test point and using majority voting among these neighbors to determine the final classification. The visualization clearly shows how spatial proximity in the feature space determines class membership in k-NN classification, with the decision boundary implicitly defined by the relative positions of training examples from different classes."
   ]
  },
  {
   "cell_type": "markdown",
   "id": "924f9aab",
   "metadata": {},
   "source": [
    "#### **6.3.2: Choosing k (Bias–Variance Intuition)**\n"
   ]
  },
  {
   "cell_type": "markdown",
   "id": "dc39464d",
   "metadata": {},
   "source": [
    "\n",
    "- Small **k** → flexible but noisy (can overfit).\n",
    "- Large **k** → stable but may blur class boundaries (can underfit).\n",
    "\n",
    "Try a few values and pick what generalizes best on validation data."
   ]
  },
  {
   "cell_type": "code",
   "execution_count": 11,
   "id": "2d98b7c3",
   "metadata": {},
   "outputs": [
    {
     "name": "stdout",
     "output_type": "stream",
     "text": [
      "k=1: val accuracy=1.00\n",
      "k=3: val accuracy=1.00\n",
      "k=5: val accuracy=1.00\n",
      "k=7: val accuracy=1.00\n",
      "k=9: val accuracy=1.00\n",
      "k=11: val accuracy=1.00\n"
     ]
    }
   ],
   "source": [
    "\n",
    "# Tiny validation sweep for k\n",
    "import numpy as np\n",
    "\n",
    "np.random.seed(1)\n",
    "X0 = np.random.normal(loc=[2,2], scale=0.6, size=(30,2))\n",
    "X1 = np.random.normal(loc=[4.5,4.5], scale=0.6, size=(30,2))\n",
    "X = np.vstack([X0, X1])\n",
    "y = np.array([0]*len(X0) + [1]*len(X1))\n",
    "\n",
    "# Hold out 20% for validation\n",
    "idx = np.arange(len(X))\n",
    "np.random.shuffle(idx)\n",
    "split = int(0.8*len(X))\n",
    "train_idx, val_idx = idx[:split], idx[split:]\n",
    "Xtr, ytr = X[train_idx], y[train_idx]\n",
    "Xval, yval = X[val_idx], y[val_idx]\n",
    "\n",
    "def knn_predict_batch(Xtr, ytr, Xte, k):\n",
    "    preds = []\n",
    "    for p in Xte:\n",
    "        d = np.linalg.norm(Xtr - p, axis=1)\n",
    "        idx = np.argsort(d)[:k]\n",
    "        label = np.bincount(ytr[idx]).argmax()\n",
    "        preds.append(label)\n",
    "    return np.array(preds)\n",
    "\n",
    "for k in [1,3,5,7,9,11]:\n",
    "    yh = knn_predict_batch(Xtr, ytr, Xval, k)\n",
    "    acc = (yh == yval).mean()\n",
    "    print(f\"k={k}: val accuracy={acc:.2f}\")\n"
   ]
  },
  {
   "cell_type": "markdown",
   "id": "a3827f72",
   "metadata": {},
   "source": [
    "### **6.4: Clustering (Let the Data Group Itself)**"
   ]
  },
  {
   "cell_type": "markdown",
   "id": "45f55f6c",
   "metadata": {},
   "source": [
    "Clustering discovers **natural groupings** without labels. It’s perfect when you want segments, cohorts, or patterns you didn’t anticipate.\n"
   ]
  },
  {
   "cell_type": "markdown",
   "id": "af8ad9f3",
   "metadata": {},
   "source": [
    "\n",
    "#### **6.4.1: k-Means (Fast & Intuitive)**\n",
    "\n",
    "k-Means alternates between assigning points to the nearest center and updating centers as the mean of assigned points.\n"
   ]
  },
  {
   "cell_type": "code",
   "execution_count": null,
   "id": "18139bab",
   "metadata": {},
   "outputs": [],
   "source": [
    "\n",
    "# k-means from scratch (simple implementation) + visualization\n",
    "import numpy as np\n",
    "import matplotlib.pyplot as plt\n",
    "\n",
    "np.random.seed(7)\n",
    "X = np.vstack([\n",
    "    np.random.normal([2,2], 0.5, size=(50,2)),\n",
    "    np.random.normal([5,2], 0.5, size=(50,2)),\n",
    "    np.random.normal([3.5,4.5], 0.5, size=(50,2))\n",
    "])\n",
    "\n",
    "def kmeans(X, k=3, iters=15):\n",
    "    # initialize centers by sampling k points\n",
    "    idx = np.random.choice(len(X), size=k, replace=False)\n",
    "    C = X[idx].copy()\n",
    "    for _ in range(iters):\n",
    "        # assign\n",
    "        dists = np.sqrt(((X[:,None,:] - C[None,:,:])**2).sum(axis=2))\n",
    "        labels = dists.argmin(axis=1)\n",
    "        # update\n",
    "        for j in range(k):\n",
    "            pj = X[labels==j]\n",
    "            if len(pj) > 0:\n",
    "                C[j] = pj.mean(axis=0)\n",
    "    return labels, C\n",
    "\n",
    "labels, centers = kmeans(X, k=3, iters=20)\n",
    "print(\"Cluster centers:\\n\", np.round(centers, 2))\n",
    "\n",
    "# Visualize\n",
    "plt.figure(figsize=(5,4))\n",
    "plt.scatter(X[:,0], X[:,1], c=labels)  # matplotlib will choose default colormap\n",
    "plt.scatter(centers[:,0], centers[:,1], marker='*', s=200)\n",
    "plt.title(\"k-Means clustering (k=3)\")\n",
    "plt.xlabel(\"x1\"); plt.ylabel(\"x2\")\n",
    "plt.show()\n"
   ]
  },
  {
   "cell_type": "markdown",
   "id": "769b487d",
   "metadata": {},
   "source": [
    "\n",
    "#### **6.4.2: Hierarchical Clustering (Build a Tree of Groups)**\n",
    "\n",
    "Hierarchical methods build a **dendrogram** (tree) showing how observations merge as similarity increases. Use it when you want **multi-scale** structure or don’t know `k` in advance.\n"
   ]
  },
  {
   "cell_type": "code",
   "execution_count": null,
   "id": "a6fb270f",
   "metadata": {},
   "outputs": [],
   "source": [
    "\n",
    "# Simple hierarchical-like merge distances (toy illustration, not a full dendrogram)\n",
    "import numpy as np\n",
    "\n",
    "X = np.array([[0.0,0.0],[0.1,0.2],[1.0,1.1],[3.0,3.1],[3.2,3.0]])\n",
    "def pairwise_dist(X):\n",
    "    n = len(X)\n",
    "    D = np.zeros((n,n))\n",
    "    for i in range(n):\n",
    "        for j in range(i+1,n):\n",
    "            d = np.linalg.norm(X[i]-X[j])\n",
    "            D[i,j] = D[j,i] = d\n",
    "    return D\n",
    "\n",
    "D = pairwise_dist(X)\n",
    "print(\"Pairwise distances:\\n\", np.round(D,2))\n",
    "print(\"\\nSmallest merge candidates (by distance):\")\n",
    "pairs = []\n",
    "for i in range(len(X)):\n",
    "    for j in range(i+1, len(X)):\n",
    "        pairs.append(((i,j), D[i,j]))\n",
    "pairs.sort(key=lambda t: t[1])\n",
    "for (i,j), d in pairs:\n",
    "    print(f\"merge {i} & {j} at distance {d:.2f}\")\n"
   ]
  },
  {
   "cell_type": "markdown",
   "id": "f1d6dcb4",
   "metadata": {},
   "source": [
    "\n",
    "#### **6.4.3: Density Ideas (DBSCAN Intuition)**\n",
    "\n",
    "Density clustering groups points that have **enough neighbors nearby**. It can discover **arbitrary shapes** and flag **noise** without specifying `k`.\n"
   ]
  },
  {
   "cell_type": "code",
   "execution_count": null,
   "id": "350bf974",
   "metadata": {},
   "outputs": [],
   "source": [
    "\n",
    "# Naive density labeling: points with at least min_pts neighbors within eps are \"core\"\n",
    "import numpy as np\n",
    "\n",
    "np.random.seed(0)\n",
    "A = np.random.normal([2,2], 0.25, size=(60,2))\n",
    "B = np.random.normal([4,2], 0.25, size=(60,2))\n",
    "noise = np.random.uniform(low=0, high=6, size=(15,2))\n",
    "X = np.vstack([A,B,noise])\n",
    "\n",
    "eps = 0.35\n",
    "min_pts = 5\n",
    "\n",
    "def neighbors(i):\n",
    "    d = np.linalg.norm(X - X[i], axis=1)\n",
    "    return np.where(d <= eps)[0]\n",
    "\n",
    "labels = np.full(len(X), -1)  # -1 = noise by default\n",
    "for i in range(len(X)):\n",
    "    if len(neighbors(i)) >= min_pts:\n",
    "        labels[i] = 1  # core\n",
    "    else:\n",
    "        labels[i] = 0  # non-core (may be border/noise in real DBSCAN)\n",
    "\n",
    "import matplotlib.pyplot as plt\n",
    "plt.figure(figsize=(5,4))\n",
    "plt.scatter(X[:,0], X[:,1], c=labels)\n",
    "plt.title(\"Density intuition demo (naive)\")\n",
    "plt.xlabel(\"x1\"); plt.ylabel(\"x2\")\n",
    "plt.show()\n"
   ]
  },
  {
   "cell_type": "markdown",
   "id": "8a1e5b91",
   "metadata": {},
   "source": [
    "\n",
    "### **6.5: Your Turn (Make It Yours)**"
   ]
  },
  {
   "cell_type": "markdown",
   "id": "b0e4d75b",
   "metadata": {},
   "source": [
    "- Change a parameter. What happens?\n",
    "- Add a feature. Does distance still “feel” right?\n",
    "- Try a different distance (Manhattan, Minkowski). When does it win?\n",
    "\n",
    "**Coding is not about memorizing—it's about *playing with ideas* until they click.**\n"
   ]
  },
  {
   "cell_type": "markdown",
   "id": "1467da90",
   "metadata": {},
   "source": [
    "## 🚀 Chapter 7: Intro to Predictive Modeling\n"
   ]
  },
  {
   "cell_type": "markdown",
   "id": "df84d793",
   "metadata": {},
   "source": [
    "### **7.1 Introduction**"
   ]
  },
  {
   "cell_type": "markdown",
   "id": "10aa257a",
   "metadata": {},
   "source": [
    "\n",
    "Predictive modeling uses patterns learned from historical data to **predict** an unknown outcome for new cases. In practice, we often balance two goals:\n",
    "\n",
    "- **Prediction:** Achieve the lowest generalization error on new, unseen data.  \n",
    "- **Interpretation:** Understand how inputs relate to the target (e.g., the direction and magnitude of effects).\n",
    "\n",
    "These goals can align—but not always. Highly flexible models (e.g., ensembles) may predict very well while being less interpretable; simpler models (e.g., linear regression with a few variables) are easier to explain but might leave accuracy on the table.\n",
    "\n",
    "We’ll use small, synthetic datasets so results run quickly and remain transparent.\n"
   ]
  },
  {
   "cell_type": "markdown",
   "id": "cae0c17e",
   "metadata": {},
   "source": [
    "### **7.1.1 Setup & Utilities**\n"
   ]
  },
  {
   "cell_type": "markdown",
   "id": "7fd1d92e",
   "metadata": {},
   "source": [
    "\n",
    "We’ll import core libraries and define helpers for clean output and repeatable experiments.\n"
   ]
  },
  {
   "cell_type": "code",
   "execution_count": 16,
   "id": "99417e97",
   "metadata": {},
   "outputs": [],
   "source": [
    "# Core Python & ML libraries\n",
    "import numpy as np\n",
    "import pandas as pd\n",
    "import matplotlib.pyplot as plt\n",
    "\n",
    "from sklearn.model_selection import train_test_split, GridSearchCV\n",
    "from sklearn.preprocessing import StandardScaler\n",
    "from sklearn.pipeline import Pipeline\n",
    "from sklearn.metrics import (confusion_matrix, classification_report, roc_auc_score, \n",
    "                             RocCurveDisplay, mean_squared_error, mean_absolute_error, r2_score)\n",
    "from sklearn.linear_model import LinearRegression, LogisticRegression\n",
    "from sklearn.neighbors import KNeighborsClassifier\n",
    "from sklearn.ensemble import RandomForestClassifier, GradientBoostingClassifier\n",
    "\n",
    "np.random.seed(42)  # for reproducibility\n"
   ]
  },
  {
   "cell_type": "markdown",
   "id": "4e9f87e6",
   "metadata": {},
   "source": [
    "**NOTE:** If you get a `module not found` error, run `pip install numpy pandas scikit-learn matplotlib` through a code cell in your notebook."
   ]
  },
  {
   "cell_type": "markdown",
   "id": "a7919e5b",
   "metadata": {},
   "source": [
    "### **7.2 Prediction vs. Interpretation**"
   ]
  },
  {
   "cell_type": "markdown",
   "id": "21ac2e4c",
   "metadata": {},
   "source": [
    "\n",
    "\n",
    "**Scenario:** Suppose we want to predict whether a student will pass a course (1) or not (0) from study behavior and prior GPA. We’ll compare a **simple, interpretable** logistic regression to a **more flexible** model.\n",
    "\n",
    "Key ideas:  \n",
    "- **Interpretation:** Coefficients from logistic regression approximate log‑odds effects for each variable.  \n",
    "- **Prediction:** We compare models using hold‑out performance (accuracy, ROC AUC)."
   ]
  },
  {
   "cell_type": "code",
   "execution_count": 17,
   "id": "94fc9b93",
   "metadata": {},
   "outputs": [
    {
     "name": "stdout",
     "output_type": "stream",
     "text": [
      "=== Logistic Regression ===\n",
      "Accuracy: 0.98\n",
      "ROC AUC : 0.662\n",
      "\n",
      "Confusion Matrix\n",
      " [[  0   3]\n",
      " [  0 147]]\n",
      "\n",
      "Classification Report\n",
      "               precision    recall  f1-score   support\n",
      "\n",
      "           0       0.00      0.00      0.00         3\n",
      "           1       0.98      1.00      0.99       147\n",
      "\n",
      "    accuracy                           0.98       150\n",
      "   macro avg       0.49      0.50      0.49       150\n",
      "weighted avg       0.96      0.98      0.97       150\n",
      "\n",
      "=== Gradient Boosting ===\n",
      "Accuracy: 0.98\n",
      "ROC AUC : 0.548\n",
      "\n",
      "Confusion Matrix\n",
      " [[  0   3]\n",
      " [  0 147]]\n",
      "\n",
      "Classification Report\n",
      "               precision    recall  f1-score   support\n",
      "\n",
      "           0       0.00      0.00      0.00         3\n",
      "           1       0.98      1.00      0.99       147\n",
      "\n",
      "    accuracy                           0.98       150\n",
      "   macro avg       0.49      0.50      0.49       150\n",
      "weighted avg       0.96      0.98      0.97       150\n",
      "\n"
     ]
    },
    {
     "name": "stderr",
     "output_type": "stream",
     "text": [
      "c:\\Users\\bdupey\\AppData\\Local\\anaconda3\\Lib\\site-packages\\sklearn\\metrics\\_classification.py:1565: UndefinedMetricWarning: Precision is ill-defined and being set to 0.0 in labels with no predicted samples. Use `zero_division` parameter to control this behavior.\n",
      "  _warn_prf(average, modifier, f\"{metric.capitalize()} is\", len(result))\n",
      "c:\\Users\\bdupey\\AppData\\Local\\anaconda3\\Lib\\site-packages\\sklearn\\metrics\\_classification.py:1565: UndefinedMetricWarning: Precision is ill-defined and being set to 0.0 in labels with no predicted samples. Use `zero_division` parameter to control this behavior.\n",
      "  _warn_prf(average, modifier, f\"{metric.capitalize()} is\", len(result))\n",
      "c:\\Users\\bdupey\\AppData\\Local\\anaconda3\\Lib\\site-packages\\sklearn\\metrics\\_classification.py:1565: UndefinedMetricWarning: Precision is ill-defined and being set to 0.0 in labels with no predicted samples. Use `zero_division` parameter to control this behavior.\n",
      "  _warn_prf(average, modifier, f\"{metric.capitalize()} is\", len(result))\n",
      "c:\\Users\\bdupey\\AppData\\Local\\anaconda3\\Lib\\site-packages\\sklearn\\metrics\\_classification.py:1565: UndefinedMetricWarning: Precision is ill-defined and being set to 0.0 in labels with no predicted samples. Use `zero_division` parameter to control this behavior.\n",
      "  _warn_prf(average, modifier, f\"{metric.capitalize()} is\", len(result))\n",
      "c:\\Users\\bdupey\\AppData\\Local\\anaconda3\\Lib\\site-packages\\sklearn\\metrics\\_classification.py:1565: UndefinedMetricWarning: Precision is ill-defined and being set to 0.0 in labels with no predicted samples. Use `zero_division` parameter to control this behavior.\n",
      "  _warn_prf(average, modifier, f\"{metric.capitalize()} is\", len(result))\n",
      "c:\\Users\\bdupey\\AppData\\Local\\anaconda3\\Lib\\site-packages\\sklearn\\metrics\\_classification.py:1565: UndefinedMetricWarning: Precision is ill-defined and being set to 0.0 in labels with no predicted samples. Use `zero_division` parameter to control this behavior.\n",
      "  _warn_prf(average, modifier, f\"{metric.capitalize()} is\", len(result))\n"
     ]
    },
    {
     "data": {
      "image/png": "[encoded data removed]",
      "text/plain": [
       "<Figure size 640x480 with 1 Axes>"
      ]
     },
     "metadata": {},
     "output_type": "display_data"
    },
    {
     "data": {
      "image/png": "[encoded data removed]",
      "text/plain": [
       "<Figure size 640x480 with 1 Axes>"
      ]
     },
     "metadata": {},
     "output_type": "display_data"
    },
    {
     "data": {
      "application/vnd.microsoft.datawrangler.viewer.v0+json": {
       "columns": [
        {
         "name": "index",
         "rawType": "int64",
         "type": "integer"
        },
        {
         "name": "feature",
         "rawType": "object",
         "type": "string"
        },
        {
         "name": "coef (log-odds)",
         "rawType": "float64",
         "type": "float"
        }
       ],
       "ref": "a5f5c037-b46e-4e75-b2a0-0607482adf50",
       "rows": [
        [
         "0",
         "study_hours",
         "1.239446237354318"
        ],
        [
         "2",
         "prior_gpa",
         "0.14783825391892674"
        ],
        [
         "1",
         "attendance",
         "0.016701697133590432"
        ]
       ],
       "shape": {
        "columns": 2,
        "rows": 3
       }
      },
      "text/html": [
       "<div>\n",
       "<style scoped>\n",
       "    .dataframe tbody tr th:only-of-type {\n",
       "        vertical-align: middle;\n",
       "    }\n",
       "\n",
       "    .dataframe tbody tr th {\n",
       "        vertical-align: top;\n",
       "    }\n",
       "\n",
       "    .dataframe thead th {\n",
       "        text-align: right;\n",
       "    }\n",
       "</style>\n",
       "<table border=\"1\" class=\"dataframe\">\n",
       "  <thead>\n",
       "    <tr style=\"text-align: right;\">\n",
       "      <th></th>\n",
       "      <th>feature</th>\n",
       "      <th>coef (log-odds)</th>\n",
       "    </tr>\n",
       "  </thead>\n",
       "  <tbody>\n",
       "    <tr>\n",
       "      <th>0</th>\n",
       "      <td>study_hours</td>\n",
       "      <td>1.239446</td>\n",
       "    </tr>\n",
       "    <tr>\n",
       "      <th>2</th>\n",
       "      <td>prior_gpa</td>\n",
       "      <td>0.147838</td>\n",
       "    </tr>\n",
       "    <tr>\n",
       "      <th>1</th>\n",
       "      <td>attendance</td>\n",
       "      <td>0.016702</td>\n",
       "    </tr>\n",
       "  </tbody>\n",
       "</table>\n",
       "</div>"
      ],
      "text/plain": [
       "       feature  coef (log-odds)\n",
       "0  study_hours         1.239446\n",
       "2    prior_gpa         0.147838\n",
       "1   attendance         0.016702"
      ]
     },
     "execution_count": 17,
     "metadata": {},
     "output_type": "execute_result"
    }
   ],
   "source": [
    "# Create a small, semi-realistic classification dataset\n",
    "n = 600\n",
    "study_hours = np.random.gamma(shape=2.0, scale=2.0, size=n)            # skewed positive\n",
    "attendance   = np.clip(np.random.normal(loc=0.85, scale=0.1, size=n), 0, 1)\n",
    "prior_gpa    = np.clip(np.random.normal(loc=3.0, scale=0.4, size=n), 0, 4)\n",
    "\n",
    "# True underlying relationship (nonlinear-ish for realism)\n",
    "logit = -2.0 + 0.5*study_hours + 2.2*attendance + 0.8*prior_gpa + 0.2*(study_hours*attendance)\n",
    "p = 1 / (1 + np.exp(-logit))\n",
    "y = (np.random.rand(n) < p).astype(int)\n",
    "\n",
    "X = pd.DataFrame({\n",
    "    \"study_hours\": study_hours,\n",
    "    \"attendance\": attendance,\n",
    "    \"prior_gpa\": prior_gpa\n",
    "})\n",
    "\n",
    "X_train, X_test, y_train, y_test = train_test_split(X, y, test_size=0.25, stratify=y, random_state=42)\n",
    "\n",
    "# Model 1: Interpretable - Logistic Regression (with standardization)\n",
    "log_reg = Pipeline([\n",
    "    (\"scaler\", StandardScaler()),\n",
    "    (\"clf\", LogisticRegression(max_iter=500))\n",
    "])\n",
    "log_reg.fit(X_train, y_train)\n",
    "\n",
    "# Model 2: Flexible - Gradient Boosting\n",
    "gboost = GradientBoostingClassifier(random_state=42)\n",
    "gboost.fit(X_train, y_train)\n",
    "\n",
    "# Evaluate both\n",
    "def evaluate_classifier(name, model):\n",
    "    preds = model.predict(X_test)\n",
    "    probs = model.predict_proba(X_test)[:, 1]\n",
    "    print(f\"=== {name} ===\")\n",
    "    print(\"Accuracy:\", (preds == y_test).mean().round(3))\n",
    "    print(\"ROC AUC :\", roc_auc_score(y_test, probs).round(3))\n",
    "    print(\"\\nConfusion Matrix\\n\", confusion_matrix(y_test, preds))\n",
    "    print(\"\\nClassification Report\\n\", classification_report(y_test, preds))\n",
    "\n",
    "evaluate_classifier(\"Logistic Regression\", log_reg)\n",
    "evaluate_classifier(\"Gradient Boosting\", gboost)\n",
    "\n",
    "# Visualize ROC curves\n",
    "RocCurveDisplay.from_estimator(log_reg, X_test, y_test)\n",
    "plt.title(\"ROC Curve: Logistic Regression\")\n",
    "plt.show()\n",
    "\n",
    "RocCurveDisplay.from_estimator(gboost, X_test, y_test)\n",
    "plt.title(\"ROC Curve: Gradient Boosting\")\n",
    "plt.show()\n",
    "\n",
    "# Inspect coefficients (interpretation) for logistic regression\n",
    "coef = log_reg.named_steps[\"clf\"].coef_[0]\n",
    "features = X.columns\n",
    "pd.DataFrame({\"feature\": features, \"coef (log-odds)\": coef}).sort_values(\"coef (log-odds)\", ascending=False)\n"
   ]
  },
  {
   "cell_type": "markdown",
   "id": "021ba771",
   "metadata": {},
   "source": [
    "**What the code does:**  \n",
    "1. **Creates data** with three features and a nonlinear signal to mimic real behavior.  \n",
    "2. **Splits data** into training/testing to measure generalization.  \n",
    "3. Trains an **interpretable** model (logistic regression) and a **flexible** model (gradient boosting).  \n",
    "4. **Evaluates** each using **accuracy**, **ROC AUC**, a **confusion matrix**, and a **classification report**.  \n",
    "5. **Plots** ROC curves.  \n",
    "6. Shows **logistic regression coefficients** to interpret feature effects on log‑odds.\n"
   ]
  },
  {
   "cell_type": "markdown",
   "id": "b4a822e3",
   "metadata": {},
   "source": [
    "### **7.3 Variable Selection**"
   ]
  },
  {
   "cell_type": "markdown",
   "id": "7ab724a7",
   "metadata": {},
   "source": [
    "We often face many candidate predictors. Including everything can:  \n",
    "- Increase **variance** (overfitting),  \n",
    "- Reduce **interpretability**, and  \n",
    "- Increase **computational cost**.\n",
    "\n",
    "Approaches include **subset selection** (choose a subset explicitly) and **regularization** (shrink less important coefficients toward zero). Below, we illustrate **subset selection** by grid‑searching simple combinations with logistic regression. (For larger problems, use L1 regularization or model‑based importances.)"
   ]
  },
  {
   "cell_type": "code",
   "execution_count": null,
   "id": "1f3f05bc",
   "metadata": {},
   "outputs": [],
   "source": [
    "# Simple subset selection demonstration with logistic regression\n",
    "from itertools import combinations\n",
    "\n",
    "features = list(X_train.columns)\n",
    "results = []\n",
    "\n",
    "for k in range(1, len(features)+1):\n",
    "    for subset in combinations(features, k):\n",
    "        sub_cols = list(subset)\n",
    "        model = Pipeline([\n",
    "            (\"scaler\", StandardScaler()),\n",
    "            (\"clf\", LogisticRegression(max_iter=500))\n",
    "        ])\n",
    "        model.fit(X_train[sub_cols], y_train)\n",
    "        probs = model.predict_proba(X_test[sub_cols])[:, 1]\n",
    "        auc = roc_auc_score(y_test, probs)\n",
    "        results.append({\"k\": k, \"subset\": sub_cols, \"ROC AUC\": auc})\n",
    "\n",
    "sel_df = pd.DataFrame(results).sort_values([\"ROC AUC\",\"k\"], ascending=[False, True]).reset_index(drop=True)\n",
    "sel_df.head(10)\n"
   ]
  },
  {
   "cell_type": "markdown",
   "id": "608f246e",
   "metadata": {},
   "source": [
    "**What the code does:**  \n",
    "- Enumerates **all subsets** of features and evaluates ROC AUC on the test set.  \n",
    "- Reports the **best‑scoring subsets**, illustrating the bias‑variance trade‑off (small subsets may generalize better than noisy larger sets).\n",
    "\n",
    "> Note: In real projects, nested cross‑validation avoids using the test set during selection. We keep it lightweight here for clarity.\n"
   ]
  },
  {
   "cell_type": "markdown",
   "id": "4c0a3044",
   "metadata": {},
   "source": [
    "### **7.4 Model Evaluation**"
   ]
  },
  {
   "cell_type": "markdown",
   "id": "b8b4ac03",
   "metadata": {},
   "source": [
    "Using the **right metric** matters.  \n",
    "- **Classification:** Accuracy, Precision, Recall, F1, ROC AUC.  \n",
    "- **Regression:** MSE / RMSE, MAE, R².\n",
    "\n",
    "We’ll build a tiny regression example to compare metrics and visualize residuals.\n"
   ]
  },
  {
   "cell_type": "code",
   "execution_count": null,
   "id": "ae039a9e",
   "metadata": {},
   "outputs": [],
   "source": [
    "# Tiny regression example\n",
    "m = 400\n",
    "x1 = np.random.normal(0, 1, size=m)\n",
    "x2 = np.random.normal(0, 1, size=m)\n",
    "noise = np.random.normal(0, 0.7, size=m)\n",
    "y_reg = 3.0 + 1.8*x1 - 0.6*x2 + noise\n",
    "\n",
    "Xr = pd.DataFrame({\"x1\": x1, \"x2\": x2})\n",
    "Xr_train, Xr_test, yr_train, yr_test = train_test_split(Xr, y_reg, test_size=0.25, random_state=42)\n",
    "\n",
    "lin = LinearRegression()\n",
    "lin.fit(Xr_train, yr_train)\n",
    "\n",
    "yr_pred = lin.predict(Xr_test)\n",
    "mse = mean_squared_error(yr_test, yr_pred)\n",
    "rmse = np.sqrt(mse)\n",
    "mae = mean_absolute_error(yr_test, yr_pred)\n",
    "r2 = r2_score(yr_test, yr_pred)\n",
    "\n",
    "print(\"MSE :\", round(mse, 3))\n",
    "print(\"RMSE:\", round(rmse, 3))\n",
    "print(\"MAE :\", round(mae, 3))\n",
    "print(\"R^2 :\", round(r2, 3))\n",
    "\n",
    "# Residual plot\n",
    "resid = yr_test - yr_pred\n",
    "plt.scatter(yr_pred, resid)\n",
    "plt.axhline(0)\n",
    "plt.xlabel(\"Predicted\")\n",
    "plt.ylabel(\"Residuals\")\n",
    "plt.title(\"Residuals vs. Predicted\")\n",
    "plt.show()\n",
    "\n",
    "# Coefficients (interpretation)\n",
    "pd.DataFrame({\"feature\": [\"intercept\", \"x1\", \"x2\"],\n",
    "             \"coefficient\": [lin.intercept_, *lin.coef_]})\n"
   ]
  },
  {
   "cell_type": "markdown",
   "id": "2c226ed9",
   "metadata": {},
   "source": [
    "**What the code does:**  \n",
    "- Simulates a linear regression problem with noise.  \n",
    "- Trains **linear regression** and computes **MSE**, **RMSE**, **MAE**, **R²**.  \n",
    "- Plots **residuals** to check basic assumptions (random scatter around zero is desirable).  \n",
    "- Prints **coefficients** to understand the learned linear relationship.\n"
   ]
  },
  {
   "cell_type": "markdown",
   "id": "9939ae19",
   "metadata": {},
   "source": [
    "### **7.5 Hyperparameter Tuning**"
   ]
  },
  {
   "cell_type": "markdown",
   "id": "9a59d920",
   "metadata": {},
   "source": [
    "\n",
    "\n",
    "Hyperparameters control model capacity and behavior (e.g., number of neighbors in k‑NN). We search over candidate values using **cross‑validation** on the training data and keep the test set completely separate until the end.\n",
    "\n",
    "We’ll tune **k‑NN**, **Random Forest**, and **Gradient Boosting** on the student classification task.\n"
   ]
  },
  {
   "cell_type": "code",
   "execution_count": null,
   "id": "8f79029a",
   "metadata": {},
   "outputs": [],
   "source": [
    "# Helper to run a GridSearchCV and report best results quickly\n",
    "def tune_and_report(name, estimator, param_grid, Xtr, ytr, Xte, yte):\n",
    "    print(f\"\\n=== Tuning: {name} ===\")\n",
    "    gs = GridSearchCV(estimator, param_grid, cv=5, scoring=\"roc_auc\", n_jobs=None)\n",
    "    gs.fit(Xtr, ytr)\n",
    "    best = gs.best_estimator_\n",
    "    probs = best.predict_proba(Xte)[:, 1]\n",
    "    print(\"Best params:\", gs.best_params_)\n",
    "    print(\"CV best ROC AUC:\", round(gs.best_score_, 3))\n",
    "    print(\"Test ROC AUC   :\", round(roc_auc_score(yte, probs), 3))\n",
    "    return best\n",
    "\n",
    "# 7.5.1 k-NN (with scaling)\n",
    "knn_pipe = Pipeline([\n",
    "    (\"scaler\", StandardScaler()),\n",
    "    (\"knn\", KNeighborsClassifier())\n",
    "])\n",
    "knn_params = {\"knn__n_neighbors\": [3, 5, 7, 11, 15]}\n",
    "best_knn = tune_and_report(\"k-NN\", knn_pipe, knn_params, X_train, y_train, X_test, y_test)\n",
    "\n",
    "# 7.5.2 Random Forest\n",
    "rf = RandomForestClassifier(random_state=42)\n",
    "rf_params = {\n",
    "    \"n_estimators\": [100, 200],\n",
    "    \"max_depth\": [None, 5, 10],\n",
    "    \"min_samples_split\": [2, 10]\n",
    "}\n",
    "best_rf = tune_and_report(\"Random Forest\", rf, rf_params, X_train, y_train, X_test, y_test)\n",
    "\n",
    "# 7.5.3 Gradient Boosting\n",
    "gb = GradientBoostingClassifier(random_state=42)\n",
    "gb_params = {\n",
    "    \"n_estimators\": [100, 200],\n",
    "    \"learning_rate\": [0.05, 0.1],\n",
    "    \"max_depth\": [2, 3]\n",
    "}\n",
    "best_gb = tune_and_report(\"Gradient Boosting\", gb, gb_params, X_train, y_train, X_test, y_test)\n"
   ]
  },
  {
   "cell_type": "markdown",
   "id": "2edb9ff1",
   "metadata": {},
   "source": [
    "**What the code does:**  \n",
    "- Uses **GridSearchCV** to evaluate hyperparameter combinations with **5‑fold CV** on the training data.  \n",
    "- Reports **best parameters**, **CV AUC**, and **test AUC** for **k‑NN**, **Random Forest**, and **Gradient Boosting**.\n"
   ]
  },
  {
   "cell_type": "markdown",
   "id": "3d058dd9",
   "metadata": {},
   "source": [
    "### **7.6 Putting It All Together**"
   ]
  },
  {
   "cell_type": "markdown",
   "id": "51abedb1",
   "metadata": {},
   "source": [
    "\n",
    "\n",
    "A practical workflow:  \n",
    "1. **Frame the question** (prediction vs interpretation?).  \n",
    "2. **Explore the data** (distributions, leakage checks, train/test split).  \n",
    "3. **Baseline** with simple, interpretable models.  \n",
    "4. **Tune** flexible models to reduce error.  \n",
    "5. **Evaluate** with the right metrics; inspect errors (confusions, residuals).  \n",
    "6. **Communicate** both results **and** limitations.\n",
    "\n",
    "Below is a compact pipeline you can reuse for new datasets.\n"
   ]
  },
  {
   "cell_type": "code",
   "execution_count": null,
   "id": "f673e073",
   "metadata": {},
   "outputs": [],
   "source": [
    "# Reusable training & evaluation template for classification\n",
    "def quick_classification_experiment(X, y, model, test_size=0.2, random_state=42):\n",
    "    Xtr, Xte, ytr, yte = train_test_split(X, y, test_size=test_size, stratify=y, random_state=random_state)\n",
    "    model.fit(Xtr, ytr)\n",
    "    preds = model.predict(Xte)\n",
    "    probs = model.predict_proba(Xte)[:, 1]\n",
    "    print(\"Accuracy:\", (preds == yte).mean().round(3))\n",
    "    print(\"ROC AUC :\", roc_auc_score(yte, probs).round(3))\n",
    "    print(\"\\nConfusion Matrix\\n\", confusion_matrix(yte, preds))\n",
    "    RocCurveDisplay.from_estimator(model, Xte, yte)\n",
    "    plt.title(\"ROC Curve\")\n",
    "    plt.show()\n",
    "    return model\n",
    "\n",
    "# Example reuse: try tuned Gradient Boosting on the student dataset\n",
    "_ = quick_classification_experiment(X, y, best_gb)\n"
   ]
  },
  {
   "cell_type": "markdown",
   "id": "8e097f6e",
   "metadata": {},
   "source": [
    "### **7.7 Key Takeaways**"
   ]
  },
  {
   "cell_type": "markdown",
   "id": "610c926e",
   "metadata": {},
   "source": [
    "\n",
    "\n",
    "- **Match the tool to the goal:** clear prediction targets require strong validation; interpretability needs simpler models or post‑hoc explanations.  \n",
    "- **Select variables thoughtfully:** manage bias–variance and avoid leakage.  \n",
    "- **Measure what matters:** classification ≠ regression—choose metrics accordingly.  \n",
    "- **Tune hyperparameters carefully:** use cross‑validation; keep a clean test set.  \n",
    "- **Communicate clearly:** show performance, uncertainty, and how the model will be used.\n"
   ]
  }
 ],
 "metadata": {
  "kernelspec": {
   "display_name": "base",
   "language": "python",
   "name": "python3"
  },
  "language_info": {
   "codemirror_mode": {
    "name": "ipython",
    "version": 3
   },
   "file_extension": ".py",
   "mimetype": "text/x-python",
   "name": "python",
   "nbconvert_exporter": "python",
   "pygments_lexer": "ipython3",
   "version": "3.13.5"
  }
 },
 "nbformat": 4,
 "nbformat_minor": 5
}
